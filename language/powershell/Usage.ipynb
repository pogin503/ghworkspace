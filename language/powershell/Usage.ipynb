{
 "cells": [
  {
   "cell_type": "code",
   "execution_count": 2,
   "metadata": {},
   "outputs": [
    {
     "name": "stdout",
     "output_type": "stream",
     "text": [
      "# is null or empty\n",
      "[string]::IsNullOrEmpty(\"\")\n",
      "True\n",
      "[string]::IsNullOrEmpty($null)\n",
      "True\n",
      "\n"
     ]
    }
   ],
   "source": [
    "# is null or empty\n",
    "[string]::IsNullOrEmpty(\"\")\n",
    "[string]::IsNullOrEmpty($null)"
   ]
  },
  {
   "cell_type": "code",
   "execution_count": 4,
   "metadata": {},
   "outputs": [
    {
     "name": "stdout",
     "output_type": "stream",
     "text": [
      "~/.zshrc\n",
      "\n",
      "\n"
     ]
    }
   ],
   "source": [
    "# \"${base%/}/${rel}\"\n",
    "Write-Output (Join-Path \"~/\" \".zshrc\")"
   ]
  },
  {
   "cell_type": "code",
   "execution_count": 25,
   "metadata": {
    "scrolled": true
   },
   "outputs": [
    {
     "name": "stdout",
     "output_type": "stream",
     "text": [
      "# dirname (readlink -f /Users/pogin/.bashrc)\n",
      "Write-Output (Split-Path -Parent \"/Users/pogin/.bashrc\")\n",
      "/Users/pogin\n",
      "\n"
     ]
    }
   ],
   "source": [
    "# dirname (readlink -f /Users/pogin/.bashrc)\n",
    "Write-Output (Split-Path -Parent \"/Users/pogin/.bashrc\")"
   ]
  },
  {
   "cell_type": "code",
   "execution_count": 2,
   "metadata": {},
   "outputs": [
    {
     "name": "stdout",
     "output_type": "stream",
     "text": [
      "$x = 0\n",
      "while ($x -lt 5) {\n",
      ">>     $x += 1\n",
      ">>     Write-Output $x\n",
      ">> }\n",
      ">> \n",
      "1\n",
      "2\n",
      "3\n",
      "4\n",
      "5\n"
     ]
    }
   ],
   "source": [
    "$x = 0\n",
    "while ($x -lt 5) {\n",
    "    $x += 1\n",
    "    Write-Output $x\n",
    "}"
   ]
  },
  {
   "cell_type": "code",
   "execution_count": 3,
   "metadata": {},
   "outputs": [
    {
     "name": "stdout",
     "output_type": "stream",
     "text": [
      "$items = 1..10\n",
      "foreach ($item in $items) {\n",
      ">>     write-output $item\n",
      ">> }\n",
      ">> \n",
      "1\n",
      "2\n",
      "3\n",
      "4\n",
      "5\n",
      "6\n",
      "7\n",
      "8\n",
      "9\n",
      "10\n"
     ]
    }
   ],
   "source": [
    "$items = 1..10\n",
    "foreach ($item in $items) {\n",
    "    write-output $item\n",
    "}"
   ]
  },
  {
   "cell_type": "code",
   "execution_count": 5,
   "metadata": {},
   "outputs": [
    {
     "name": "stdout",
     "output_type": "stream",
     "text": [
      "5より小さい\n"
     ]
    }
   ],
   "source": [
    "# switch\n",
    "$i = 3\n",
    "switch ($i) {\n",
    "    1 {Write-Output \"1\"; break}\n",
    "    2 {Write-Output \"2\"; break}\n",
    "    {$_ -lt 5} {Write-Output \"5より小さい\"; break}\n",
    "    default {Write-Output \"default句\"; break}\n",
    "}"
   ]
  },
  {
   "cell_type": "code",
   "execution_count": 7,
   "metadata": {},
   "outputs": [
    {
     "name": "stdout",
     "output_type": "stream",
     "text": [
      "5より小さい\n",
      "$num1 = 1\n",
      "$num2 = 2\n",
      "$num1 -eq $num2 # == $num1は$num2と等しい\n",
      "False\n",
      "$num1 -ne $num2 # != $num1は$num2は等しくない\n",
      "True\n",
      "$num1 -lt $num2 # <  $num1は$num2より小さい\n",
      "True\n",
      "$num1 -gt $num2 # >  $num1は$num2より大きい\n",
      "False\n",
      "$num1 -le $num2 # <= $num1は$num2以下\n",
      "True\n"
     ]
    }
   ],
   "source": [
    "$num1 = 1\n",
    "$num2 = 2\n",
    "$num1 -eq $num2 # == $num1は$num2と等しい\n",
    "$num1 -ne $num2 # != $num1は$num2は等しくない\n",
    "$num1 -lt $num2 # <  $num1は$num2より小さい\n",
    "$num1 -gt $num2 # >  $num1は$num2より大きい\n",
    "$num1 -le $num2 # <= $num1は$num2以下\n",
    "$num1 -ge $num2 # >= $num1は$num2以上"
   ]
  },
  {
   "cell_type": "code",
   "execution_count": null,
   "metadata": {},
   "outputs": [],
   "source": []
  }
 ],
 "metadata": {
  "kernelspec": {
   "display_name": "PowerShell",
   "language": "powershell",
   "name": "powershell"
  },
  "language_info": {
   "codemirror_mode": "shell",
   "file_extension": ".ps1",
   "mimetype": "text/x-sh",
   "name": "powershell"
  }
 },
 "nbformat": 4,
 "nbformat_minor": 2
}
