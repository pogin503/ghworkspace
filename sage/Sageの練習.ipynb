{
 "cells": [
  {
   "cell_type": "code",
   "execution_count": 1,
   "id": "73284b73",
   "metadata": {},
   "outputs": [],
   "source": [
    "x = var('x')"
   ]
  },
  {
   "cell_type": "code",
   "execution_count": 19,
   "id": "da36a65f",
   "metadata": {},
   "outputs": [
    {
     "data": {
      "text/plain": [
       "[x == -2, x == -1]"
      ]
     },
     "execution_count": 19,
     "metadata": {},
     "output_type": "execute_result"
    }
   ],
   "source": [
    "# 方程式を解析的に解く\n",
    "solve(x^2 + 3*x + 2, x)"
   ]
  },
  {
   "cell_type": "code",
   "execution_count": 3,
   "id": "fabbf98d",
   "metadata": {},
   "outputs": [],
   "source": [
    "u = var('u')"
   ]
  },
  {
   "cell_type": "code",
   "execution_count": 4,
   "id": "3cf13a2f",
   "metadata": {
    "scrolled": true
   },
   "outputs": [
    {
     "data": {
      "text/plain": [
       "cos(u)"
      ]
     },
     "execution_count": 4,
     "metadata": {},
     "output_type": "execute_result"
    }
   ],
   "source": [
    "diff(sin(u), u)"
   ]
  },
  {
   "cell_type": "code",
   "execution_count": 5,
   "id": "d5c1a86b",
   "metadata": {},
   "outputs": [],
   "source": [
    "x, y = var('x,y')"
   ]
  },
  {
   "cell_type": "code",
   "execution_count": 6,
   "id": "de69ec39",
   "metadata": {},
   "outputs": [],
   "source": [
    "f = x^2 + 17*y^2"
   ]
  },
  {
   "cell_type": "code",
   "execution_count": 7,
   "id": "ce93562f",
   "metadata": {},
   "outputs": [
    {
     "data": {
      "text/plain": [
       "2*x"
      ]
     },
     "execution_count": 7,
     "metadata": {},
     "output_type": "execute_result"
    }
   ],
   "source": [
    "# xで微分\n",
    "f.diff(x)"
   ]
  },
  {
   "cell_type": "code",
   "execution_count": 8,
   "id": "767a0ec4",
   "metadata": {
    "scrolled": true
   },
   "outputs": [
    {
     "data": {
      "text/plain": [
       "34*y"
      ]
     },
     "execution_count": 8,
     "metadata": {},
     "output_type": "execute_result"
    }
   ],
   "source": [
    "# yで微分\n",
    "f.diff(y)"
   ]
  },
  {
   "cell_type": "code",
   "execution_count": 23,
   "id": "f20b7c21",
   "metadata": {},
   "outputs": [
    {
     "data": {
      "text/plain": [
       "-1/2*cos(x^2)"
      ]
     },
     "execution_count": 23,
     "metadata": {},
     "output_type": "execute_result"
    }
   ],
   "source": [
    "# (x*sin(x^2)) / xの積分\n",
    "integral(x*sin(x^2), x)"
   ]
  },
  {
   "cell_type": "code",
   "execution_count": 24,
   "id": "2c125c3e",
   "metadata": {},
   "outputs": [
    {
     "data": {
      "text/plain": [
       "1/2*log(2)"
      ]
     },
     "execution_count": 24,
     "metadata": {},
     "output_type": "execute_result"
    }
   ],
   "source": [
    "integral(x/(x^2+1), x, 0, 1)"
   ]
  },
  {
   "cell_type": "markdown",
   "id": "bde6b56b",
   "metadata": {},
   "source": [
    "# ナップザック問題\n",
    "\n",
    "```python\n",
    "from sage.numerical.knapsack import knapsack\n",
    "knapsack( [(100, 200), (150, 100), (50, 300), (70, 250)], max=200 )\n",
    "```"
   ]
  },
  {
   "cell_type": "code",
   "execution_count": 9,
   "id": "f828db0e",
   "metadata": {},
   "outputs": [],
   "source": [
    "from sage.numerical.knapsack import knapsack"
   ]
  },
  {
   "cell_type": "code",
   "execution_count": 10,
   "id": "a15f0ab9",
   "metadata": {},
   "outputs": [
    {
     "data": {
      "text/plain": [
       "[550.0, [(50, 300), (70, 250)]]"
      ]
     },
     "execution_count": 10,
     "metadata": {},
     "output_type": "execute_result"
    }
   ],
   "source": [
    "knapsack( [(100, 200), (150, 100), (50, 300), (70, 250)], max=200 )"
   ]
  },
  {
   "cell_type": "markdown",
   "id": "9309542e",
   "metadata": {},
   "source": [
    "# 群を新しく定義する"
   ]
  },
  {
   "cell_type": "code",
   "execution_count": 12,
   "id": "e539131d",
   "metadata": {},
   "outputs": [
    {
     "data": {
      "text/plain": [
       "Permutation Group with generators [(3,4), (1,2,3)(4,5)]"
      ]
     },
     "execution_count": 12,
     "metadata": {},
     "output_type": "execute_result"
    }
   ],
   "source": [
    "G = PermutationGroup(['(1,2,3)(4,5)', '(3,4)'])\n",
    "G"
   ]
  },
  {
   "cell_type": "markdown",
   "id": "aaa85a9d",
   "metadata": {},
   "source": [
    "# 群の位数を表示する"
   ]
  },
  {
   "cell_type": "code",
   "execution_count": 13,
   "id": "894d41f8",
   "metadata": {},
   "outputs": [
    {
     "data": {
      "text/plain": [
       "120"
      ]
     },
     "execution_count": 13,
     "metadata": {},
     "output_type": "execute_result"
    }
   ],
   "source": [
    "G.order()"
   ]
  },
  {
   "cell_type": "markdown",
   "id": "90ddbd0b",
   "metadata": {},
   "source": [
    "# アーベル群かどうか"
   ]
  },
  {
   "cell_type": "code",
   "execution_count": 14,
   "id": "139e6a85",
   "metadata": {},
   "outputs": [
    {
     "data": {
      "text/plain": [
       "False"
      ]
     },
     "execution_count": 14,
     "metadata": {},
     "output_type": "execute_result"
    }
   ],
   "source": [
    "G.is_abelian()"
   ]
  },
  {
   "cell_type": "code",
   "execution_count": 15,
   "id": "0c94eaf7",
   "metadata": {},
   "outputs": [
    {
     "data": {
      "text/plain": [
       "[Subgroup generated by [(3,4), (1,2,3)(4,5)] of (Permutation Group with generators [(3,4), (1,2,3)(4,5)]),\n",
       " Subgroup generated by [(1,3)(2,4), (1,5)(3,4), (1,5)(2,4)] of (Permutation Group with generators [(3,4), (1,2,3)(4,5)])]"
      ]
     },
     "execution_count": 15,
     "metadata": {},
     "output_type": "execute_result"
    }
   ],
   "source": [
    "G.derived_series()"
   ]
  },
  {
   "cell_type": "code",
   "execution_count": 16,
   "id": "31db07ea",
   "metadata": {},
   "outputs": [
    {
     "data": {
      "text/plain": [
       "Subgroup generated by [()] of (Permutation Group with generators [(3,4), (1,2,3)(4,5)])"
      ]
     },
     "execution_count": 16,
     "metadata": {},
     "output_type": "execute_result"
    }
   ],
   "source": [
    "G.center()"
   ]
  },
  {
   "cell_type": "code",
   "execution_count": 17,
   "id": "d1a9c18a",
   "metadata": {},
   "outputs": [
    {
     "data": {
      "text/plain": [
       "(1,3,5)(2,4)"
      ]
     },
     "execution_count": 17,
     "metadata": {},
     "output_type": "execute_result"
    },
    {
     "name": "stderr",
     "output_type": "stream",
     "text": [
      "IOStream.flush timed out\n"
     ]
    }
   ],
   "source": [
    "G.random_element()"
   ]
  },
  {
   "cell_type": "code",
   "execution_count": 25,
   "id": "a4baca37",
   "metadata": {},
   "outputs": [
    {
     "name": "stdout",
     "output_type": "stream",
     "text": [
      "\\langle (3,4), (1,2,3)(4,5) \\rangle\n"
     ]
    }
   ],
   "source": [
    "print(latex(G))"
   ]
  },
  {
   "cell_type": "markdown",
   "id": "7298f1e2",
   "metadata": {},
   "source": [
    "# 環となる集合の定義\n",
    "- 有理数QQ\n",
    "  - tは変数名\n",
    "- 実数RR\n",
    "  - zは変数名\n",
    "- PolynomialRing\n",
    "  - 多項式環"
   ]
  },
  {
   "cell_type": "code",
   "execution_count": 28,
   "id": "b7f056e9",
   "metadata": {},
   "outputs": [],
   "source": [
    "ratpoly.<t> = PolynomialRing(QQ)\n",
    "# 実数\n",
    "realpoly.<z> = PolynomialRing(RR)"
   ]
  },
  {
   "cell_type": "markdown",
   "id": "83859fed",
   "metadata": {},
   "source": [
    "有限体、p-進数体、代数環、多項式環、行列環"
   ]
  },
  {
   "cell_type": "code",
   "execution_count": 33,
   "id": "6a1496b2",
   "metadata": {},
   "outputs": [
    {
     "data": {
      "text/plain": [
       "Finite Field of size 2"
      ]
     },
     "execution_count": 33,
     "metadata": {},
     "output_type": "execute_result"
    }
   ],
   "source": [
    "GF(2)"
   ]
  },
  {
   "cell_type": "code",
   "execution_count": 34,
   "id": "0289dc94",
   "metadata": {},
   "outputs": [
    {
     "data": {
      "text/plain": [
       "<class 'sage.rings.finite_rings.finite_field_prime_modn.FiniteField_prime_modn_with_category'>"
      ]
     },
     "execution_count": 34,
     "metadata": {},
     "output_type": "execute_result"
    }
   ],
   "source": [
    "type(GF(2))"
   ]
  },
  {
   "cell_type": "code",
   "execution_count": 29,
   "id": "feb9f36f",
   "metadata": {
    "scrolled": true
   },
   "outputs": [
    {
     "data": {
      "text/plain": [
       "Finite Field of size 3"
      ]
     },
     "execution_count": 29,
     "metadata": {},
     "output_type": "execute_result"
    }
   ],
   "source": [
    "GF(3)"
   ]
  },
  {
   "cell_type": "code",
   "execution_count": 30,
   "id": "7b3a98f6",
   "metadata": {},
   "outputs": [
    {
     "data": {
      "text/plain": [
       "Finite Field in a of size 3^3"
      ]
     },
     "execution_count": 30,
     "metadata": {},
     "output_type": "execute_result"
    }
   ],
   "source": [
    "GF(27, 'a')"
   ]
  },
  {
   "cell_type": "code",
   "execution_count": 31,
   "id": "1a5e4bcc",
   "metadata": {
    "scrolled": false
   },
   "outputs": [
    {
     "data": {
      "text/plain": [
       "5-adic Ring with capped relative precision 20"
      ]
     },
     "execution_count": 31,
     "metadata": {},
     "output_type": "execute_result"
    }
   ],
   "source": [
    "# 素数体でなければ生成元の命名が必要\n",
    "Zp(5)"
   ]
  },
  {
   "cell_type": "code",
   "execution_count": 32,
   "id": "d4ffcb0d",
   "metadata": {},
   "outputs": [
    {
     "data": {
      "text/plain": [
       "True"
      ]
     },
     "execution_count": 32,
     "metadata": {},
     "output_type": "execute_result"
    }
   ],
   "source": [
    "# QQの代数的閉包(拡大)\n",
    "sqrt(3) in QQbar"
   ]
  },
  {
   "cell_type": "markdown",
   "id": "eae96523",
   "metadata": {},
   "source": [
    "プラトンの立体と言われる12面体のグラフ(Dodecahedral Graph)を表示する"
   ]
  },
  {
   "cell_type": "code",
   "execution_count": 26,
   "id": "d50a488f",
   "metadata": {},
   "outputs": [
    {
     "data": {
      "text/html": [
       "\n",
       "<iframe srcdoc=\"<!DOCTYPE html>\n",
       "<html>\n",
       "<head>\n",
       "<title></title>\n",
       "<meta charset=&quot;utf-8&quot;>\n",
       "<meta name=viewport content=&quot;width=device-width, user-scalable=no, minimum-scale=1.0, maximum-scale=1.0&quot;>\n",
       "<style>\n",
       "\n",
       "    body { margin: 0px; overflow: hidden; }\n",
       "\n",
       "    #menu-container { position: absolute; bottom: 30px; right: 40px; cursor: default; }\n",
       "\n",
       "    #menu-message { position: absolute; bottom: 0px; right: 0px; white-space: nowrap;\n",
       "                    display: none; background-color: #F5F5F5; padding: 10px; }\n",
       "\n",
       "    #menu-content { position: absolute; bottom: 0px; right: 0px;\n",
       "                    display: none; background-color: #F5F5F5; border-bottom: 1px solid black;\n",
       "                    border-right: 1px solid black; border-left: 1px solid black; }\n",
       "\n",
       "    #menu-content div { border-top: 1px solid black; padding: 10px; white-space: nowrap; }\n",
       "\n",
       "    #menu-content div:hover { background-color: #FEFEFE; }\n",
       "\n",
       "    .dark-theme #menu-container { color: white; }\n",
       "\n",
       "    .dark-theme #menu-message { background-color: #181818; }\n",
       "\n",
       "    .dark-theme #menu-content { background-color: #181818; border-color: white; }\n",
       "\n",
       "    .dark-theme #menu-content div { border-color: white; }\n",
       "\n",
       "    .dark-theme #menu-content div:hover { background-color: #303030; }\n",
       "\n",
       "</style>\n",
       "\n",
       "</head>\n",
       "\n",
       "<body>\n",
       "\n",
       "<script src=&quot;/nbextensions/threejs-sage/r122/three.min.js&quot;></script>\n",
       "<script>\n",
       "  if ( !window.THREE ) document.write(' \\\n",
       "<script src=&quot;https://cdn.jsdelivr.net/gh/sagemath/threejs-sage@r122/build/three.min.js&quot;><\\/script> \\\n",
       "            ');\n",
       "</script>\n",
       "        \n",
       "<script>\n",
       "\n",
       "    var options = {&quot;animate&quot;: false, &quot;animationControls&quot;: true, &quot;aspectRatio&quot;: [1.0, 1.0, 1.0], &quot;autoScaling&quot;: [false, false, false], &quot;autoPlay&quot;: true, &quot;axes&quot;: false, &quot;axesLabels&quot;: false, &quot;axesLabelsStyle&quot;: null, &quot;decimals&quot;: 2, &quot;delay&quot;: 20, &quot;frame&quot;: false, &quot;loop&quot;: true, &quot;projection&quot;: &quot;perspective&quot;, &quot;theme&quot;: &quot;light&quot;, &quot;viewpoint&quot;: false};\n",
       "    var animate = options.animate;\n",
       "\n",
       "    if ( options.theme === 'dark' )\n",
       "        document.body.className = 'dark-theme';\n",
       "\n",
       "    var scene = new THREE.Scene();\n",
       "\n",
       "    var renderer = new THREE.WebGLRenderer( { antialias: true, preserveDrawingBuffer: true } );\n",
       "    renderer.setPixelRatio( window.devicePixelRatio );\n",
       "    renderer.setSize( window.innerWidth, window.innerHeight );\n",
       "    renderer.setClearColor( options.theme === 'dark' ? 0 : 0xffffff, 1 );\n",
       "    document.body.appendChild( renderer.domElement );\n",
       "\n",
       "    var b = [{&quot;x&quot;:0.94, &quot;y&quot;:-0.9038651215586468, &quot;z&quot;:-0.9660387081765442}, {&quot;x&quot;:2.7319763950957854, &quot;y&quot;:0.899094086753913, &quot;z&quot;:0.9845190082629489}]; // bounds\n",
       "\n",
       "    if ( b[0].x === b[1].x ) {\n",
       "        b[0].x -= 1;\n",
       "        b[1].x += 1;\n",
       "    }\n",
       "    if ( b[0].y === b[1].y ) {\n",
       "        b[0].y -= 1;\n",
       "        b[1].y += 1;\n",
       "    }\n",
       "    if ( b[0].z === b[1].z ) {\n",
       "        b[0].z -= 1;\n",
       "        b[1].z += 1;\n",
       "    }\n",
       "\n",
       "    var rxRange = Math.sqrt( Math.pow( b[1].z - b[0].z, 2 )\n",
       "                            + Math.pow( b[1].y - b[0].y, 2 ) );\n",
       "    var ryRange = Math.sqrt( Math.pow( b[1].x - b[0].x, 2 )\n",
       "                            + Math.pow( b[1].z - b[0].z, 2 ) );\n",
       "    var rzRange = Math.sqrt( Math.pow( b[1].x - b[0].x, 2 )\n",
       "                            + Math.pow( b[1].y - b[0].y, 2 ) );\n",
       "    var xRange = b[1].x - b[0].x;\n",
       "    var yRange = b[1].y - b[0].y;\n",
       "    var zRange = b[1].z - b[0].z;\n",
       "\n",
       "    var ar = options.aspectRatio;\n",
       "    var a = [ ar[0], ar[1], ar[2] ]; // aspect multipliers\n",
       "\n",
       "    var autoScaling = options.autoScaling;\n",
       "    var autoAspect = 2.5;\n",
       "    if ( xRange > autoAspect * rxRange && autoScaling[0] ) a[0] = autoAspect * rxRange / xRange;\n",
       "    if ( yRange > autoAspect * ryRange && autoScaling[1] ) a[1] = autoAspect * ryRange / yRange;\n",
       "    if ( zRange > autoAspect * rzRange && autoScaling[2] ) a[2] = autoAspect * rzRange / zRange;\n",
       "\n",
       "    // Distance from (xMid,yMid,zMid) to any corner of the bounding box, after applying aspectRatio\n",
       "    var midToCorner = Math.sqrt( a[0]*a[0]*xRange*xRange + a[1]*a[1]*yRange*yRange + a[2]*a[2]*zRange*zRange ) / 2;\n",
       "\n",
       "    var xMid = ( b[0].x + b[1].x ) / 2;\n",
       "    var yMid = ( b[0].y + b[1].y ) / 2;\n",
       "    var zMid = ( b[0].z + b[1].z ) / 2;\n",
       "\n",
       "    var box = new THREE.Geometry();\n",
       "    box.vertices.push( new THREE.Vector3( a[0]*b[0].x, a[1]*b[0].y, a[2]*b[0].z ) );\n",
       "    box.vertices.push( new THREE.Vector3( a[0]*b[1].x, a[1]*b[1].y, a[2]*b[1].z ) );\n",
       "    var boxMesh = new THREE.Line( box );\n",
       "    var boxColor = options.theme === 'dark' ? 'white' : 'black';\n",
       "    if ( options.frame ) scene.add( new THREE.BoxHelper( boxMesh, boxColor ) );\n",
       "\n",
       "    if ( options.axesLabels ) {\n",
       "\n",
       "        var d = options.decimals; // decimals\n",
       "        var offsetRatio = 0.1;\n",
       "        var al = options.axesLabels;\n",
       "        var als = options.axesLabelsStyle || [{}, {}, {}];\n",
       "\n",
       "        var offset = offsetRatio * a[1]*( b[1].y - b[0].y );\n",
       "        var xm = xMid.toFixed(d);\n",
       "        if ( /^-0.?0*$/.test(xm) ) xm = xm.substr(1);\n",
       "        addLabel( al[0] + '=' + xm, a[0]*xMid, a[1]*b[1].y+offset, a[2]*b[0].z, als[0] );\n",
       "        addLabel( ( b[0].x ).toFixed(d), a[0]*b[0].x, a[1]*b[1].y+offset, a[2]*b[0].z, als[0] );\n",
       "        addLabel( ( b[1].x ).toFixed(d), a[0]*b[1].x, a[1]*b[1].y+offset, a[2]*b[0].z, als[0] );\n",
       "\n",
       "        var offset = offsetRatio * a[0]*( b[1].x - b[0].x );\n",
       "        var ym = yMid.toFixed(d);\n",
       "        if ( /^-0.?0*$/.test(ym) ) ym = ym.substr(1);\n",
       "        addLabel( al[1] + '=' + ym, a[0]*b[1].x+offset, a[1]*yMid, a[2]*b[0].z, als[1] );\n",
       "        addLabel( ( b[0].y ).toFixed(d), a[0]*b[1].x+offset, a[1]*b[0].y, a[2]*b[0].z, als[1] );\n",
       "        addLabel( ( b[1].y ).toFixed(d), a[0]*b[1].x+offset, a[1]*b[1].y, a[2]*b[0].z, als[1] );\n",
       "\n",
       "        var offset = offsetRatio * a[1]*( b[1].y - b[0].y );\n",
       "        var zm = zMid.toFixed(d);\n",
       "        if ( /^-0.?0*$/.test(zm) ) zm = zm.substr(1);\n",
       "        addLabel( al[2] + '=' + zm, a[0]*b[1].x, a[1]*b[0].y-offset, a[2]*zMid, als[2] );\n",
       "        addLabel( ( b[0].z ).toFixed(d), a[0]*b[1].x, a[1]*b[0].y-offset, a[2]*b[0].z, als[2] );\n",
       "        addLabel( ( b[1].z ).toFixed(d), a[0]*b[1].x, a[1]*b[0].y-offset, a[2]*b[1].z, als[2] );\n",
       "\n",
       "    }\n",
       "\n",
       "    function addLabel( text, x, y, z, style ) {\n",
       "\n",
       "        var color = style.color || 'black';\n",
       "        var fontSize = style.fontSize || 14;\n",
       "        var fontFamily = style.fontFamily || 'monospace';\n",
       "        var fontStyle = style.fontStyle || 'normal';\n",
       "        var fontWeight = style.fontWeight || 'normal';\n",
       "        var opacity = style.opacity || 1;\n",
       "\n",
       "        if ( options.theme === 'dark' )\n",
       "            if ( color === 'black' || color === '#000000' )\n",
       "                color = 'white';\n",
       "\n",
       "        if ( Array.isArray( fontStyle ) ) {\n",
       "            fontFamily = fontFamily.map( function( f ) {\n",
       "                // Need to put quotes around fonts that have whitespace in their names.\n",
       "                return /\\s/.test( f ) ? '&quot;' + f + '&quot;' : f;\n",
       "            }).join(', ');\n",
       "        }\n",
       "\n",
       "        var canvas = document.createElement( 'canvas' );\n",
       "        var context = canvas.getContext( '2d' );\n",
       "        var pixelRatio = Math.round( window.devicePixelRatio );\n",
       "\n",
       "        // For example: italic bold 20px &quot;Times New Roman&quot;, Georgia, serif\n",
       "        var font = [fontStyle, fontWeight, fontSize + 'px', fontFamily].join(' ');\n",
       "\n",
       "        context.font = font;\n",
       "        var width = context.measureText( text ).width;\n",
       "        var height = fontSize;\n",
       "\n",
       "        // The dimensions of the canvas's underlying image data need to be powers\n",
       "        // of two in order for the resulting texture to support mipmapping.\n",
       "        canvas.width = THREE.MathUtils.ceilPowerOfTwo( width * pixelRatio );\n",
       "        canvas.height = THREE.MathUtils.ceilPowerOfTwo( height * pixelRatio );\n",
       "\n",
       "        // Re-compute the unscaled dimensions after the power of two conversion.\n",
       "        width = canvas.width / pixelRatio;\n",
       "        height = canvas.height / pixelRatio;\n",
       "\n",
       "        canvas.style.width = width + 'px';\n",
       "        canvas.style.height = height + 'px';\n",
       "\n",
       "        context.scale( pixelRatio, pixelRatio );\n",
       "        context.fillStyle = color;\n",
       "        context.font = font; // Must be set again after measureText.\n",
       "        context.textAlign = 'center';\n",
       "        context.textBaseline = 'middle';\n",
       "        context.fillText( text, width/2, height/2 );\n",
       "\n",
       "        var texture = new THREE.Texture( canvas );\n",
       "        texture.needsUpdate = true;\n",
       "\n",
       "        var materialOptions = { map: texture, sizeAttenuation: false, depthWrite: false };\n",
       "        if ( opacity < 1 ) {\n",
       "            // Setting opacity=1 would cause the texture's alpha component to be\n",
       "            // discarded, giving the text a black background instead of the\n",
       "            // background being transparent.\n",
       "            materialOptions.opacity = opacity;\n",
       "        }\n",
       "        var sprite = new THREE.Sprite( new THREE.SpriteMaterial( materialOptions ) );\n",
       "        sprite.position.set( x, y, z );\n",
       "\n",
       "        // Scaling factor, chosen somewhat arbitrarily so that the size of the text\n",
       "        // is consistent with previously generated plots.\n",
       "        var scale = 1/625;\n",
       "        if ( options.projection === 'orthographic' ) {\n",
       "            scale = midToCorner/256; // Needs to scale along with the plot itself.\n",
       "        }\n",
       "        sprite.scale.set( scale * width, scale * height, 1 );\n",
       "\n",
       "        scene.add( sprite );\n",
       "\n",
       "        return sprite;\n",
       "\n",
       "    }\n",
       "\n",
       "    if ( options.axes ) scene.add( new THREE.AxesHelper( Math.min( a[0]*b[1].x, a[1]*b[1].y, a[2]*b[1].z ) ) );\n",
       "\n",
       "    var camera = createCamera();\n",
       "    camera.up.set( 0, 0, 1 );\n",
       "    camera.position.set( a[0]*xMid, a[1]*yMid, a[2]*zMid );\n",
       "\n",
       "    var offset = new THREE.Vector3( a[0]*xRange, a[1]*yRange, a[2]*zRange );\n",
       "\n",
       "    if ( options.viewpoint ) {\n",
       "\n",
       "        var aa = options.viewpoint;\n",
       "        var axis = new THREE.Vector3( aa[0][0], aa[0][1], aa[0][2] ).normalize();\n",
       "        var angle = aa[1] * Math.PI / 180;\n",
       "        var q = new THREE.Quaternion().setFromAxisAngle( axis, angle ).inverse();\n",
       "\n",
       "        offset.set( 0, 0, offset.length() );\n",
       "        offset.applyQuaternion( q );\n",
       "\n",
       "    }\n",
       "\n",
       "    camera.position.add( offset );\n",
       "\n",
       "    function createCamera() {\n",
       "\n",
       "        var aspect = window.innerWidth / window.innerHeight;\n",
       "\n",
       "        // Scale the near and far clipping planes along with the overall plot size.\n",
       "        var nearClip = 0.01 * midToCorner;\n",
       "        var farClip = 100 * midToCorner;\n",
       "\n",
       "        if ( options.projection === 'orthographic' ) {\n",
       "            var camera = new THREE.OrthographicCamera( -1, 1, 1, -1, -farClip, farClip );\n",
       "            updateCameraAspect( camera, aspect );\n",
       "            return camera;\n",
       "        }\n",
       "\n",
       "        return new THREE.PerspectiveCamera( 45, aspect, nearClip, farClip );\n",
       "\n",
       "    }\n",
       "\n",
       "    function updateCameraAspect( camera, aspect ) {\n",
       "\n",
       "        if ( camera.isPerspectiveCamera ) {\n",
       "            camera.aspect = aspect;\n",
       "        } else if ( camera.isOrthographicCamera ) {\n",
       "            // Fit the camera frustum to the bounding box's diagonal so that the entire plot fits\n",
       "            // within at the default zoom level and camera position.\n",
       "            if ( aspect > 1 ) { // Wide window\n",
       "                camera.top = midToCorner;\n",
       "                camera.right = midToCorner * aspect;\n",
       "            } else { // Tall or square window\n",
       "                camera.top = midToCorner / aspect;\n",
       "                camera.right = midToCorner;\n",
       "            }\n",
       "            camera.bottom = -camera.top;\n",
       "            camera.left = -camera.right;\n",
       "        }\n",
       "\n",
       "        camera.updateProjectionMatrix();\n",
       "\n",
       "    }\n",
       "\n",
       "    var lights = [{&quot;x&quot;:-5, &quot;y&quot;:3, &quot;z&quot;:0, &quot;color&quot;:&quot;#7f7f7f&quot;, &quot;parent&quot;:&quot;camera&quot;}];\n",
       "    for ( var i=0 ; i < lights.length ; i++ ) {\n",
       "        var light = new THREE.DirectionalLight( lights[i].color, 1 );\n",
       "        light.position.set( a[0]*lights[i].x, a[1]*lights[i].y, a[2]*lights[i].z );\n",
       "        if ( lights[i].parent === 'camera' ) {\n",
       "            light.target.position.set( a[0]*xMid, a[1]*yMid, a[2]*zMid );\n",
       "            scene.add( light.target );\n",
       "            camera.add( light );\n",
       "        } else scene.add( light );\n",
       "    }\n",
       "    scene.add( camera );\n",
       "\n",
       "    var ambient = {&quot;color&quot;:&quot;#7f7f7f&quot;};\n",
       "    scene.add( new THREE.AmbientLight( ambient.color, 1 ) );\n",
       "\n",
       "    var controls = new THREE.OrbitControls( camera, renderer.domElement );\n",
       "    controls.target.set( a[0]*xMid, a[1]*yMid, a[2]*zMid );\n",
       "    controls.addEventListener( 'change', function() { if ( !animate ) render(); } );\n",
       "\n",
       "    window.addEventListener( 'resize', function() {\n",
       "\n",
       "        renderer.setSize( window.innerWidth, window.innerHeight );\n",
       "        updateCameraAspect( camera, window.innerWidth / window.innerHeight );\n",
       "        if ( window.rescaleFatLines ) rescaleFatLines();\n",
       "        if ( !animate ) render();\n",
       "\n",
       "    } );\n",
       "\n",
       "    var texts = [];\n",
       "    for ( var i=0 ; i < texts.length ; i++ ) addText( texts[i] );\n",
       "\n",
       "    function addText( json ) {\n",
       "        var sprite = addLabel( json.text, a[0]*json.x, a[1]*json.y, a[2]*json.z, json );\n",
       "        sprite.userData = json;\n",
       "    }\n",
       "\n",
       "    var points = [];\n",
       "    for ( var i=0 ; i < points.length ; i++ ) addPoint( points[i] );\n",
       "\n",
       "    function addPoint( json ) {\n",
       "\n",
       "        var geometry = new THREE.Geometry();\n",
       "        var v = json.point;\n",
       "        geometry.vertices.push( new THREE.Vector3( a[0]*v[0], a[1]*v[1], a[2]*v[2] ) );\n",
       "\n",
       "        var canvas = document.createElement( 'canvas' );\n",
       "        canvas.width = 128;\n",
       "        canvas.height = 128;\n",
       "\n",
       "        var context = canvas.getContext( '2d' );\n",
       "        context.arc( 64, 64, 64, 0, 2 * Math.PI );\n",
       "        context.fillStyle = json.color;\n",
       "        context.fill();\n",
       "\n",
       "        var texture = new THREE.Texture( canvas );\n",
       "        texture.needsUpdate = true;\n",
       "\n",
       "        var transparent = json.opacity < 1 ? true : false;\n",
       "        var size = camera.isOrthographicCamera ? json.size : json.size/100;\n",
       "        var material = new THREE.PointsMaterial( { size: size, map: texture,\n",
       "                                                   transparent: transparent, opacity: json.opacity,\n",
       "                                                   alphaTest: .1 } );\n",
       "\n",
       "        var c = new THREE.Vector3();\n",
       "        geometry.computeBoundingBox();\n",
       "        geometry.boundingBox.getCenter( c );\n",
       "        geometry.translate( -c.x, -c.y, -c.z );\n",
       "\n",
       "        var mesh = new THREE.Points( geometry, material );\n",
       "        mesh.position.set( c.x, c.y, c.z );\n",
       "        mesh.userData = json;\n",
       "        scene.add( mesh );\n",
       "\n",
       "    }\n",
       "\n",
       "    var lines = [];\n",
       "    for ( var i=0 ; i < lines.length ; i++ ) addLine( lines[i] );\n",
       "\n",
       "    function addLine( json ) {\n",
       "\n",
       "        var geometry = new THREE.Geometry();\n",
       "        for ( var i=0 ; i < json.points.length ; i++ ) {\n",
       "            var v = json.points[i];\n",
       "            geometry.vertices.push( new THREE.Vector3( a[0]*v[0], a[1]*v[1], a[2]*v[2] ) );\n",
       "        }\n",
       "\n",
       "        var c = new THREE.Vector3();\n",
       "        geometry.computeBoundingBox();\n",
       "        geometry.boundingBox.getCenter( c );\n",
       "        geometry.translate( -c.x, -c.y, -c.z );\n",
       "\n",
       "        var transparent = json.opacity < 1 ? true : false;\n",
       "        var materialOptions = { color: json.color, linewidth: json.linewidth,\n",
       "                                transparent: transparent, opacity: json.opacity };\n",
       "\n",
       "        var mesh;\n",
       "        if ( json.linewidth > 1 && window.createFatLineStrip ) {\n",
       "            mesh = createFatLineStrip( geometry, materialOptions );\n",
       "        } else {\n",
       "            var material = new THREE.LineBasicMaterial( materialOptions );\n",
       "            mesh = new THREE.Line( geometry, material );\n",
       "        }\n",
       "\n",
       "        mesh.position.set( c.x, c.y, c.z );\n",
       "        mesh.userData = json;\n",
       "        scene.add( mesh );\n",
       "\n",
       "    }\n",
       "\n",
       "    var surfaces = [{&quot;vertices&quot;: [{&quot;x&quot;: 0.9999999999999999, &quot;y&quot;: -0.32138271089386566, &quot;z&quot;: -0.29773973681189136}, {&quot;x&quot;: 1.015, &quot;y&quot;: -0.2954019487803325, &quot;z&quot;: -0.2897012610389577}, {&quot;x&quot;: 1.0299999999999998, &quot;y&quot;: -0.32138271089386566, &quot;z&quot;: -0.2897012610389577}, {&quot;x&quot;: 0.9849999999999999, &quot;y&quot;: -0.2954019487803325, &quot;z&quot;: -0.2897012610389577}, {&quot;x&quot;: 0.9699999999999999, &quot;y&quot;: -0.32138271089386566, &quot;z&quot;: -0.2897012610389577}, {&quot;x&quot;: 0.9849999999999999, &quot;y&quot;: -0.3473634730073988, &quot;z&quot;: -0.2897012610389577}, {&quot;x&quot;: 1.015, &quot;y&quot;: -0.34736347300739884, &quot;z&quot;: -0.2897012610389577}, {&quot;x&quot;: 1.025980762113533, &quot;y&quot;: -0.2763827108938657, &quot;z&quot;: -0.2677397368118914}, {&quot;x&quot;: 1.0519615242270661, &quot;y&quot;: -0.32138271089386566, &quot;z&quot;: -0.2677397368118914}, {&quot;x&quot;: 0.9740192378864667, &quot;y&quot;: -0.2763827108938657, &quot;z&quot;: -0.2677397368118914}, {&quot;x&quot;: 0.9480384757729335, &quot;y&quot;: -0.32138271089386566, &quot;z&quot;: -0.2677397368118914}, {&quot;x&quot;: 0.9740192378864667, &quot;y&quot;: -0.36638271089386565, &quot;z&quot;: -0.2677397368118914}, {&quot;x&quot;: 1.025980762113533, &quot;y&quot;: -0.36638271089386565, &quot;z&quot;: -0.2677397368118914}, {&quot;x&quot;: 1.0299999999999998, &quot;y&quot;: -0.2694211866667994, &quot;z&quot;: -0.2377397368118914}, {&quot;x&quot;: 1.0599999999999998, &quot;y&quot;: -0.32138271089386566, &quot;z&quot;: -0.2377397368118914}, {&quot;x&quot;: 0.9699999999999999, &quot;y&quot;: -0.2694211866667993, &quot;z&quot;: -0.2377397368118914}, {&quot;x&quot;: 0.94, &quot;y&quot;: -0.32138271089386566, &quot;z&quot;: -0.2377397368118914}, {&quot;x&quot;: 0.9699999999999999, &quot;y&quot;: -0.37334423512093196, &quot;z&quot;: -0.2377397368118914}, {&quot;x&quot;: 1.0299999999999998, &quot;y&quot;: -0.37334423512093196, &quot;z&quot;: -0.2377397368118914}, {&quot;x&quot;: 1.025980762113533, &quot;y&quot;: -0.2763827108938657, &quot;z&quot;: -0.2077397368118914}, {&quot;x&quot;: 1.0519615242270661, &quot;y&quot;: -0.32138271089386566, &quot;z&quot;: -0.2077397368118914}, {&quot;x&quot;: 0.9740192378864667, &quot;y&quot;: -0.2763827108938657, &quot;z&quot;: -0.2077397368118914}, {&quot;x&quot;: 0.9480384757729335, &quot;y&quot;: -0.32138271089386566, &quot;z&quot;: -0.2077397368118914}, {&quot;x&quot;: 0.9740192378864667, &quot;y&quot;: -0.36638271089386565, &quot;z&quot;: -0.2077397368118914}, {&quot;x&quot;: 1.025980762113533, &quot;y&quot;: -0.36638271089386565, &quot;z&quot;: -0.2077397368118914}, {&quot;x&quot;: 1.015, &quot;y&quot;: -0.2954019487803325, &quot;z&quot;: -0.18577821258482508}, {&quot;x&quot;: 1.0299999999999998, &quot;y&quot;: -0.32138271089386566, &quot;z&quot;: -0.18577821258482508}, {&quot;x&quot;: 0.9849999999999999, &quot;y&quot;: -0.2954019487803325, &quot;z&quot;: -0.18577821258482508}, {&quot;x&quot;: 0.9699999999999999, &quot;y&quot;: -0.32138271089386566, &quot;z&quot;: -0.18577821258482508}, {&quot;x&quot;: 0.9849999999999999, &quot;y&quot;: -0.3473634730073988, &quot;z&quot;: -0.18577821258482508}, {&quot;x&quot;: 1.015, &quot;y&quot;: -0.34736347300739884, &quot;z&quot;: -0.18577821258482508}, {&quot;x&quot;: 0.9999999999999999, &quot;y&quot;: -0.32138271089386566, &quot;z&quot;: -0.1777397368118914}], &quot;faces&quot;: [[0, 1, 2], [0, 3, 1], [0, 4, 3], [0, 5, 4], [0, 6, 5], [0, 2, 6], [2, 1, 7, 8], [1, 3, 9, 7], [3, 4, 10, 9], [4, 5, 11, 10], [5, 6, 12, 11], [6, 2, 8, 12], [8, 7, 13, 14], [7, 9, 15, 13], [9, 10, 16, 15], [10, 11, 17, 16], [11, 12, 18, 17], [12, 8, 14, 18], [14, 13, 19, 20], [13, 15, 21, 19], [15, 16, 22, 21], [16, 17, 23, 22], [17, 18, 24, 23], [18, 14, 20, 24], [20, 19, 25, 26], [19, 21, 27, 25], [21, 22, 28, 27], [22, 23, 29, 28], [23, 24, 30, 29], [24, 20, 26, 30], [26, 25, 31], [25, 27, 31], [27, 28, 31], [28, 29, 31], [29, 30, 31], [30, 26, 31]], &quot;color&quot;: &quot;#ff0000&quot;, &quot;opacity&quot;: 1.0}, {&quot;vertices&quot;: [{&quot;x&quot;: 1.1978723393633608, &quot;y&quot;: 0.09018722477901538, &quot;z&quot;: -0.8064162863689774}, {&quot;x&quot;: 1.2128723393633607, &quot;y&quot;: 0.11616798689254854, &quot;z&quot;: -0.7983778105960437}, {&quot;x&quot;: 1.2278723393633608, &quot;y&quot;: 0.09018722477901538, &quot;z&quot;: -0.7983778105960437}, {&quot;x&quot;: 1.182872339363361, &quot;y&quot;: 0.11616798689254854, &quot;z&quot;: -0.7983778105960437}, {&quot;x&quot;: 1.1678723393633608, &quot;y&quot;: 0.09018722477901538, &quot;z&quot;: -0.7983778105960437}, {&quot;x&quot;: 1.182872339363361, &quot;y&quot;: 0.06420646266548223, &quot;z&quot;: -0.7983778105960437}, {&quot;x&quot;: 1.2128723393633607, &quot;y&quot;: 0.06420646266548222, &quot;z&quot;: -0.7983778105960437}, {&quot;x&quot;: 1.2238531014768939, &quot;y&quot;: 0.13518722477901537, &quot;z&quot;: -0.7764162863689774}, {&quot;x&quot;: 1.2498338635904271, &quot;y&quot;: 0.09018722477901538, &quot;z&quot;: -0.7764162863689774}, {&quot;x&quot;: 1.1718915772498277, &quot;y&quot;: 0.13518722477901537, &quot;z&quot;: -0.7764162863689774}, {&quot;x&quot;: 1.1459108151362944, &quot;y&quot;: 0.09018722477901538, &quot;z&quot;: -0.7764162863689774}, {&quot;x&quot;: 1.1718915772498275, &quot;y&quot;: 0.0451872247790154, &quot;z&quot;: -0.7764162863689774}, {&quot;x&quot;: 1.2238531014768939, &quot;y&quot;: 0.045187224779015385, &quot;z&quot;: -0.7764162863689774}, {&quot;x&quot;: 1.2278723393633608, &quot;y&quot;: 0.14214874900608168, &quot;z&quot;: -0.7464162863689774}, {&quot;x&quot;: 1.2578723393633608, &quot;y&quot;: 0.09018722477901538, &quot;z&quot;: -0.7464162863689774}, {&quot;x&quot;: 1.1678723393633608, &quot;y&quot;: 0.1421487490060817, &quot;z&quot;: -0.7464162863689774}, {&quot;x&quot;: 1.1378723393633607, &quot;y&quot;: 0.09018722477901539, &quot;z&quot;: -0.7464162863689774}, {&quot;x&quot;: 1.1678723393633608, &quot;y&quot;: 0.03822570055194908, &quot;z&quot;: -0.7464162863689774}, {&quot;x&quot;: 1.2278723393633608, &quot;y&quot;: 0.038225700551949064, &quot;z&quot;: -0.7464162863689774}, {&quot;x&quot;: 1.2238531014768939, &quot;y&quot;: 0.13518722477901537, &quot;z&quot;: -0.7164162863689774}, {&quot;x&quot;: 1.2498338635904271, &quot;y&quot;: 0.09018722477901538, &quot;z&quot;: -0.7164162863689774}, {&quot;x&quot;: 1.1718915772498277, &quot;y&quot;: 0.1351872247790154, &quot;z&quot;: -0.7164162863689774}, {&quot;x&quot;: 1.1459108151362944, &quot;y&quot;: 0.09018722477901538, &quot;z&quot;: -0.7164162863689774}, {&quot;x&quot;: 1.1718915772498275, &quot;y&quot;: 0.04518722477901539, &quot;z&quot;: -0.7164162863689774}, {&quot;x&quot;: 1.2238531014768939, &quot;y&quot;: 0.04518722477901538, &quot;z&quot;: -0.7164162863689774}, {&quot;x&quot;: 1.2128723393633607, &quot;y&quot;: 0.11616798689254854, &quot;z&quot;: -0.694454762141911}, {&quot;x&quot;: 1.2278723393633608, &quot;y&quot;: 0.09018722477901538, &quot;z&quot;: -0.694454762141911}, {&quot;x&quot;: 1.182872339363361, &quot;y&quot;: 0.11616798689254854, &quot;z&quot;: -0.694454762141911}, {&quot;x&quot;: 1.1678723393633608, &quot;y&quot;: 0.09018722477901538, &quot;z&quot;: -0.694454762141911}, {&quot;x&quot;: 1.182872339363361, &quot;y&quot;: 0.06420646266548223, &quot;z&quot;: -0.694454762141911}, {&quot;x&quot;: 1.2128723393633607, &quot;y&quot;: 0.06420646266548222, &quot;z&quot;: -0.694454762141911}, {&quot;x&quot;: 1.1978723393633608, &quot;y&quot;: 0.09018722477901538, &quot;z&quot;: -0.6864162863689773}], &quot;faces&quot;: [[0, 1, 2], [0, 3, 1], [0, 4, 3], [0, 5, 4], [0, 6, 5], [0, 2, 6], [2, 1, 7, 8], [1, 3, 9, 7], [3, 4, 10, 9], [4, 5, 11, 10], [5, 6, 12, 11], [6, 2, 8, 12], [8, 7, 13, 14], [7, 9, 15, 13], [9, 10, 16, 15], [10, 11, 17, 16], [11, 12, 18, 17], [12, 8, 14, 18], [14, 13, 19, 20], [13, 15, 21, 19], [15, 16, 22, 21], [16, 17, 23, 22], [17, 18, 24, 23], [18, 14, 20, 24], [20, 19, 25, 26], [19, 21, 27, 25], [21, 22, 28, 27], [22, 23, 29, 28], [23, 24, 30, 29], [24, 20, 26, 30], [26, 25, 31], [25, 27, 31], [27, 28, 31], [28, 29, 31], [29, 30, 31], [30, 26, 31]], &quot;color&quot;: &quot;#ff0000&quot;, &quot;opacity&quot;: 1.0}, {&quot;vertices&quot;: [{&quot;x&quot;: 1.32501523623961, &quot;y&quot;: 0.7136111967959455, &quot;z&quot;: -0.5370496294281827}, {&quot;x&quot;: 1.3400152362396098, &quot;y&quot;: 0.7395919589094787, &quot;z&quot;: -0.529011153655249}, {&quot;x&quot;: 1.35501523623961, &quot;y&quot;: 0.7136111967959455, &quot;z&quot;: -0.529011153655249}, {&quot;x&quot;: 1.31001523623961, &quot;y&quot;: 0.7395919589094787, &quot;z&quot;: -0.529011153655249}, {&quot;x&quot;: 1.29501523623961, &quot;y&quot;: 0.7136111967959455, &quot;z&quot;: -0.529011153655249}, {&quot;x&quot;: 1.31001523623961, &quot;y&quot;: 0.6876304346824124, &quot;z&quot;: -0.529011153655249}, {&quot;x&quot;: 1.3400152362396098, &quot;y&quot;: 0.6876304346824124, &quot;z&quot;: -0.529011153655249}, {&quot;x&quot;: 1.350995998353143, &quot;y&quot;: 0.7586111967959456, &quot;z&quot;: -0.5070496294281827}, {&quot;x&quot;: 1.3769767604666763, &quot;y&quot;: 0.7136111967959455, &quot;z&quot;: -0.5070496294281827}, {&quot;x&quot;: 1.2990344741260769, &quot;y&quot;: 0.7586111967959456, &quot;z&quot;: -0.5070496294281827}, {&quot;x&quot;: 1.2730537120125436, &quot;y&quot;: 0.7136111967959455, &quot;z&quot;: -0.5070496294281827}, {&quot;x&quot;: 1.2990344741260766, &quot;y&quot;: 0.6686111967959456, &quot;z&quot;: -0.5070496294281827}, {&quot;x&quot;: 1.350995998353143, &quot;y&quot;: 0.6686111967959455, &quot;z&quot;: -0.5070496294281827}, {&quot;x&quot;: 1.35501523623961, &quot;y&quot;: 0.7655727210230119, &quot;z&quot;: -0.4770496294281827}, {&quot;x&quot;: 1.38501523623961, &quot;y&quot;: 0.7136111967959455, &quot;z&quot;: -0.4770496294281827}, {&quot;x&quot;: 1.29501523623961, &quot;y&quot;: 0.7655727210230119, &quot;z&quot;: -0.4770496294281827}, {&quot;x&quot;: 1.2650152362396099, &quot;y&quot;: 0.7136111967959455, &quot;z&quot;: -0.4770496294281827}, {&quot;x&quot;: 1.29501523623961, &quot;y&quot;: 0.6616496725688792, &quot;z&quot;: -0.4770496294281827}, {&quot;x&quot;: 1.35501523623961, &quot;y&quot;: 0.6616496725688792, &quot;z&quot;: -0.4770496294281827}, {&quot;x&quot;: 1.350995998353143, &quot;y&quot;: 0.7586111967959456, &quot;z&quot;: -0.4470496294281827}, {&quot;x&quot;: 1.3769767604666763, &quot;y&quot;: 0.7136111967959455, &quot;z&quot;: -0.4470496294281827}, {&quot;x&quot;: 1.2990344741260769, &quot;y&quot;: 0.7586111967959456, &quot;z&quot;: -0.4470496294281827}, {&quot;x&quot;: 1.2730537120125436, &quot;y&quot;: 0.7136111967959455, &quot;z&quot;: -0.4470496294281827}, {&quot;x&quot;: 1.2990344741260766, &quot;y&quot;: 0.6686111967959456, &quot;z&quot;: -0.4470496294281827}, {&quot;x&quot;: 1.350995998353143, &quot;y&quot;: 0.6686111967959455, &quot;z&quot;: -0.4470496294281827}, {&quot;x&quot;: 1.3400152362396098, &quot;y&quot;: 0.7395919589094787, &quot;z&quot;: -0.4250881052011164}, {&quot;x&quot;: 1.35501523623961, &quot;y&quot;: 0.7136111967959455, &quot;z&quot;: -0.4250881052011164}, {&quot;x&quot;: 1.31001523623961, &quot;y&quot;: 0.7395919589094787, &quot;z&quot;: -0.4250881052011164}, {&quot;x&quot;: 1.29501523623961, &quot;y&quot;: 0.7136111967959455, &quot;z&quot;: -0.4250881052011164}, {&quot;x&quot;: 1.31001523623961, &quot;y&quot;: 0.6876304346824124, &quot;z&quot;: -0.4250881052011164}, {&quot;x&quot;: 1.3400152362396098, &quot;y&quot;: 0.6876304346824124, &quot;z&quot;: -0.4250881052011164}, {&quot;x&quot;: 1.32501523623961, &quot;y&quot;: 0.7136111967959455, &quot;z&quot;: -0.4170496294281827}], &quot;faces&quot;: [[0, 1, 2], [0, 3, 1], [0, 4, 3], [0, 5, 4], [0, 6, 5], [0, 2, 6], [2, 1, 7, 8], [1, 3, 9, 7], [3, 4, 10, 9], [4, 5, 11, 10], [5, 6, 12, 11], [6, 2, 8, 12], [8, 7, 13, 14], [7, 9, 15, 13], [9, 10, 16, 15], [10, 11, 17, 16], [11, 12, 18, 17], [12, 8, 14, 18], [14, 13, 19, 20], [13, 15, 21, 19], [15, 16, 22, 21], [16, 17, 23, 22], [17, 18, 24, 23], [18, 14, 20, 24], [20, 19, 25, 26], [19, 21, 27, 25], [21, 22, 28, 27], [22, 23, 29, 28], [23, 24, 30, 29], [24, 20, 26, 30], [26, 25, 31], [25, 27, 31], [27, 28, 31], [28, 29, 31], [29, 30, 31], [30, 26, 31]], &quot;color&quot;: &quot;#ff0000&quot;, &quot;opacity&quot;: 1.0}, {&quot;vertices&quot;: [{&quot;x&quot;: 1.2112935044056237, &quot;y&quot;: 0.683533577255365, &quot;z&quot;: 0.13685611763914246}, {&quot;x&quot;: 1.2262935044056236, &quot;y&quot;: 0.7095143393688982, &quot;z&quot;: 0.14489459341207614}, {&quot;x&quot;: 1.2412935044056237, &quot;y&quot;: 0.683533577255365, &quot;z&quot;: 0.14489459341207614}, {&quot;x&quot;: 1.1962935044056238, &quot;y&quot;: 0.7095143393688982, &quot;z&quot;: 0.14489459341207614}, {&quot;x&quot;: 1.1812935044056236, &quot;y&quot;: 0.683533577255365, &quot;z&quot;: 0.14489459341207614}, {&quot;x&quot;: 1.1962935044056238, &quot;y&quot;: 0.6575528151418318, &quot;z&quot;: 0.14489459341207614}, {&quot;x&quot;: 1.2262935044056236, &quot;y&quot;: 0.6575528151418318, &quot;z&quot;: 0.14489459341207614}, {&quot;x&quot;: 1.2372742665191567, &quot;y&quot;: 0.728533577255365, &quot;z&quot;: 0.16685611763914246}, {&quot;x&quot;: 1.26325502863269, &quot;y&quot;: 0.683533577255365, &quot;z&quot;: 0.16685611763914246}, {&quot;x&quot;: 1.1853127422920906, &quot;y&quot;: 0.728533577255365, &quot;z&quot;: 0.16685611763914246}, {&quot;x&quot;: 1.1593319801785573, &quot;y&quot;: 0.683533577255365, &quot;z&quot;: 0.16685611763914246}, {&quot;x&quot;: 1.1853127422920904, &quot;y&quot;: 0.6385335772553651, &quot;z&quot;: 0.16685611763914246}, {&quot;x&quot;: 1.2372742665191567, &quot;y&quot;: 0.638533577255365, &quot;z&quot;: 0.16685611763914246}, {&quot;x&quot;: 1.2412935044056237, &quot;y&quot;: 0.7354951014824314, &quot;z&quot;: 0.19685611763914246}, {&quot;x&quot;: 1.2712935044056237, &quot;y&quot;: 0.683533577255365, &quot;z&quot;: 0.19685611763914246}, {&quot;x&quot;: 1.1812935044056236, &quot;y&quot;: 0.7354951014824314, &quot;z&quot;: 0.19685611763914246}, {&quot;x&quot;: 1.1512935044056236, &quot;y&quot;: 0.683533577255365, &quot;z&quot;: 0.19685611763914246}, {&quot;x&quot;: 1.1812935044056236, &quot;y&quot;: 0.6315720530282987, &quot;z&quot;: 0.19685611763914246}, {&quot;x&quot;: 1.2412935044056237, &quot;y&quot;: 0.6315720530282987, &quot;z&quot;: 0.19685611763914246}, {&quot;x&quot;: 1.2372742665191567, &quot;y&quot;: 0.728533577255365, &quot;z&quot;: 0.22685611763914246}, {&quot;x&quot;: 1.26325502863269, &quot;y&quot;: 0.683533577255365, &quot;z&quot;: 0.22685611763914246}, {&quot;x&quot;: 1.1853127422920906, &quot;y&quot;: 0.728533577255365, &quot;z&quot;: 0.22685611763914246}, {&quot;x&quot;: 1.1593319801785573, &quot;y&quot;: 0.683533577255365, &quot;z&quot;: 0.22685611763914246}, {&quot;x&quot;: 1.1853127422920904, &quot;y&quot;: 0.6385335772553651, &quot;z&quot;: 0.22685611763914246}, {&quot;x&quot;: 1.2372742665191567, &quot;y&quot;: 0.638533577255365, &quot;z&quot;: 0.22685611763914246}, {&quot;x&quot;: 1.2262935044056236, &quot;y&quot;: 0.7095143393688982, &quot;z&quot;: 0.24881764186620878}, {&quot;x&quot;: 1.2412935044056237, &quot;y&quot;: 0.683533577255365, &quot;z&quot;: 0.24881764186620878}, {&quot;x&quot;: 1.1962935044056238, &quot;y&quot;: 0.7095143393688982, &quot;z&quot;: 0.24881764186620878}, {&quot;x&quot;: 1.1812935044056236, &quot;y&quot;: 0.683533577255365, &quot;z&quot;: 0.24881764186620878}, {&quot;x&quot;: 1.1962935044056238, &quot;y&quot;: 0.6575528151418318, &quot;z&quot;: 0.24881764186620878}, {&quot;x&quot;: 1.2262935044056236, &quot;y&quot;: 0.6575528151418318, &quot;z&quot;: 0.24881764186620878}, {&quot;x&quot;: 1.2112935044056237, &quot;y&quot;: 0.683533577255365, &quot;z&quot;: 0.25685611763914246}], &quot;faces&quot;: [[0, 1, 2], [0, 3, 1], [0, 4, 3], [0, 5, 4], [0, 6, 5], [0, 2, 6], [2, 1, 7, 8], [1, 3, 9, 7], [3, 4, 10, 9], [4, 5, 11, 10], [5, 6, 12, 11], [6, 2, 8, 12], [8, 7, 13, 14], [7, 9, 15, 13], [9, 10, 16, 15], [10, 11, 17, 16], [11, 12, 18, 17], [12, 8, 14, 18], [14, 13, 19, 20], [13, 15, 21, 19], [15, 16, 22, 21], [16, 17, 23, 22], [17, 18, 24, 23], [18, 14, 20, 24], [20, 19, 25, 26], [19, 21, 27, 25], [21, 22, 28, 27], [22, 23, 29, 28], [23, 24, 30, 29], [24, 20, 26, 30], [26, 25, 31], [25, 27, 31], [27, 28, 31], [28, 29, 31], [29, 30, 31], [30, 26, 31]], &quot;color&quot;: &quot;#ff0000&quot;, &quot;opacity&quot;: 1.0}, {&quot;vertices&quot;: [{&quot;x&quot;: 1.7487314627991237, &quot;y&quot;: 0.7881248495246548, &quot;z&quot;: 0.4791769344927285}, {&quot;x&quot;: 1.7637314627991236, &quot;y&quot;: 0.814105611638188, &quot;z&quot;: 0.4872154102656622}, {&quot;x&quot;: 1.7787314627991238, &quot;y&quot;: 0.7881248495246548, &quot;z&quot;: 0.4872154102656622}, {&quot;x&quot;: 1.7337314627991238, &quot;y&quot;: 0.814105611638188, &quot;z&quot;: 0.4872154102656622}, {&quot;x&quot;: 1.7187314627991237, &quot;y&quot;: 0.7881248495246548, &quot;z&quot;: 0.4872154102656622}, {&quot;x&quot;: 1.7337314627991238, &quot;y&quot;: 0.7621440874111216, &quot;z&quot;: 0.4872154102656622}, {&quot;x&quot;: 1.7637314627991236, &quot;y&quot;: 0.7621440874111216, &quot;z&quot;: 0.4872154102656622}, {&quot;x&quot;: 1.7747122249126568, &quot;y&quot;: 0.8331248495246548, &quot;z&quot;: 0.5091769344927285}, {&quot;x&quot;: 1.80069298702619, &quot;y&quot;: 0.7881248495246548, &quot;z&quot;: 0.5091769344927285}, {&quot;x&quot;: 1.7227507006855907, &quot;y&quot;: 0.8331248495246548, &quot;z&quot;: 0.5091769344927285}, {&quot;x&quot;: 1.6967699385720574, &quot;y&quot;: 0.7881248495246548, &quot;z&quot;: 0.5091769344927285}, {&quot;x&quot;: 1.7227507006855904, &quot;y&quot;: 0.7431248495246549, &quot;z&quot;: 0.5091769344927285}, {&quot;x&quot;: 1.7747122249126568, &quot;y&quot;: 0.7431248495246547, &quot;z&quot;: 0.5091769344927285}, {&quot;x&quot;: 1.7787314627991238, &quot;y&quot;: 0.8400863737517211, &quot;z&quot;: 0.5391769344927285}, {&quot;x&quot;: 1.8087314627991238, &quot;y&quot;: 0.7881248495246548, &quot;z&quot;: 0.5391769344927285}, {&quot;x&quot;: 1.7187314627991237, &quot;y&quot;: 0.8400863737517211, &quot;z&quot;: 0.5391769344927285}, {&quot;x&quot;: 1.6887314627991237, &quot;y&quot;: 0.7881248495246548, &quot;z&quot;: 0.5391769344927285}, {&quot;x&quot;: 1.7187314627991237, &quot;y&quot;: 0.7361633252975884, &quot;z&quot;: 0.5391769344927285}, {&quot;x&quot;: 1.7787314627991238, &quot;y&quot;: 0.7361633252975884, &quot;z&quot;: 0.5391769344927285}, {&quot;x&quot;: 1.7747122249126568, &quot;y&quot;: 0.8331248495246548, &quot;z&quot;: 0.5691769344927285}, {&quot;x&quot;: 1.80069298702619, &quot;y&quot;: 0.7881248495246548, &quot;z&quot;: 0.5691769344927285}, {&quot;x&quot;: 1.7227507006855907, &quot;y&quot;: 0.8331248495246548, &quot;z&quot;: 0.5691769344927285}, {&quot;x&quot;: 1.6967699385720574, &quot;y&quot;: 0.7881248495246548, &quot;z&quot;: 0.5691769344927285}, {&quot;x&quot;: 1.7227507006855904, &quot;y&quot;: 0.7431248495246547, &quot;z&quot;: 0.5691769344927285}, {&quot;x&quot;: 1.7747122249126568, &quot;y&quot;: 0.7431248495246547, &quot;z&quot;: 0.5691769344927285}, {&quot;x&quot;: 1.7637314627991236, &quot;y&quot;: 0.814105611638188, &quot;z&quot;: 0.5911384587197949}, {&quot;x&quot;: 1.7787314627991238, &quot;y&quot;: 0.7881248495246548, &quot;z&quot;: 0.5911384587197949}, {&quot;x&quot;: 1.7337314627991238, &quot;y&quot;: 0.814105611638188, &quot;z&quot;: 0.5911384587197949}, {&quot;x&quot;: 1.7187314627991237, &quot;y&quot;: 0.7881248495246548, &quot;z&quot;: 0.5911384587197949}, {&quot;x&quot;: 1.7337314627991238, &quot;y&quot;: 0.7621440874111216, &quot;z&quot;: 0.5911384587197949}, {&quot;x&quot;: 1.7637314627991236, &quot;y&quot;: 0.7621440874111216, &quot;z&quot;: 0.5911384587197949}, {&quot;x&quot;: 1.7487314627991237, &quot;y&quot;: 0.7881248495246548, &quot;z&quot;: 0.5991769344927285}], &quot;faces&quot;: [[0, 1, 2], [0, 3, 1], [0, 4, 3], [0, 5, 4], [0, 6, 5], [0, 2, 6], [2, 1, 7, 8], [1, 3, 9, 7], [3, 4, 10, 9], [4, 5, 11, 10], [5, 6, 12, 11], [6, 2, 8, 12], [8, 7, 13, 14], [7, 9, 15, 13], [9, 10, 16, 15], [10, 11, 17, 16], [11, 12, 18, 17], [12, 8, 14, 18], [14, 13, 19, 20], [13, 15, 21, 19], [15, 16, 22, 21], [16, 17, 23, 22], [17, 18, 24, 23], [18, 14, 20, 24], [20, 19, 25, 26], [19, 21, 27, 25], [21, 22, 28, 27], [22, 23, 29, 28], [23, 24, 30, 29], [24, 20, 26, 30], [26, 25, 31], [25, 27, 31], [27, 28, 31], [28, 29, 31], [29, 30, 31], [30, 26, 31]], &quot;color&quot;: &quot;#ff0000&quot;, &quot;opacity&quot;: 1.0}, {&quot;vertices&quot;: [{&quot;x&quot;: 2.239880241818444, &quot;y&quot;: 0.8390940867539131, &quot;z&quot;: 0.038528330071771005}, {&quot;x&quot;: 2.254880241818444, &quot;y&quot;: 0.8650748488674462, &quot;z&quot;: 0.046566805844704684}, {&quot;x&quot;: 2.2698802418184436, &quot;y&quot;: 0.8390940867539131, &quot;z&quot;: 0.046566805844704684}, {&quot;x&quot;: 2.2248802418184437, &quot;y&quot;: 0.8650748488674462, &quot;z&quot;: 0.046566805844704684}, {&quot;x&quot;: 2.209880241818444, &quot;y&quot;: 0.8390940867539131, &quot;z&quot;: 0.046566805844704684}, {&quot;x&quot;: 2.2248802418184437, &quot;y&quot;: 0.8131133246403799, &quot;z&quot;: 0.046566805844704684}, {&quot;x&quot;: 2.254880241818444, &quot;y&quot;: 0.8131133246403799, &quot;z&quot;: 0.046566805844704684}, {&quot;x&quot;: 2.265861003931977, &quot;y&quot;: 0.8840940867539131, &quot;z&quot;: 0.068528330071771}, {&quot;x&quot;: 2.29184176604551, &quot;y&quot;: 0.8390940867539131, &quot;z&quot;: 0.068528330071771}, {&quot;x&quot;: 2.2138994797049105, &quot;y&quot;: 0.8840940867539131, &quot;z&quot;: 0.068528330071771}, {&quot;x&quot;: 2.1879187175913777, &quot;y&quot;: 0.8390940867539131, &quot;z&quot;: 0.068528330071771}, {&quot;x&quot;: 2.2138994797049105, &quot;y&quot;: 0.7940940867539131, &quot;z&quot;: 0.068528330071771}, {&quot;x&quot;: 2.265861003931977, &quot;y&quot;: 0.794094086753913, &quot;z&quot;: 0.068528330071771}, {&quot;x&quot;: 2.2698802418184436, &quot;y&quot;: 0.8910556109809794, &quot;z&quot;: 0.098528330071771}, {&quot;x&quot;: 2.299880241818444, &quot;y&quot;: 0.8390940867539131, &quot;z&quot;: 0.098528330071771}, {&quot;x&quot;: 2.209880241818444, &quot;y&quot;: 0.8910556109809794, &quot;z&quot;: 0.098528330071771}, {&quot;x&quot;: 2.1798802418184438, &quot;y&quot;: 0.8390940867539131, &quot;z&quot;: 0.098528330071771}, {&quot;x&quot;: 2.2098802418184436, &quot;y&quot;: 0.7871325625268467, &quot;z&quot;: 0.098528330071771}, {&quot;x&quot;: 2.2698802418184436, &quot;y&quot;: 0.7871325625268467, &quot;z&quot;: 0.098528330071771}, {&quot;x&quot;: 2.265861003931977, &quot;y&quot;: 0.8840940867539131, &quot;z&quot;: 0.128528330071771}, {&quot;x&quot;: 2.29184176604551, &quot;y&quot;: 0.8390940867539131, &quot;z&quot;: 0.128528330071771}, {&quot;x&quot;: 2.2138994797049105, &quot;y&quot;: 0.8840940867539131, &quot;z&quot;: 0.128528330071771}, {&quot;x&quot;: 2.1879187175913777, &quot;y&quot;: 0.8390940867539131, &quot;z&quot;: 0.128528330071771}, {&quot;x&quot;: 2.2138994797049105, &quot;y&quot;: 0.794094086753913, &quot;z&quot;: 0.128528330071771}, {&quot;x&quot;: 2.265861003931977, &quot;y&quot;: 0.794094086753913, &quot;z&quot;: 0.128528330071771}, {&quot;x&quot;: 2.254880241818444, &quot;y&quot;: 0.8650748488674462, &quot;z&quot;: 0.15048985429883732}, {&quot;x&quot;: 2.2698802418184436, &quot;y&quot;: 0.8390940867539131, &quot;z&quot;: 0.15048985429883732}, {&quot;x&quot;: 2.2248802418184437, &quot;y&quot;: 0.8650748488674462, &quot;z&quot;: 0.15048985429883732}, {&quot;x&quot;: 2.209880241818444, &quot;y&quot;: 0.8390940867539131, &quot;z&quot;: 0.15048985429883732}, {&quot;x&quot;: 2.2248802418184437, &quot;y&quot;: 0.8131133246403799, &quot;z&quot;: 0.15048985429883732}, {&quot;x&quot;: 2.254880241818444, &quot;y&quot;: 0.8131133246403799, &quot;z&quot;: 0.15048985429883732}, {&quot;x&quot;: 2.239880241818444, &quot;y&quot;: 0.8390940867539131, &quot;z&quot;: 0.158528330071771}], &quot;faces&quot;: [[0, 1, 2], [0, 3, 1], [0, 4, 3], [0, 5, 4], [0, 6, 5], [0, 2, 6], [2, 1, 7, 8], [1, 3, 9, 7], [3, 4, 10, 9], [4, 5, 11, 10], [5, 6, 12, 11], [6, 2, 8, 12], [8, 7, 13, 14], [7, 9, 15, 13], [9, 10, 16, 15], [10, 11, 17, 16], [11, 12, 18, 17], [12, 8, 14, 18], [14, 13, 19, 20], [13, 15, 21, 19], [15, 16, 22, 21], [16, 17, 23, 22], [17, 18, 24, 23], [18, 14, 20, 24], [20, 19, 25, 26], [19, 21, 27, 25], [21, 22, 28, 27], [22, 23, 29, 28], [23, 24, 30, 29], [24, 20, 26, 30], [26, 25, 31], [25, 27, 31], [27, 28, 31], [28, 29, 31], [29, 30, 31], [30, 26, 31]], &quot;color&quot;: &quot;#ff0000&quot;, &quot;opacity&quot;: 1.0}, {&quot;vertices&quot;: [{&quot;x&quot;: 1.9985565383744313, &quot;y&quot;: 0.8084265435234099, &quot;z&quot;: -0.5884815354523956}, {&quot;x&quot;: 2.013556538374431, &quot;y&quot;: 0.8344073056369431, &quot;z&quot;: -0.580443059679462}, {&quot;x&quot;: 2.0285565383744313, &quot;y&quot;: 0.8084265435234099, &quot;z&quot;: -0.580443059679462}, {&quot;x&quot;: 1.9835565383744314, &quot;y&quot;: 0.8344073056369431, &quot;z&quot;: -0.580443059679462}, {&quot;x&quot;: 1.9685565383744312, &quot;y&quot;: 0.8084265435234099, &quot;z&quot;: -0.580443059679462}, {&quot;x&quot;: 1.9835565383744314, &quot;y&quot;: 0.7824457814098768, &quot;z&quot;: -0.580443059679462}, {&quot;x&quot;: 2.013556538374431, &quot;y&quot;: 0.7824457814098768, &quot;z&quot;: -0.580443059679462}, {&quot;x&quot;: 2.0245373004879643, &quot;y&quot;: 0.85342654352341, &quot;z&quot;: -0.5584815354523956}, {&quot;x&quot;: 2.0505180626014976, &quot;y&quot;: 0.8084265435234099, &quot;z&quot;: -0.5584815354523956}, {&quot;x&quot;: 1.9725757762608982, &quot;y&quot;: 0.85342654352341, &quot;z&quot;: -0.5584815354523956}, {&quot;x&quot;: 1.946595014147365, &quot;y&quot;: 0.8084265435234099, &quot;z&quot;: -0.5584815354523956}, {&quot;x&quot;: 1.972575776260898, &quot;y&quot;: 0.76342654352341, &quot;z&quot;: -0.5584815354523956}, {&quot;x&quot;: 2.0245373004879643, &quot;y&quot;: 0.7634265435234099, &quot;z&quot;: -0.5584815354523956}, {&quot;x&quot;: 2.0285565383744313, &quot;y&quot;: 0.8603880677504763, &quot;z&quot;: -0.5284815354523956}, {&quot;x&quot;: 2.058556538374431, &quot;y&quot;: 0.8084265435234099, &quot;z&quot;: -0.5284815354523956}, {&quot;x&quot;: 1.9685565383744312, &quot;y&quot;: 0.8603880677504763, &quot;z&quot;: -0.5284815354523956}, {&quot;x&quot;: 1.9385565383744312, &quot;y&quot;: 0.8084265435234099, &quot;z&quot;: -0.5284815354523956}, {&quot;x&quot;: 1.9685565383744312, &quot;y&quot;: 0.7564650192963436, &quot;z&quot;: -0.5284815354523956}, {&quot;x&quot;: 2.0285565383744313, &quot;y&quot;: 0.7564650192963436, &quot;z&quot;: -0.5284815354523956}, {&quot;x&quot;: 2.0245373004879643, &quot;y&quot;: 0.85342654352341, &quot;z&quot;: -0.49848153545239565}, {&quot;x&quot;: 2.0505180626014976, &quot;y&quot;: 0.8084265435234099, &quot;z&quot;: -0.49848153545239565}, {&quot;x&quot;: 1.9725757762608982, &quot;y&quot;: 0.85342654352341, &quot;z&quot;: -0.49848153545239565}, {&quot;x&quot;: 1.946595014147365, &quot;y&quot;: 0.8084265435234099, &quot;z&quot;: -0.49848153545239565}, {&quot;x&quot;: 1.972575776260898, &quot;y&quot;: 0.76342654352341, &quot;z&quot;: -0.49848153545239565}, {&quot;x&quot;: 2.0245373004879643, &quot;y&quot;: 0.7634265435234099, &quot;z&quot;: -0.49848153545239565}, {&quot;x&quot;: 2.013556538374431, &quot;y&quot;: 0.8344073056369431, &quot;z&quot;: -0.4765200112253293}, {&quot;x&quot;: 2.0285565383744313, &quot;y&quot;: 0.8084265435234099, &quot;z&quot;: -0.4765200112253293}, {&quot;x&quot;: 1.9835565383744314, &quot;y&quot;: 0.8344073056369431, &quot;z&quot;: -0.4765200112253293}, {&quot;x&quot;: 1.9685565383744312, &quot;y&quot;: 0.8084265435234099, &quot;z&quot;: -0.4765200112253293}, {&quot;x&quot;: 1.9835565383744314, &quot;y&quot;: 0.7824457814098768, &quot;z&quot;: -0.4765200112253293}, {&quot;x&quot;: 2.013556538374431, &quot;y&quot;: 0.7824457814098768, &quot;z&quot;: -0.4765200112253293}, {&quot;x&quot;: 1.9985565383744313, &quot;y&quot;: 0.8084265435234099, &quot;z&quot;: -0.4684815354523956}], &quot;faces&quot;: [[0, 1, 2], [0, 3, 1], [0, 4, 3], [0, 5, 4], [0, 6, 5], [0, 2, 6], [2, 1, 7, 8], [1, 3, 9, 7], [3, 4, 10, 9], [4, 5, 11, 10], [5, 6, 12, 11], [6, 2, 8, 12], [8, 7, 13, 14], [7, 9, 15, 13], [9, 10, 16, 15], [10, 11, 17, 16], [11, 12, 18, 17], [12, 8, 14, 18], [14, 13, 19, 20], [13, 15, 21, 19], [15, 16, 22, 21], [16, 17, 23, 22], [17, 18, 24, 23], [18, 14, 20, 24], [20, 19, 25, 26], [19, 21, 27, 25], [21, 22, 28, 27], [22, 23, 29, 28], [23, 24, 30, 29], [24, 20, 26, 30], [26, 25, 31], [25, 27, 31], [27, 28, 31], [28, 29, 31], [29, 30, 31], [30, 26, 31]], &quot;color&quot;: &quot;#ff0000&quot;, &quot;opacity&quot;: 1.0}, {&quot;vertices&quot;: [{&quot;x&quot;: 2.269632151872011, &quot;y&quot;: 0.24183981340736038, &quot;z&quot;: -0.8097511268855588}, {&quot;x&quot;: 2.284632151872011, &quot;y&quot;: 0.26782057552089356, &quot;z&quot;: -0.8017126511126251}, {&quot;x&quot;: 2.299632151872011, &quot;y&quot;: 0.24183981340736038, &quot;z&quot;: -0.8017126511126251}, {&quot;x&quot;: 2.254632151872011, &quot;y&quot;: 0.26782057552089356, &quot;z&quot;: -0.8017126511126251}, {&quot;x&quot;: 2.2396321518720113, &quot;y&quot;: 0.24183981340736038, &quot;z&quot;: -0.8017126511126251}, {&quot;x&quot;: 2.254632151872011, &quot;y&quot;: 0.21585905129382724, &quot;z&quot;: -0.8017126511126251}, {&quot;x&quot;: 2.284632151872011, &quot;y&quot;: 0.21585905129382724, &quot;z&quot;: -0.8017126511126251}, {&quot;x&quot;: 2.2956129139855443, &quot;y&quot;: 0.28683981340736037, &quot;z&quot;: -0.7797511268855588}, {&quot;x&quot;: 2.321593676099077, &quot;y&quot;: 0.24183981340736038, &quot;z&quot;: -0.7797511268855588}, {&quot;x&quot;: 2.2436513897584778, &quot;y&quot;: 0.28683981340736037, &quot;z&quot;: -0.7797511268855588}, {&quot;x&quot;: 2.217670627644945, &quot;y&quot;: 0.24183981340736038, &quot;z&quot;: -0.7797511268855588}, {&quot;x&quot;: 2.2436513897584778, &quot;y&quot;: 0.1968398134073604, &quot;z&quot;: -0.7797511268855588}, {&quot;x&quot;: 2.2956129139855443, &quot;y&quot;: 0.1968398134073604, &quot;z&quot;: -0.7797511268855588}, {&quot;x&quot;: 2.299632151872011, &quot;y&quot;: 0.2938013376344267, &quot;z&quot;: -0.7497511268855588}, {&quot;x&quot;: 2.329632151872011, &quot;y&quot;: 0.24183981340736038, &quot;z&quot;: -0.7497511268855588}, {&quot;x&quot;: 2.2396321518720113, &quot;y&quot;: 0.29380133763442673, &quot;z&quot;: -0.7497511268855588}, {&quot;x&quot;: 2.209632151872011, &quot;y&quot;: 0.24183981340736038, &quot;z&quot;: -0.7497511268855588}, {&quot;x&quot;: 2.2396321518720113, &quot;y&quot;: 0.1898782891802941, &quot;z&quot;: -0.7497511268855588}, {&quot;x&quot;: 2.299632151872011, &quot;y&quot;: 0.18987828918029406, &quot;z&quot;: -0.7497511268855588}, {&quot;x&quot;: 2.2956129139855443, &quot;y&quot;: 0.28683981340736037, &quot;z&quot;: -0.7197511268855588}, {&quot;x&quot;: 2.321593676099077, &quot;y&quot;: 0.24183981340736038, &quot;z&quot;: -0.7197511268855588}, {&quot;x&quot;: 2.2436513897584778, &quot;y&quot;: 0.2868398134073604, &quot;z&quot;: -0.7197511268855588}, {&quot;x&quot;: 2.217670627644945, &quot;y&quot;: 0.24183981340736038, &quot;z&quot;: -0.7197511268855588}, {&quot;x&quot;: 2.2436513897584778, &quot;y&quot;: 0.1968398134073604, &quot;z&quot;: -0.7197511268855588}, {&quot;x&quot;: 2.2956129139855443, &quot;y&quot;: 0.1968398134073604, &quot;z&quot;: -0.7197511268855588}, {&quot;x&quot;: 2.284632151872011, &quot;y&quot;: 0.26782057552089356, &quot;z&quot;: -0.6977896026584924}, {&quot;x&quot;: 2.299632151872011, &quot;y&quot;: 0.24183981340736038, &quot;z&quot;: -0.6977896026584924}, {&quot;x&quot;: 2.254632151872011, &quot;y&quot;: 0.26782057552089356, &quot;z&quot;: -0.6977896026584924}, {&quot;x&quot;: 2.2396321518720113, &quot;y&quot;: 0.24183981340736038, &quot;z&quot;: -0.6977896026584924}, {&quot;x&quot;: 2.254632151872011, &quot;y&quot;: 0.21585905129382724, &quot;z&quot;: -0.6977896026584924}, {&quot;x&quot;: 2.284632151872011, &quot;y&quot;: 0.21585905129382724, &quot;z&quot;: -0.6977896026584924}, {&quot;x&quot;: 2.269632151872011, &quot;y&quot;: 0.24183981340736038, &quot;z&quot;: -0.6897511268855587}], &quot;faces&quot;: [[0, 1, 2], [0, 3, 1], [0, 4, 3], [0, 5, 4], [0, 6, 5], [0, 2, 6], [2, 1, 7, 8], [1, 3, 9, 7], [3, 4, 10, 9], [4, 5, 11, 10], [5, 6, 12, 11], [6, 2, 8, 12], [8, 7, 13, 14], [7, 9, 15, 13], [9, 10, 16, 15], [10, 11, 17, 16], [11, 12, 18, 17], [12, 8, 14, 18], [14, 13, 19, 20], [13, 15, 21, 19], [15, 16, 22, 21], [16, 17, 23, 22], [17, 18, 24, 23], [18, 14, 20, 24], [20, 19, 25, 26], [19, 21, 27, 25], [21, 22, 28, 27], [22, 23, 29, 28], [23, 24, 30, 29], [24, 20, 26, 30], [26, 25, 31], [25, 27, 31], [27, 28, 31], [28, 29, 31], [29, 30, 31], [30, 26, 31]], &quot;color&quot;: &quot;#ff0000&quot;, &quot;opacity&quot;: 1.0}, {&quot;vertices&quot;: [{&quot;x&quot;: 1.7748286078111015, &quot;y&quot;: -0.1706282240621701, &quot;z&quot;: -0.9660387081765442}, {&quot;x&quot;: 1.7898286078111014, &quot;y&quot;: -0.14464746194863695, &quot;z&quot;: -0.9580002324036107}, {&quot;x&quot;: 1.8048286078111015, &quot;y&quot;: -0.1706282240621701, &quot;z&quot;: -0.9580002324036107}, {&quot;x&quot;: 1.7598286078111016, &quot;y&quot;: -0.14464746194863692, &quot;z&quot;: -0.9580002324036107}, {&quot;x&quot;: 1.7448286078111015, &quot;y&quot;: -0.1706282240621701, &quot;z&quot;: -0.9580002324036107}, {&quot;x&quot;: 1.7598286078111016, &quot;y&quot;: -0.19660898617570324, &quot;z&quot;: -0.9580002324036107}, {&quot;x&quot;: 1.7898286078111014, &quot;y&quot;: -0.19660898617570324, &quot;z&quot;: -0.9580002324036107}, {&quot;x&quot;: 1.8008093699246346, &quot;y&quot;: -0.1256282240621701, &quot;z&quot;: -0.9360387081765443}, {&quot;x&quot;: 1.8267901320381679, &quot;y&quot;: -0.1706282240621701, &quot;z&quot;: -0.9360387081765443}, {&quot;x&quot;: 1.7488478456975685, &quot;y&quot;: -0.12562822406217009, &quot;z&quot;: -0.9360387081765443}, {&quot;x&quot;: 1.7228670835840352, &quot;y&quot;: -0.1706282240621701, &quot;z&quot;: -0.9360387081765443}, {&quot;x&quot;: 1.7488478456975682, &quot;y&quot;: -0.21562822406217008, &quot;z&quot;: -0.9360387081765443}, {&quot;x&quot;: 1.8008093699246346, &quot;y&quot;: -0.21562822406217008, &quot;z&quot;: -0.9360387081765443}, {&quot;x&quot;: 1.8048286078111015, &quot;y&quot;: -0.11866669983510378, &quot;z&quot;: -0.9060387081765443}, {&quot;x&quot;: 1.8348286078111016, &quot;y&quot;: -0.1706282240621701, &quot;z&quot;: -0.9060387081765443}, {&quot;x&quot;: 1.7448286078111015, &quot;y&quot;: -0.11866669983510378, &quot;z&quot;: -0.9060387081765443}, {&quot;x&quot;: 1.7148286078111015, &quot;y&quot;: -0.1706282240621701, &quot;z&quot;: -0.9060387081765443}, {&quot;x&quot;: 1.7448286078111015, &quot;y&quot;: -0.2225897482892364, &quot;z&quot;: -0.9060387081765443}, {&quot;x&quot;: 1.8048286078111015, &quot;y&quot;: -0.22258974828923642, &quot;z&quot;: -0.9060387081765443}, {&quot;x&quot;: 1.8008093699246346, &quot;y&quot;: -0.1256282240621701, &quot;z&quot;: -0.8760387081765443}, {&quot;x&quot;: 1.8267901320381679, &quot;y&quot;: -0.1706282240621701, &quot;z&quot;: -0.8760387081765443}, {&quot;x&quot;: 1.7488478456975685, &quot;y&quot;: -0.12562822406217009, &quot;z&quot;: -0.8760387081765443}, {&quot;x&quot;: 1.7228670835840352, &quot;y&quot;: -0.1706282240621701, &quot;z&quot;: -0.8760387081765443}, {&quot;x&quot;: 1.7488478456975682, &quot;y&quot;: -0.21562822406217008, &quot;z&quot;: -0.8760387081765443}, {&quot;x&quot;: 1.8008093699246346, &quot;y&quot;: -0.21562822406217008, &quot;z&quot;: -0.8760387081765443}, {&quot;x&quot;: 1.7898286078111014, &quot;y&quot;: -0.14464746194863695, &quot;z&quot;: -0.854077183949478}, {&quot;x&quot;: 1.8048286078111015, &quot;y&quot;: -0.1706282240621701, &quot;z&quot;: -0.854077183949478}, {&quot;x&quot;: 1.7598286078111016, &quot;y&quot;: -0.14464746194863692, &quot;z&quot;: -0.854077183949478}, {&quot;x&quot;: 1.7448286078111015, &quot;y&quot;: -0.1706282240621701, &quot;z&quot;: -0.854077183949478}, {&quot;x&quot;: 1.7598286078111016, &quot;y&quot;: -0.19660898617570324, &quot;z&quot;: -0.854077183949478}, {&quot;x&quot;: 1.7898286078111014, &quot;y&quot;: -0.19660898617570324, &quot;z&quot;: -0.854077183949478}, {&quot;x&quot;: 1.7748286078111015, &quot;y&quot;: -0.1706282240621701, &quot;z&quot;: -0.8460387081765444}], &quot;faces&quot;: [[0, 1, 2], [0, 3, 1], [0, 4, 3], [0, 5, 4], [0, 6, 5], [0, 2, 6], [2, 1, 7, 8], [1, 3, 9, 7], [3, 4, 10, 9], [4, 5, 11, 10], [5, 6, 12, 11], [6, 2, 8, 12], [8, 7, 13, 14], [7, 9, 15, 13], [9, 10, 16, 15], [10, 11, 17, 16], [11, 12, 18, 17], [12, 8, 14, 18], [14, 13, 19, 20], [13, 15, 21, 19], [15, 16, 22, 21], [16, 17, 23, 22], [17, 18, 24, 23], [18, 14, 20, 24], [20, 19, 25, 26], [19, 21, 27, 25], [21, 22, 28, 27], [22, 23, 29, 28], [23, 24, 30, 29], [24, 20, 26, 30], [26, 25, 31], [25, 27, 31], [27, 28, 31], [28, 29, 31], [29, 30, 31], [30, 26, 31]], &quot;color&quot;: &quot;#ff0000&quot;, &quot;opacity&quot;: 1.0}, {&quot;vertices&quot;: [{&quot;x&quot;: 1.9124275430175757, &quot;y&quot;: -0.7589363535590161, &quot;z&quot;: -0.6420011244779449}, {&quot;x&quot;: 1.9274275430175756, &quot;y&quot;: -0.732955591445483, &quot;z&quot;: -0.6339626487050113}, {&quot;x&quot;: 1.9424275430175757, &quot;y&quot;: -0.7589363535590161, &quot;z&quot;: -0.6339626487050113}, {&quot;x&quot;: 1.8974275430175758, &quot;y&quot;: -0.732955591445483, &quot;z&quot;: -0.6339626487050113}, {&quot;x&quot;: 1.8824275430175756, &quot;y&quot;: -0.7589363535590161, &quot;z&quot;: -0.6339626487050113}, {&quot;x&quot;: 1.8974275430175758, &quot;y&quot;: -0.7849171156725493, &quot;z&quot;: -0.6339626487050113}, {&quot;x&quot;: 1.9274275430175756, &quot;y&quot;: -0.7849171156725493, &quot;z&quot;: -0.6339626487050113}, {&quot;x&quot;: 1.9384083051311087, &quot;y&quot;: -0.7139363535590161, &quot;z&quot;: -0.612001124477945}, {&quot;x&quot;: 1.964389067244642, &quot;y&quot;: -0.7589363535590161, &quot;z&quot;: -0.612001124477945}, {&quot;x&quot;: 1.8864467809040426, &quot;y&quot;: -0.7139363535590161, &quot;z&quot;: -0.612001124477945}, {&quot;x&quot;: 1.8604660187905093, &quot;y&quot;: -0.7589363535590161, &quot;z&quot;: -0.612001124477945}, {&quot;x&quot;: 1.8864467809040424, &quot;y&quot;: -0.803936353559016, &quot;z&quot;: -0.612001124477945}, {&quot;x&quot;: 1.9384083051311087, &quot;y&quot;: -0.8039363535590162, &quot;z&quot;: -0.612001124477945}, {&quot;x&quot;: 1.9424275430175757, &quot;y&quot;: -0.7069748293319498, &quot;z&quot;: -0.5820011244779449}, {&quot;x&quot;: 1.9724275430175757, &quot;y&quot;: -0.7589363535590161, &quot;z&quot;: -0.5820011244779449}, {&quot;x&quot;: 1.8824275430175756, &quot;y&quot;: -0.7069748293319498, &quot;z&quot;: -0.5820011244779449}, {&quot;x&quot;: 1.8524275430175756, &quot;y&quot;: -0.7589363535590161, &quot;z&quot;: -0.5820011244779449}, {&quot;x&quot;: 1.8824275430175756, &quot;y&quot;: -0.8108978777860825, &quot;z&quot;: -0.5820011244779449}, {&quot;x&quot;: 1.9424275430175757, &quot;y&quot;: -0.8108978777860825, &quot;z&quot;: -0.5820011244779449}, {&quot;x&quot;: 1.9384083051311087, &quot;y&quot;: -0.7139363535590161, &quot;z&quot;: -0.5520011244779449}, {&quot;x&quot;: 1.964389067244642, &quot;y&quot;: -0.7589363535590161, &quot;z&quot;: -0.5520011244779449}, {&quot;x&quot;: 1.8864467809040426, &quot;y&quot;: -0.7139363535590161, &quot;z&quot;: -0.5520011244779449}, {&quot;x&quot;: 1.8604660187905093, &quot;y&quot;: -0.7589363535590161, &quot;z&quot;: -0.5520011244779449}, {&quot;x&quot;: 1.8864467809040424, &quot;y&quot;: -0.803936353559016, &quot;z&quot;: -0.5520011244779449}, {&quot;x&quot;: 1.9384083051311087, &quot;y&quot;: -0.8039363535590162, &quot;z&quot;: -0.5520011244779449}, {&quot;x&quot;: 1.9274275430175756, &quot;y&quot;: -0.732955591445483, &quot;z&quot;: -0.5300396002508786}, {&quot;x&quot;: 1.9424275430175757, &quot;y&quot;: -0.7589363535590161, &quot;z&quot;: -0.5300396002508786}, {&quot;x&quot;: 1.8974275430175758, &quot;y&quot;: -0.732955591445483, &quot;z&quot;: -0.5300396002508786}, {&quot;x&quot;: 1.8824275430175756, &quot;y&quot;: -0.7589363535590161, &quot;z&quot;: -0.5300396002508786}, {&quot;x&quot;: 1.8974275430175758, &quot;y&quot;: -0.7849171156725493, &quot;z&quot;: -0.5300396002508786}, {&quot;x&quot;: 1.9274275430175756, &quot;y&quot;: -0.7849171156725493, &quot;z&quot;: -0.5300396002508786}, {&quot;x&quot;: 1.9124275430175757, &quot;y&quot;: -0.7589363535590161, &quot;z&quot;: -0.522001124477945}], &quot;faces&quot;: [[0, 1, 2], [0, 3, 1], [0, 4, 3], [0, 5, 4], [0, 6, 5], [0, 2, 6], [2, 1, 7, 8], [1, 3, 9, 7], [3, 4, 10, 9], [4, 5, 11, 10], [5, 6, 12, 11], [6, 2, 8, 12], [8, 7, 13, 14], [7, 9, 15, 13], [9, 10, 16, 15], [10, 11, 17, 16], [11, 12, 18, 17], [12, 8, 14, 18], [14, 13, 19, 20], [13, 15, 21, 19], [15, 16, 22, 21], [16, 17, 23, 22], [17, 18, 24, 23], [18, 14, 20, 24], [20, 19, 25, 26], [19, 21, 27, 25], [21, 22, 28, 27], [22, 23, 29, 28], [23, 24, 30, 29], [24, 20, 26, 30], [26, 25, 31], [25, 27, 31], [27, 28, 31], [28, 29, 31], [29, 30, 31], [30, 26, 31]], &quot;color&quot;: &quot;#ff0000&quot;, &quot;opacity&quot;: 1.0}, {&quot;vertices&quot;: [{&quot;x&quot;: 1.4199551640795771, &quot;y&quot;: -0.8438651215586469, &quot;z&quot;: -0.20652933187105785}, {&quot;x&quot;: 1.434955164079577, &quot;y&quot;: -0.8178843594451137, &quot;z&quot;: -0.19849085609812417}, {&quot;x&quot;: 1.4499551640795771, &quot;y&quot;: -0.8438651215586469, &quot;z&quot;: -0.19849085609812417}, {&quot;x&quot;: 1.4049551640795772, &quot;y&quot;: -0.8178843594451137, &quot;z&quot;: -0.19849085609812417}, {&quot;x&quot;: 1.389955164079577, &quot;y&quot;: -0.8438651215586469, &quot;z&quot;: -0.19849085609812417}, {&quot;x&quot;: 1.4049551640795772, &quot;y&quot;: -0.8698458836721801, &quot;z&quot;: -0.19849085609812417}, {&quot;x&quot;: 1.434955164079577, &quot;y&quot;: -0.8698458836721801, &quot;z&quot;: -0.19849085609812417}, {&quot;x&quot;: 1.4459359261931102, &quot;y&quot;: -0.7988651215586469, &quot;z&quot;: -0.17652933187105785}, {&quot;x&quot;: 1.4719166883066435, &quot;y&quot;: -0.8438651215586469, &quot;z&quot;: -0.17652933187105785}, {&quot;x&quot;: 1.393974401966044, &quot;y&quot;: -0.7988651215586469, &quot;z&quot;: -0.17652933187105785}, {&quot;x&quot;: 1.3679936398525108, &quot;y&quot;: -0.8438651215586469, &quot;z&quot;: -0.17652933187105785}, {&quot;x&quot;: 1.3939744019660438, &quot;y&quot;: -0.8888651215586468, &quot;z&quot;: -0.17652933187105785}, {&quot;x&quot;: 1.4459359261931102, &quot;y&quot;: -0.8888651215586469, &quot;z&quot;: -0.17652933187105785}, {&quot;x&quot;: 1.4499551640795771, &quot;y&quot;: -0.7919035973315806, &quot;z&quot;: -0.14652933187105785}, {&quot;x&quot;: 1.4799551640795772, &quot;y&quot;: -0.8438651215586469, &quot;z&quot;: -0.14652933187105785}, {&quot;x&quot;: 1.389955164079577, &quot;y&quot;: -0.7919035973315806, &quot;z&quot;: -0.14652933187105785}, {&quot;x&quot;: 1.359955164079577, &quot;y&quot;: -0.8438651215586469, &quot;z&quot;: -0.14652933187105785}, {&quot;x&quot;: 1.389955164079577, &quot;y&quot;: -0.8958266457857132, &quot;z&quot;: -0.14652933187105785}, {&quot;x&quot;: 1.4499551640795771, &quot;y&quot;: -0.8958266457857132, &quot;z&quot;: -0.14652933187105785}, {&quot;x&quot;: 1.4459359261931102, &quot;y&quot;: -0.7988651215586469, &quot;z&quot;: -0.11652933187105786}, {&quot;x&quot;: 1.4719166883066435, &quot;y&quot;: -0.8438651215586469, &quot;z&quot;: -0.11652933187105786}, {&quot;x&quot;: 1.393974401966044, &quot;y&quot;: -0.7988651215586469, &quot;z&quot;: -0.11652933187105786}, {&quot;x&quot;: 1.3679936398525108, &quot;y&quot;: -0.8438651215586469, &quot;z&quot;: -0.11652933187105786}, {&quot;x&quot;: 1.3939744019660438, &quot;y&quot;: -0.8888651215586469, &quot;z&quot;: -0.11652933187105786}, {&quot;x&quot;: 1.4459359261931102, &quot;y&quot;: -0.8888651215586469, &quot;z&quot;: -0.11652933187105786}, {&quot;x&quot;: 1.434955164079577, &quot;y&quot;: -0.8178843594451137, &quot;z&quot;: -0.09456780764399153}, {&quot;x&quot;: 1.4499551640795771, &quot;y&quot;: -0.8438651215586469, &quot;z&quot;: -0.09456780764399153}, {&quot;x&quot;: 1.4049551640795772, &quot;y&quot;: -0.8178843594451137, &quot;z&quot;: -0.09456780764399153}, {&quot;x&quot;: 1.389955164079577, &quot;y&quot;: -0.8438651215586469, &quot;z&quot;: -0.09456780764399153}, {&quot;x&quot;: 1.4049551640795772, &quot;y&quot;: -0.8698458836721801, &quot;z&quot;: -0.09456780764399153}, {&quot;x&quot;: 1.434955164079577, &quot;y&quot;: -0.8698458836721801, &quot;z&quot;: -0.09456780764399153}, {&quot;x&quot;: 1.4199551640795771, &quot;y&quot;: -0.8438651215586469, &quot;z&quot;: -0.08652933187105785}], &quot;faces&quot;: [[0, 1, 2], [0, 3, 1], [0, 4, 3], [0, 5, 4], [0, 6, 5], [0, 2, 6], [2, 1, 7, 8], [1, 3, 9, 7], [3, 4, 10, 9], [4, 5, 11, 10], [5, 6, 12, 11], [6, 2, 8, 12], [8, 7, 13, 14], [7, 9, 15, 13], [9, 10, 16, 15], [10, 11, 17, 16], [11, 12, 18, 17], [12, 8, 14, 18], [14, 13, 19, 20], [13, 15, 21, 19], [15, 16, 22, 21], [16, 17, 23, 22], [17, 18, 24, 23], [18, 14, 20, 24], [20, 19, 25, 26], [19, 21, 27, 25], [21, 22, 28, 27], [22, 23, 29, 28], [23, 24, 30, 29], [24, 20, 26, 30], [26, 25, 31], [25, 27, 31], [27, 28, 31], [28, 29, 31], [29, 30, 31], [30, 26, 31]], &quot;color&quot;: &quot;#ff0000&quot;, &quot;opacity&quot;: 1.0}, {&quot;vertices&quot;: [{&quot;x&quot;: 1.68631966647897, &quot;y&quot;: -0.8158739520771482, &quot;z&quot;: 0.4010856632905342}, {&quot;x&quot;: 1.7013196664789698, &quot;y&quot;: -0.789893189963615, &quot;z&quot;: 0.4091241390634679}, {&quot;x&quot;: 1.71631966647897, &quot;y&quot;: -0.8158739520771482, &quot;z&quot;: 0.4091241390634679}, {&quot;x&quot;: 1.67131966647897, &quot;y&quot;: -0.789893189963615, &quot;z&quot;: 0.4091241390634679}, {&quot;x&quot;: 1.6563196664789699, &quot;y&quot;: -0.8158739520771482, &quot;z&quot;: 0.4091241390634679}, {&quot;x&quot;: 1.67131966647897, &quot;y&quot;: -0.8418547141906814, &quot;z&quot;: 0.4091241390634679}, {&quot;x&quot;: 1.7013196664789698, &quot;y&quot;: -0.8418547141906814, &quot;z&quot;: 0.4091241390634679}, {&quot;x&quot;: 1.712300428592503, &quot;y&quot;: -0.7708739520771482, &quot;z&quot;: 0.4310856632905342}, {&quot;x&quot;: 1.7382811907060363, &quot;y&quot;: -0.8158739520771482, &quot;z&quot;: 0.4310856632905342}, {&quot;x&quot;: 1.6603389043654369, &quot;y&quot;: -0.7708739520771482, &quot;z&quot;: 0.4310856632905342}, {&quot;x&quot;: 1.6343581422519036, &quot;y&quot;: -0.8158739520771482, &quot;z&quot;: 0.4310856632905342}, {&quot;x&quot;: 1.6603389043654366, &quot;y&quot;: -0.8608739520771481, &quot;z&quot;: 0.4310856632905342}, {&quot;x&quot;: 1.712300428592503, &quot;y&quot;: -0.8608739520771482, &quot;z&quot;: 0.4310856632905342}, {&quot;x&quot;: 1.71631966647897, &quot;y&quot;: -0.7639124278500818, &quot;z&quot;: 0.4610856632905342}, {&quot;x&quot;: 1.74631966647897, &quot;y&quot;: -0.8158739520771482, &quot;z&quot;: 0.4610856632905342}, {&quot;x&quot;: 1.6563196664789699, &quot;y&quot;: -0.7639124278500818, &quot;z&quot;: 0.4610856632905342}, {&quot;x&quot;: 1.6263196664789699, &quot;y&quot;: -0.8158739520771482, &quot;z&quot;: 0.4610856632905342}, {&quot;x&quot;: 1.6563196664789699, &quot;y&quot;: -0.8678354763042145, &quot;z&quot;: 0.4610856632905342}, {&quot;x&quot;: 1.71631966647897, &quot;y&quot;: -0.8678354763042145, &quot;z&quot;: 0.4610856632905342}, {&quot;x&quot;: 1.712300428592503, &quot;y&quot;: -0.7708739520771482, &quot;z&quot;: 0.49108566329053416}, {&quot;x&quot;: 1.7382811907060363, &quot;y&quot;: -0.8158739520771482, &quot;z&quot;: 0.49108566329053416}, {&quot;x&quot;: 1.6603389043654369, &quot;y&quot;: -0.7708739520771482, &quot;z&quot;: 0.49108566329053416}, {&quot;x&quot;: 1.6343581422519036, &quot;y&quot;: -0.8158739520771482, &quot;z&quot;: 0.49108566329053416}, {&quot;x&quot;: 1.6603389043654366, &quot;y&quot;: -0.8608739520771482, &quot;z&quot;: 0.49108566329053416}, {&quot;x&quot;: 1.712300428592503, &quot;y&quot;: -0.8608739520771482, &quot;z&quot;: 0.49108566329053416}, {&quot;x&quot;: 1.7013196664789698, &quot;y&quot;: -0.789893189963615, &quot;z&quot;: 0.5130471875176005}, {&quot;x&quot;: 1.71631966647897, &quot;y&quot;: -0.8158739520771482, &quot;z&quot;: 0.5130471875176005}, {&quot;x&quot;: 1.67131966647897, &quot;y&quot;: -0.789893189963615, &quot;z&quot;: 0.5130471875176005}, {&quot;x&quot;: 1.6563196664789699, &quot;y&quot;: -0.8158739520771482, &quot;z&quot;: 0.5130471875176005}, {&quot;x&quot;: 1.67131966647897, &quot;y&quot;: -0.8418547141906814, &quot;z&quot;: 0.5130471875176005}, {&quot;x&quot;: 1.7013196664789698, &quot;y&quot;: -0.8418547141906814, &quot;z&quot;: 0.5130471875176005}, {&quot;x&quot;: 1.68631966647897, &quot;y&quot;: -0.8158739520771482, &quot;z&quot;: 0.5210856632905342}], &quot;faces&quot;: [[0, 1, 2], [0, 3, 1], [0, 4, 3], [0, 5, 4], [0, 6, 5], [0, 2, 6], [2, 1, 7, 8], [1, 3, 9, 7], [3, 4, 10, 9], [4, 5, 11, 10], [5, 6, 12, 11], [6, 2, 8, 12], [8, 7, 13, 14], [7, 9, 15, 13], [9, 10, 16, 15], [10, 11, 17, 16], [11, 12, 18, 17], [12, 8, 14, 18], [14, 13, 19, 20], [13, 15, 21, 19], [15, 16, 22, 21], [16, 17, 23, 22], [17, 18, 24, 23], [18, 14, 20, 24], [20, 19, 25, 26], [19, 21, 27, 25], [21, 22, 28, 27], [22, 23, 29, 28], [23, 24, 30, 29], [24, 20, 26, 30], [26, 25, 31], [25, 27, 31], [27, 28, 31], [28, 29, 31], [29, 30, 31], [30, 26, 31]], &quot;color&quot;: &quot;#ff0000&quot;, &quot;opacity&quot;: 1.0}, {&quot;vertices&quot;: [{&quot;x&quot;: 2.3472011427841255, &quot;y&quot;: -0.7131472547539573, &quot;z&quot;: 0.4195618171073995}, {&quot;x&quot;: 2.3622011427841256, &quot;y&quot;: -0.6871664926404242, &quot;z&quot;: 0.4276002928803332}, {&quot;x&quot;: 2.3772011427841253, &quot;y&quot;: -0.7131472547539573, &quot;z&quot;: 0.4276002928803332}, {&quot;x&quot;: 2.3322011427841254, &quot;y&quot;: -0.6871664926404242, &quot;z&quot;: 0.4276002928803332}, {&quot;x&quot;: 2.3172011427841257, &quot;y&quot;: -0.7131472547539573, &quot;z&quot;: 0.4276002928803332}, {&quot;x&quot;: 2.3322011427841254, &quot;y&quot;: -0.7391280168674905, &quot;z&quot;: 0.4276002928803332}, {&quot;x&quot;: 2.3622011427841256, &quot;y&quot;: -0.7391280168674905, &quot;z&quot;: 0.4276002928803332}, {&quot;x&quot;: 2.373181904897659, &quot;y&quot;: -0.6681472547539573, &quot;z&quot;: 0.4495618171073995}, {&quot;x&quot;: 2.3991626670111916, &quot;y&quot;: -0.7131472547539573, &quot;z&quot;: 0.4495618171073995}, {&quot;x&quot;: 2.321220380670592, &quot;y&quot;: -0.6681472547539573, &quot;z&quot;: 0.4495618171073995}, {&quot;x&quot;: 2.2952396185570594, &quot;y&quot;: -0.7131472547539573, &quot;z&quot;: 0.4495618171073995}, {&quot;x&quot;: 2.321220380670592, &quot;y&quot;: -0.7581472547539573, &quot;z&quot;: 0.4495618171073995}, {&quot;x&quot;: 2.373181904897659, &quot;y&quot;: -0.7581472547539574, &quot;z&quot;: 0.4495618171073995}, {&quot;x&quot;: 2.3772011427841253, &quot;y&quot;: -0.661185730526891, &quot;z&quot;: 0.4795618171073995}, {&quot;x&quot;: 2.4072011427841256, &quot;y&quot;: -0.7131472547539573, &quot;z&quot;: 0.4795618171073995}, {&quot;x&quot;: 2.3172011427841257, &quot;y&quot;: -0.661185730526891, &quot;z&quot;: 0.4795618171073995}, {&quot;x&quot;: 2.2872011427841255, &quot;y&quot;: -0.7131472547539573, &quot;z&quot;: 0.4795618171073995}, {&quot;x&quot;: 2.3172011427841257, &quot;y&quot;: -0.7651087789810237, &quot;z&quot;: 0.4795618171073995}, {&quot;x&quot;: 2.3772011427841253, &quot;y&quot;: -0.7651087789810237, &quot;z&quot;: 0.4795618171073995}, {&quot;x&quot;: 2.373181904897659, &quot;y&quot;: -0.6681472547539573, &quot;z&quot;: 0.5095618171073995}, {&quot;x&quot;: 2.3991626670111916, &quot;y&quot;: -0.7131472547539573, &quot;z&quot;: 0.5095618171073995}, {&quot;x&quot;: 2.321220380670592, &quot;y&quot;: -0.6681472547539573, &quot;z&quot;: 0.5095618171073995}, {&quot;x&quot;: 2.2952396185570594, &quot;y&quot;: -0.7131472547539573, &quot;z&quot;: 0.5095618171073995}, {&quot;x&quot;: 2.321220380670592, &quot;y&quot;: -0.7581472547539574, &quot;z&quot;: 0.5095618171073995}, {&quot;x&quot;: 2.373181904897659, &quot;y&quot;: -0.7581472547539574, &quot;z&quot;: 0.5095618171073995}, {&quot;x&quot;: 2.3622011427841256, &quot;y&quot;: -0.6871664926404242, &quot;z&quot;: 0.5315233413344658}, {&quot;x&quot;: 2.3772011427841253, &quot;y&quot;: -0.7131472547539573, &quot;z&quot;: 0.5315233413344658}, {&quot;x&quot;: 2.3322011427841254, &quot;y&quot;: -0.6871664926404242, &quot;z&quot;: 0.5315233413344658}, {&quot;x&quot;: 2.3172011427841257, &quot;y&quot;: -0.7131472547539573, &quot;z&quot;: 0.5315233413344658}, {&quot;x&quot;: 2.3322011427841254, &quot;y&quot;: -0.7391280168674905, &quot;z&quot;: 0.5315233413344658}, {&quot;x&quot;: 2.3622011427841256, &quot;y&quot;: -0.7391280168674905, &quot;z&quot;: 0.5315233413344658}, {&quot;x&quot;: 2.3472011427841255, &quot;y&quot;: -0.7131472547539573, &quot;z&quot;: 0.5395618171073995}], &quot;faces&quot;: [[0, 1, 2], [0, 3, 1], [0, 4, 3], [0, 5, 4], [0, 6, 5], [0, 2, 6], [2, 1, 7, 8], [1, 3, 9, 7], [3, 4, 10, 9], [4, 5, 11, 10], [5, 6, 12, 11], [6, 2, 8, 12], [8, 7, 13, 14], [7, 9, 15, 13], [9, 10, 16, 15], [10, 11, 17, 16], [11, 12, 18, 17], [12, 8, 14, 18], [14, 13, 19, 20], [13, 15, 21, 19], [15, 16, 22, 21], [16, 17, 23, 22], [17, 18, 24, 23], [18, 14, 20, 24], [20, 19, 25, 26], [19, 21, 27, 25], [21, 22, 28, 27], [22, 23, 29, 28], [23, 24, 30, 29], [24, 20, 26, 30], [26, 25, 31], [25, 27, 31], [27, 28, 31], [28, 29, 31], [29, 30, 31], [30, 26, 31]], &quot;color&quot;: &quot;#ff0000&quot;, &quot;opacity&quot;: 1.0}, {&quot;vertices&quot;: [{&quot;x&quot;: 2.4505839844552293, &quot;y&quot;: -0.6862473281468469, &quot;z&quot;: -0.2635357232316264}, {&quot;x&quot;: 2.4655839844552294, &quot;y&quot;: -0.6602665660333137, &quot;z&quot;: -0.25549724745869273}, {&quot;x&quot;: 2.480583984455229, &quot;y&quot;: -0.6862473281468469, &quot;z&quot;: -0.25549724745869273}, {&quot;x&quot;: 2.435583984455229, &quot;y&quot;: -0.6602665660333137, &quot;z&quot;: -0.25549724745869273}, {&quot;x&quot;: 2.4205839844552295, &quot;y&quot;: -0.6862473281468469, &quot;z&quot;: -0.25549724745869273}, {&quot;x&quot;: 2.435583984455229, &quot;y&quot;: -0.71222809026038, &quot;z&quot;: -0.25549724745869273}, {&quot;x&quot;: 2.4655839844552294, &quot;y&quot;: -0.71222809026038, &quot;z&quot;: -0.25549724745869273}, {&quot;x&quot;: 2.4765647465687626, &quot;y&quot;: -0.6412473281468468, &quot;z&quot;: -0.23353572323162639}, {&quot;x&quot;: 2.5025455086822954, &quot;y&quot;: -0.6862473281468469, &quot;z&quot;: -0.23353572323162639}, {&quot;x&quot;: 2.424603222341696, &quot;y&quot;: -0.6412473281468468, &quot;z&quot;: -0.23353572323162639}, {&quot;x&quot;: 2.398622460228163, &quot;y&quot;: -0.6862473281468469, &quot;z&quot;: -0.23353572323162639}, {&quot;x&quot;: 2.424603222341696, &quot;y&quot;: -0.7312473281468468, &quot;z&quot;: -0.23353572323162639}, {&quot;x&quot;: 2.4765647465687626, &quot;y&quot;: -0.7312473281468469, &quot;z&quot;: -0.23353572323162639}, {&quot;x&quot;: 2.480583984455229, &quot;y&quot;: -0.6342858039197805, &quot;z&quot;: -0.2035357232316264}, {&quot;x&quot;: 2.5105839844552293, &quot;y&quot;: -0.6862473281468469, &quot;z&quot;: -0.2035357232316264}, {&quot;x&quot;: 2.4205839844552295, &quot;y&quot;: -0.6342858039197805, &quot;z&quot;: -0.2035357232316264}, {&quot;x&quot;: 2.3905839844552292, &quot;y&quot;: -0.6862473281468469, &quot;z&quot;: -0.2035357232316264}, {&quot;x&quot;: 2.420583984455229, &quot;y&quot;: -0.7382088523739132, &quot;z&quot;: -0.2035357232316264}, {&quot;x&quot;: 2.480583984455229, &quot;y&quot;: -0.7382088523739132, &quot;z&quot;: -0.2035357232316264}, {&quot;x&quot;: 2.4765647465687626, &quot;y&quot;: -0.6412473281468468, &quot;z&quot;: -0.1735357232316264}, {&quot;x&quot;: 2.5025455086822954, &quot;y&quot;: -0.6862473281468469, &quot;z&quot;: -0.1735357232316264}, {&quot;x&quot;: 2.424603222341696, &quot;y&quot;: -0.6412473281468468, &quot;z&quot;: -0.1735357232316264}, {&quot;x&quot;: 2.398622460228163, &quot;y&quot;: -0.6862473281468469, &quot;z&quot;: -0.1735357232316264}, {&quot;x&quot;: 2.424603222341696, &quot;y&quot;: -0.7312473281468468, &quot;z&quot;: -0.1735357232316264}, {&quot;x&quot;: 2.4765647465687626, &quot;y&quot;: -0.7312473281468469, &quot;z&quot;: -0.1735357232316264}, {&quot;x&quot;: 2.4655839844552294, &quot;y&quot;: -0.6602665660333137, &quot;z&quot;: -0.15157419900456007}, {&quot;x&quot;: 2.480583984455229, &quot;y&quot;: -0.6862473281468469, &quot;z&quot;: -0.15157419900456007}, {&quot;x&quot;: 2.435583984455229, &quot;y&quot;: -0.6602665660333137, &quot;z&quot;: -0.15157419900456007}, {&quot;x&quot;: 2.4205839844552295, &quot;y&quot;: -0.6862473281468469, &quot;z&quot;: -0.15157419900456007}, {&quot;x&quot;: 2.435583984455229, &quot;y&quot;: -0.71222809026038, &quot;z&quot;: -0.15157419900456007}, {&quot;x&quot;: 2.4655839844552294, &quot;y&quot;: -0.71222809026038, &quot;z&quot;: -0.15157419900456007}, {&quot;x&quot;: 2.4505839844552293, &quot;y&quot;: -0.6862473281468469, &quot;z&quot;: -0.1435357232316264}], &quot;faces&quot;: [[0, 1, 2], [0, 3, 1], [0, 4, 3], [0, 5, 4], [0, 6, 5], [0, 2, 6], [2, 1, 7, 8], [1, 3, 9, 7], [3, 4, 10, 9], [4, 5, 11, 10], [5, 6, 12, 11], [6, 2, 8, 12], [8, 7, 13, 14], [7, 9, 15, 13], [9, 10, 16, 15], [10, 11, 17, 16], [11, 12, 18, 17], [12, 8, 14, 18], [14, 13, 19, 20], [13, 15, 21, 19], [15, 16, 22, 21], [16, 17, 23, 22], [17, 18, 24, 23], [18, 14, 20, 24], [20, 19, 25, 26], [19, 21, 27, 25], [21, 22, 28, 27], [22, 23, 29, 28], [23, 24, 30, 29], [24, 20, 26, 30], [26, 25, 31], [25, 27, 31], [27, 28, 31], [28, 29, 31], [29, 30, 31], [30, 26, 31]], &quot;color&quot;: &quot;#ff0000&quot;, &quot;opacity&quot;: 1.0}, {&quot;vertices&quot;: [{&quot;x&quot;: 2.6719763950957853, &quot;y&quot;: -0.05755609915513694, &quot;z&quot;: -0.347745627422904}, {&quot;x&quot;: 2.6869763950957855, &quot;y&quot;: -0.031575337041603785, &quot;z&quot;: -0.33970715164997034}, {&quot;x&quot;: 2.701976395095785, &quot;y&quot;: -0.05755609915513694, &quot;z&quot;: -0.33970715164997034}, {&quot;x&quot;: 2.656976395095785, &quot;y&quot;: -0.03157533704160378, &quot;z&quot;: -0.33970715164997034}, {&quot;x&quot;: 2.6419763950957855, &quot;y&quot;: -0.05755609915513693, &quot;z&quot;: -0.33970715164997034}, {&quot;x&quot;: 2.656976395095785, &quot;y&quot;: -0.08353686126867008, &quot;z&quot;: -0.33970715164997034}, {&quot;x&quot;: 2.6869763950957855, &quot;y&quot;: -0.08353686126867009, &quot;z&quot;: -0.33970715164997034}, {&quot;x&quot;: 2.6979571572093186, &quot;y&quot;: -0.012556099155136946, &quot;z&quot;: -0.317745627422904}, {&quot;x&quot;: 2.7239379193228515, &quot;y&quot;: -0.05755609915513694, &quot;z&quot;: -0.317745627422904}, {&quot;x&quot;: 2.645995632982252, &quot;y&quot;: -0.012556099155136932, &quot;z&quot;: -0.317745627422904}, {&quot;x&quot;: 2.620014870868719, &quot;y&quot;: -0.05755609915513693, &quot;z&quot;: -0.317745627422904}, {&quot;x&quot;: 2.645995632982252, &quot;y&quot;: -0.10255609915513691, &quot;z&quot;: -0.317745627422904}, {&quot;x&quot;: 2.6979571572093186, &quot;y&quot;: -0.10255609915513693, &quot;z&quot;: -0.317745627422904}, {&quot;x&quot;: 2.701976395095785, &quot;y&quot;: -0.005594574928070625, &quot;z&quot;: -0.287745627422904}, {&quot;x&quot;: 2.7319763950957854, &quot;y&quot;: -0.05755609915513694, &quot;z&quot;: -0.287745627422904}, {&quot;x&quot;: 2.6419763950957855, &quot;y&quot;: -0.005594574928070611, &quot;z&quot;: -0.287745627422904}, {&quot;x&quot;: 2.6119763950957853, &quot;y&quot;: -0.05755609915513693, &quot;z&quot;: -0.287745627422904}, {&quot;x&quot;: 2.641976395095785, &quot;y&quot;: -0.10951762338220324, &quot;z&quot;: -0.287745627422904}, {&quot;x&quot;: 2.701976395095785, &quot;y&quot;: -0.10951762338220325, &quot;z&quot;: -0.287745627422904}, {&quot;x&quot;: 2.6979571572093186, &quot;y&quot;: -0.01255609915513694, &quot;z&quot;: -0.257745627422904}, {&quot;x&quot;: 2.7239379193228515, &quot;y&quot;: -0.05755609915513694, &quot;z&quot;: -0.257745627422904}, {&quot;x&quot;: 2.645995632982252, &quot;y&quot;: -0.012556099155136925, &quot;z&quot;: -0.257745627422904}, {&quot;x&quot;: 2.620014870868719, &quot;y&quot;: -0.05755609915513693, &quot;z&quot;: -0.257745627422904}, {&quot;x&quot;: 2.645995632982252, &quot;y&quot;: -0.10255609915513691, &quot;z&quot;: -0.257745627422904}, {&quot;x&quot;: 2.6979571572093186, &quot;y&quot;: -0.10255609915513694, &quot;z&quot;: -0.257745627422904}, {&quot;x&quot;: 2.6869763950957855, &quot;y&quot;: -0.031575337041603785, &quot;z&quot;: -0.23578410319583767}, {&quot;x&quot;: 2.701976395095785, &quot;y&quot;: -0.05755609915513694, &quot;z&quot;: -0.23578410319583767}, {&quot;x&quot;: 2.656976395095785, &quot;y&quot;: -0.03157533704160378, &quot;z&quot;: -0.23578410319583767}, {&quot;x&quot;: 2.6419763950957855, &quot;y&quot;: -0.05755609915513693, &quot;z&quot;: -0.23578410319583767}, {&quot;x&quot;: 2.656976395095785, &quot;y&quot;: -0.08353686126867008, &quot;z&quot;: -0.23578410319583767}, {&quot;x&quot;: 2.6869763950957855, &quot;y&quot;: -0.08353686126867009, &quot;z&quot;: -0.23578410319583767}, {&quot;x&quot;: 2.6719763950957853, &quot;y&quot;: -0.05755609915513694, &quot;z&quot;: -0.227745627422904}], &quot;faces&quot;: [[0, 1, 2], [0, 3, 1], [0, 4, 3], [0, 5, 4], [0, 6, 5], [0, 2, 6], [2, 1, 7, 8], [1, 3, 9, 7], [3, 4, 10, 9], [4, 5, 11, 10], [5, 6, 12, 11], [6, 2, 8, 12], [8, 7, 13, 14], [7, 9, 15, 13], [9, 10, 16, 15], [10, 11, 17, 16], [11, 12, 18, 17], [12, 8, 14, 18], [14, 13, 19, 20], [13, 15, 21, 19], [15, 16, 22, 21], [16, 17, 23, 22], [17, 18, 24, 23], [18, 14, 20, 24], [20, 19, 25, 26], [19, 21, 27, 25], [21, 22, 28, 27], [22, 23, 29, 28], [23, 24, 30, 29], [24, 20, 26, 30], [26, 25, 31], [25, 27, 31], [27, 28, 31], [28, 29, 31], [29, 30, 31], [30, 26, 31]], &quot;color&quot;: &quot;#ff0000&quot;, &quot;opacity&quot;: 1.0}, {&quot;vertices&quot;: [{&quot;x&quot;: 2.6708537481256447, &quot;y&quot;: 0.3154948798461076, &quot;z&quot;: 0.21870750772484288}, {&quot;x&quot;: 2.685853748125645, &quot;y&quot;: 0.34147564195964075, &quot;z&quot;: 0.22674598349777655}, {&quot;x&quot;: 2.7008537481256445, &quot;y&quot;: 0.3154948798461076, &quot;z&quot;: 0.22674598349777655}, {&quot;x&quot;: 2.6558537481256446, &quot;y&quot;: 0.34147564195964075, &quot;z&quot;: 0.22674598349777655}, {&quot;x&quot;: 2.640853748125645, &quot;y&quot;: 0.3154948798461076, &quot;z&quot;: 0.22674598349777655}, {&quot;x&quot;: 2.6558537481256446, &quot;y&quot;: 0.2895141177325744, &quot;z&quot;: 0.22674598349777655}, {&quot;x&quot;: 2.685853748125645, &quot;y&quot;: 0.2895141177325744, &quot;z&quot;: 0.22674598349777655}, {&quot;x&quot;: 2.696834510239178, &quot;y&quot;: 0.36049487984610756, &quot;z&quot;: 0.24870750772484287}, {&quot;x&quot;: 2.722815272352711, &quot;y&quot;: 0.3154948798461076, &quot;z&quot;: 0.24870750772484287}, {&quot;x&quot;: 2.6448729860121114, &quot;y&quot;: 0.36049487984610756, &quot;z&quot;: 0.24870750772484287}, {&quot;x&quot;: 2.6188922238985786, &quot;y&quot;: 0.3154948798461076, &quot;z&quot;: 0.24870750772484287}, {&quot;x&quot;: 2.6448729860121114, &quot;y&quot;: 0.2704948798461076, &quot;z&quot;: 0.24870750772484287}, {&quot;x&quot;: 2.696834510239178, &quot;y&quot;: 0.2704948798461076, &quot;z&quot;: 0.24870750772484287}, {&quot;x&quot;: 2.7008537481256445, &quot;y&quot;: 0.36745640407317387, &quot;z&quot;: 0.2787075077248429}, {&quot;x&quot;: 2.7308537481256447, &quot;y&quot;: 0.3154948798461076, &quot;z&quot;: 0.2787075077248429}, {&quot;x&quot;: 2.640853748125645, &quot;y&quot;: 0.3674564040731739, &quot;z&quot;: 0.2787075077248429}, {&quot;x&quot;: 2.6108537481256446, &quot;y&quot;: 0.3154948798461076, &quot;z&quot;: 0.2787075077248429}, {&quot;x&quot;: 2.640853748125645, &quot;y&quot;: 0.2635333556190413, &quot;z&quot;: 0.2787075077248429}, {&quot;x&quot;: 2.7008537481256445, &quot;y&quot;: 0.2635333556190413, &quot;z&quot;: 0.2787075077248429}, {&quot;x&quot;: 2.696834510239178, &quot;y&quot;: 0.36049487984610756, &quot;z&quot;: 0.30870750772484284}, {&quot;x&quot;: 2.722815272352711, &quot;y&quot;: 0.3154948798461076, &quot;z&quot;: 0.30870750772484284}, {&quot;x&quot;: 2.6448729860121114, &quot;y&quot;: 0.3604948798461076, &quot;z&quot;: 0.30870750772484284}, {&quot;x&quot;: 2.6188922238985786, &quot;y&quot;: 0.3154948798461076, &quot;z&quot;: 0.30870750772484284}, {&quot;x&quot;: 2.6448729860121114, &quot;y&quot;: 0.2704948798461076, &quot;z&quot;: 0.30870750772484284}, {&quot;x&quot;: 2.696834510239178, &quot;y&quot;: 0.2704948798461076, &quot;z&quot;: 0.30870750772484284}, {&quot;x&quot;: 2.685853748125645, &quot;y&quot;: 0.34147564195964075, &quot;z&quot;: 0.3306690319519092}, {&quot;x&quot;: 2.7008537481256445, &quot;y&quot;: 0.3154948798461076, &quot;z&quot;: 0.3306690319519092}, {&quot;x&quot;: 2.6558537481256446, &quot;y&quot;: 0.34147564195964075, &quot;z&quot;: 0.3306690319519092}, {&quot;x&quot;: 2.640853748125645, &quot;y&quot;: 0.3154948798461076, &quot;z&quot;: 0.3306690319519092}, {&quot;x&quot;: 2.6558537481256446, &quot;y&quot;: 0.2895141177325744, &quot;z&quot;: 0.3306690319519092}, {&quot;x&quot;: 2.685853748125645, &quot;y&quot;: 0.2895141177325744, &quot;z&quot;: 0.3306690319519092}, {&quot;x&quot;: 2.6708537481256447, &quot;y&quot;: 0.3154948798461076, &quot;z&quot;: 0.33870750772484287}], &quot;faces&quot;: [[0, 1, 2], [0, 3, 1], [0, 4, 3], [0, 5, 4], [0, 6, 5], [0, 2, 6], [2, 1, 7, 8], [1, 3, 9, 7], [3, 4, 10, 9], [4, 5, 11, 10], [5, 6, 12, 11], [6, 2, 8, 12], [8, 7, 13, 14], [7, 9, 15, 13], [9, 10, 16, 15], [10, 11, 17, 16], [11, 12, 18, 17], [12, 8, 14, 18], [14, 13, 19, 20], [13, 15, 21, 19], [15, 16, 22, 21], [16, 17, 23, 22], [17, 18, 24, 23], [18, 14, 20, 24], [20, 19, 25, 26], [19, 21, 27, 25], [21, 22, 28, 27], [22, 23, 29, 28], [23, 24, 30, 29], [24, 20, 26, 30], [26, 25, 31], [25, 27, 31], [27, 28, 31], [28, 29, 31], [29, 30, 31], [30, 26, 31]], &quot;color&quot;: &quot;#ff0000&quot;, &quot;opacity&quot;: 1.0}, {&quot;vertices&quot;: [{&quot;x&quot;: 2.459085448939022, &quot;y&quot;: -0.09800316723230934, &quot;z&quot;: 0.7058924388415087}, {&quot;x&quot;: 2.474085448939022, &quot;y&quot;: -0.0720224051187762, &quot;z&quot;: 0.7139309146144424}, {&quot;x&quot;: 2.4890854489390217, &quot;y&quot;: -0.09800316723230934, &quot;z&quot;: 0.7139309146144424}, {&quot;x&quot;: 2.444085448939022, &quot;y&quot;: -0.07202240511877618, &quot;z&quot;: 0.7139309146144424}, {&quot;x&quot;: 2.429085448939022, &quot;y&quot;: -0.09800316723230934, &quot;z&quot;: 0.7139309146144424}, {&quot;x&quot;: 2.444085448939022, &quot;y&quot;: -0.12398392934584249, &quot;z&quot;: 0.7139309146144424}, {&quot;x&quot;: 2.474085448939022, &quot;y&quot;: -0.12398392934584249, &quot;z&quot;: 0.7139309146144424}, {&quot;x&quot;: 2.485066211052555, &quot;y&quot;: -0.05300316723230935, &quot;z&quot;: 0.7358924388415087}, {&quot;x&quot;: 2.511046973166088, &quot;y&quot;: -0.09800316723230934, &quot;z&quot;: 0.7358924388415087}, {&quot;x&quot;: 2.4331046868254886, &quot;y&quot;: -0.053003167232309335, &quot;z&quot;: 0.7358924388415087}, {&quot;x&quot;: 2.407123924711956, &quot;y&quot;: -0.09800316723230934, &quot;z&quot;: 0.7358924388415087}, {&quot;x&quot;: 2.4331046868254886, &quot;y&quot;: -0.14300316723230933, &quot;z&quot;: 0.7358924388415087}, {&quot;x&quot;: 2.485066211052555, &quot;y&quot;: -0.14300316723230933, &quot;z&quot;: 0.7358924388415087}, {&quot;x&quot;: 2.4890854489390217, &quot;y&quot;: -0.04604164300524303, &quot;z&quot;: 0.7658924388415087}, {&quot;x&quot;: 2.519085448939022, &quot;y&quot;: -0.09800316723230934, &quot;z&quot;: 0.7658924388415087}, {&quot;x&quot;: 2.429085448939022, &quot;y&quot;: -0.046041643005243015, &quot;z&quot;: 0.7658924388415087}, {&quot;x&quot;: 2.399085448939022, &quot;y&quot;: -0.09800316723230933, &quot;z&quot;: 0.7658924388415087}, {&quot;x&quot;: 2.4290854489390217, &quot;y&quot;: -0.14996469145937563, &quot;z&quot;: 0.7658924388415087}, {&quot;x&quot;: 2.4890854489390217, &quot;y&quot;: -0.14996469145937566, &quot;z&quot;: 0.7658924388415087}, {&quot;x&quot;: 2.485066211052555, &quot;y&quot;: -0.05300316723230934, &quot;z&quot;: 0.7958924388415087}, {&quot;x&quot;: 2.511046973166088, &quot;y&quot;: -0.09800316723230934, &quot;z&quot;: 0.7958924388415087}, {&quot;x&quot;: 2.4331046868254886, &quot;y&quot;: -0.05300316723230933, &quot;z&quot;: 0.7958924388415087}, {&quot;x&quot;: 2.407123924711956, &quot;y&quot;: -0.09800316723230934, &quot;z&quot;: 0.7958924388415087}, {&quot;x&quot;: 2.4331046868254886, &quot;y&quot;: -0.14300316723230933, &quot;z&quot;: 0.7958924388415087}, {&quot;x&quot;: 2.485066211052555, &quot;y&quot;: -0.14300316723230933, &quot;z&quot;: 0.7958924388415087}, {&quot;x&quot;: 2.474085448939022, &quot;y&quot;: -0.0720224051187762, &quot;z&quot;: 0.817853963068575}, {&quot;x&quot;: 2.4890854489390217, &quot;y&quot;: -0.09800316723230934, &quot;z&quot;: 0.817853963068575}, {&quot;x&quot;: 2.444085448939022, &quot;y&quot;: -0.07202240511877618, &quot;z&quot;: 0.817853963068575}, {&quot;x&quot;: 2.429085448939022, &quot;y&quot;: -0.09800316723230934, &quot;z&quot;: 0.817853963068575}, {&quot;x&quot;: 2.444085448939022, &quot;y&quot;: -0.12398392934584249, &quot;z&quot;: 0.817853963068575}, {&quot;x&quot;: 2.474085448939022, &quot;y&quot;: -0.12398392934584249, &quot;z&quot;: 0.817853963068575}, {&quot;x&quot;: 2.459085448939022, &quot;y&quot;: -0.09800316723230934, &quot;z&quot;: 0.8258924388415088}], &quot;faces&quot;: [[0, 1, 2], [0, 3, 1], [0, 4, 3], [0, 5, 4], [0, 6, 5], [0, 2, 6], [2, 1, 7, 8], [1, 3, 9, 7], [3, 4, 10, 9], [4, 5, 11, 10], [5, 6, 12, 11], [6, 2, 8, 12], [8, 7, 13, 14], [7, 9, 15, 13], [9, 10, 16, 15], [10, 11, 17, 16], [11, 12, 18, 17], [12, 8, 14, 18], [14, 13, 19, 20], [13, 15, 21, 19], [15, 16, 22, 21], [16, 17, 23, 22], [17, 18, 24, 23], [18, 14, 20, 24], [20, 19, 25, 26], [19, 21, 27, 25], [21, 22, 28, 27], [22, 23, 29, 28], [23, 24, 30, 29], [24, 20, 26, 30], [26, 25, 31], [25, 27, 31], [27, 28, 31], [28, 29, 31], [29, 30, 31], [30, 26, 31]], &quot;color&quot;: &quot;#ff0000&quot;, &quot;opacity&quot;: 1.0}, {&quot;vertices&quot;: [{&quot;x&quot;: 1.8891289117760834, &quot;y&quot;: 0.20997187449769933, &quot;z&quot;: 0.8645190082629488}, {&quot;x&quot;: 1.9041289117760833, &quot;y&quot;: 0.23595263661123247, &quot;z&quot;: 0.8725574840358825}, {&quot;x&quot;: 1.9191289117760835, &quot;y&quot;: 0.20997187449769933, &quot;z&quot;: 0.8725574840358825}, {&quot;x&quot;: 1.8741289117760835, &quot;y&quot;: 0.2359526366112325, &quot;z&quot;: 0.8725574840358825}, {&quot;x&quot;: 1.8591289117760834, &quot;y&quot;: 0.20997187449769933, &quot;z&quot;: 0.8725574840358825}, {&quot;x&quot;: 1.8741289117760835, &quot;y&quot;: 0.18399111238416618, &quot;z&quot;: 0.8725574840358825}, {&quot;x&quot;: 1.9041289117760833, &quot;y&quot;: 0.18399111238416618, &quot;z&quot;: 0.8725574840358825}, {&quot;x&quot;: 1.9151096738896165, &quot;y&quot;: 0.2549718744976993, &quot;z&quot;: 0.8945190082629488}, {&quot;x&quot;: 1.9410904360031498, &quot;y&quot;: 0.20997187449769933, &quot;z&quot;: 0.8945190082629488}, {&quot;x&quot;: 1.8631481496625504, &quot;y&quot;: 0.2549718744976993, &quot;z&quot;: 0.8945190082629488}, {&quot;x&quot;: 1.837167387549017, &quot;y&quot;: 0.20997187449769933, &quot;z&quot;: 0.8945190082629488}, {&quot;x&quot;: 1.8631481496625502, &quot;y&quot;: 0.16497187449769934, &quot;z&quot;: 0.8945190082629488}, {&quot;x&quot;: 1.9151096738896165, &quot;y&quot;: 0.16497187449769934, &quot;z&quot;: 0.8945190082629488}, {&quot;x&quot;: 1.9191289117760835, &quot;y&quot;: 0.2619333987247656, &quot;z&quot;: 0.9245190082629489}, {&quot;x&quot;: 1.9491289117760835, &quot;y&quot;: 0.20997187449769933, &quot;z&quot;: 0.9245190082629489}, {&quot;x&quot;: 1.8591289117760834, &quot;y&quot;: 0.2619333987247657, &quot;z&quot;: 0.9245190082629489}, {&quot;x&quot;: 1.8291289117760834, &quot;y&quot;: 0.20997187449769933, &quot;z&quot;: 0.9245190082629489}, {&quot;x&quot;: 1.8591289117760834, &quot;y&quot;: 0.15801035027063304, &quot;z&quot;: 0.9245190082629489}, {&quot;x&quot;: 1.9191289117760835, &quot;y&quot;: 0.158010350270633, &quot;z&quot;: 0.9245190082629489}, {&quot;x&quot;: 1.9151096738896165, &quot;y&quot;: 0.2549718744976993, &quot;z&quot;: 0.9545190082629489}, {&quot;x&quot;: 1.9410904360031498, &quot;y&quot;: 0.20997187449769933, &quot;z&quot;: 0.9545190082629489}, {&quot;x&quot;: 1.8631481496625504, &quot;y&quot;: 0.2549718744976993, &quot;z&quot;: 0.9545190082629489}, {&quot;x&quot;: 1.837167387549017, &quot;y&quot;: 0.20997187449769933, &quot;z&quot;: 0.9545190082629489}, {&quot;x&quot;: 1.8631481496625502, &quot;y&quot;: 0.16497187449769934, &quot;z&quot;: 0.9545190082629489}, {&quot;x&quot;: 1.9151096738896165, &quot;y&quot;: 0.16497187449769934, &quot;z&quot;: 0.9545190082629489}, {&quot;x&quot;: 1.9041289117760833, &quot;y&quot;: 0.23595263661123247, &quot;z&quot;: 0.9764805324900152}, {&quot;x&quot;: 1.9191289117760835, &quot;y&quot;: 0.20997187449769933, &quot;z&quot;: 0.9764805324900152}, {&quot;x&quot;: 1.8741289117760835, &quot;y&quot;: 0.2359526366112325, &quot;z&quot;: 0.9764805324900152}, {&quot;x&quot;: 1.8591289117760834, &quot;y&quot;: 0.20997187449769933, &quot;z&quot;: 0.9764805324900152}, {&quot;x&quot;: 1.8741289117760835, &quot;y&quot;: 0.18399111238416618, &quot;z&quot;: 0.9764805324900152}, {&quot;x&quot;: 1.9041289117760833, &quot;y&quot;: 0.18399111238416618, &quot;z&quot;: 0.9764805324900152}, {&quot;x&quot;: 1.8891289117760834, &quot;y&quot;: 0.20997187449769933, &quot;z&quot;: 0.9845190082629489}], &quot;faces&quot;: [[0, 1, 2], [0, 3, 1], [0, 4, 3], [0, 5, 4], [0, 6, 5], [0, 2, 6], [2, 1, 7, 8], [1, 3, 9, 7], [3, 4, 10, 9], [4, 5, 11, 10], [5, 6, 12, 11], [6, 2, 8, 12], [8, 7, 13, 14], [7, 9, 15, 13], [9, 10, 16, 15], [10, 11, 17, 16], [11, 12, 18, 17], [12, 8, 14, 18], [14, 13, 19, 20], [13, 15, 21, 19], [15, 16, 22, 21], [16, 17, 23, 22], [17, 18, 24, 23], [18, 14, 20, 24], [20, 19, 25, 26], [19, 21, 27, 25], [21, 22, 28, 27], [22, 23, 29, 28], [23, 24, 30, 29], [24, 20, 26, 30], [26, 25, 31], [25, 27, 31], [27, 28, 31], [28, 29, 31], [29, 30, 31], [30, 26, 31]], &quot;color&quot;: &quot;#ff0000&quot;, &quot;opacity&quot;: 1.0}, {&quot;vertices&quot;: [{&quot;x&quot;: 1.444989722866394, &quot;y&quot;: -0.27111751673707996, &quot;z&quot;: 0.7210415272345394}, {&quot;x&quot;: 1.4599897228663938, &quot;y&quot;: -0.2451367546235468, &quot;z&quot;: 0.729080003007473}, {&quot;x&quot;: 1.474989722866394, &quot;y&quot;: -0.27111751673707996, &quot;z&quot;: 0.729080003007473}, {&quot;x&quot;: 1.429989722866394, &quot;y&quot;: -0.24513675462354678, &quot;z&quot;: 0.729080003007473}, {&quot;x&quot;: 1.414989722866394, &quot;y&quot;: -0.27111751673707996, &quot;z&quot;: 0.729080003007473}, {&quot;x&quot;: 1.429989722866394, &quot;y&quot;: -0.29709827885061313, &quot;z&quot;: 0.729080003007473}, {&quot;x&quot;: 1.4599897228663938, &quot;y&quot;: -0.29709827885061313, &quot;z&quot;: 0.729080003007473}, {&quot;x&quot;: 1.470970484979927, &quot;y&quot;: -0.22611751673707997, &quot;z&quot;: 0.7510415272345393}, {&quot;x&quot;: 1.4969512470934603, &quot;y&quot;: -0.27111751673707996, &quot;z&quot;: 0.7510415272345393}, {&quot;x&quot;: 1.4190089607528609, &quot;y&quot;: -0.22611751673707994, &quot;z&quot;: 0.7510415272345393}, {&quot;x&quot;: 1.3930281986393276, &quot;y&quot;: -0.27111751673707996, &quot;z&quot;: 0.7510415272345393}, {&quot;x&quot;: 1.4190089607528606, &quot;y&quot;: -0.31611751673707994, &quot;z&quot;: 0.7510415272345393}, {&quot;x&quot;: 1.470970484979927, &quot;y&quot;: -0.31611751673707994, &quot;z&quot;: 0.7510415272345393}, {&quot;x&quot;: 1.474989722866394, &quot;y&quot;: -0.21915599251001364, &quot;z&quot;: 0.7810415272345393}, {&quot;x&quot;: 1.504989722866394, &quot;y&quot;: -0.27111751673707996, &quot;z&quot;: 0.7810415272345393}, {&quot;x&quot;: 1.414989722866394, &quot;y&quot;: -0.21915599251001364, &quot;z&quot;: 0.7810415272345393}, {&quot;x&quot;: 1.3849897228663939, &quot;y&quot;: -0.27111751673707996, &quot;z&quot;: 0.7810415272345393}, {&quot;x&quot;: 1.414989722866394, &quot;y&quot;: -0.32307904096414625, &quot;z&quot;: 0.7810415272345393}, {&quot;x&quot;: 1.474989722866394, &quot;y&quot;: -0.32307904096414625, &quot;z&quot;: 0.7810415272345393}, {&quot;x&quot;: 1.470970484979927, &quot;y&quot;: -0.22611751673707997, &quot;z&quot;: 0.8110415272345394}, {&quot;x&quot;: 1.4969512470934603, &quot;y&quot;: -0.27111751673707996, &quot;z&quot;: 0.8110415272345394}, {&quot;x&quot;: 1.4190089607528609, &quot;y&quot;: -0.22611751673707994, &quot;z&quot;: 0.8110415272345394}, {&quot;x&quot;: 1.3930281986393276, &quot;y&quot;: -0.27111751673707996, &quot;z&quot;: 0.8110415272345394}, {&quot;x&quot;: 1.4190089607528606, &quot;y&quot;: -0.31611751673707994, &quot;z&quot;: 0.8110415272345394}, {&quot;x&quot;: 1.470970484979927, &quot;y&quot;: -0.31611751673707994, &quot;z&quot;: 0.8110415272345394}, {&quot;x&quot;: 1.4599897228663938, &quot;y&quot;: -0.2451367546235468, &quot;z&quot;: 0.8330030514616057}, {&quot;x&quot;: 1.474989722866394, &quot;y&quot;: -0.27111751673707996, &quot;z&quot;: 0.8330030514616057}, {&quot;x&quot;: 1.429989722866394, &quot;y&quot;: -0.24513675462354678, &quot;z&quot;: 0.8330030514616057}, {&quot;x&quot;: 1.414989722866394, &quot;y&quot;: -0.27111751673707996, &quot;z&quot;: 0.8330030514616057}, {&quot;x&quot;: 1.429989722866394, &quot;y&quot;: -0.29709827885061313, &quot;z&quot;: 0.8330030514616057}, {&quot;x&quot;: 1.4599897228663938, &quot;y&quot;: -0.29709827885061313, &quot;z&quot;: 0.8330030514616057}, {&quot;x&quot;: 1.444989722866394, &quot;y&quot;: -0.27111751673707996, &quot;z&quot;: 0.8410415272345393}], &quot;faces&quot;: [[0, 1, 2], [0, 3, 1], [0, 4, 3], [0, 5, 4], [0, 6, 5], [0, 2, 6], [2, 1, 7, 8], [1, 3, 9, 7], [3, 4, 10, 9], [4, 5, 11, 10], [5, 6, 12, 11], [6, 2, 8, 12], [8, 7, 13, 14], [7, 9, 15, 13], [9, 10, 16, 15], [10, 11, 17, 16], [11, 12, 18, 17], [12, 8, 14, 18], [14, 13, 19, 20], [13, 15, 21, 19], [15, 16, 22, 21], [16, 17, 23, 22], [17, 18, 24, 23], [18, 14, 20, 24], [20, 19, 25, 26], [19, 21, 27, 25], [21, 22, 28, 27], [22, 23, 29, 28], [23, 24, 30, 29], [24, 20, 26, 30], [26, 25, 31], [25, 27, 31], [27, 28, 31], [28, 29, 31], [29, 30, 31], [30, 26, 31]], &quot;color&quot;: &quot;#ff0000&quot;, &quot;opacity&quot;: 1.0}, {&quot;vertices&quot;: [{&quot;x&quot;: 1.0422401794280156, &quot;y&quot;: 0.04647368179270889, &quot;z&quot;: 0.2799194854616664}, {&quot;x&quot;: 1.0572401794280155, &quot;y&quot;: 0.07245444390624203, &quot;z&quot;: 0.28795796123460005}, {&quot;x&quot;: 1.0722401794280156, &quot;y&quot;: 0.04647368179270889, &quot;z&quot;: 0.28795796123460005}, {&quot;x&quot;: 1.0272401794280157, &quot;y&quot;: 0.07245444390624205, &quot;z&quot;: 0.28795796123460005}, {&quot;x&quot;: 1.0122401794280156, &quot;y&quot;: 0.046473681792708894, &quot;z&quot;: 0.28795796123460005}, {&quot;x&quot;: 1.0272401794280157, &quot;y&quot;: 0.020492919679175742, &quot;z&quot;: 0.28795796123460005}, {&quot;x&quot;: 1.0572401794280155, &quot;y&quot;: 0.020492919679175735, &quot;z&quot;: 0.28795796123460005}, {&quot;x&quot;: 1.0682209415415487, &quot;y&quot;: 0.09147368179270887, &quot;z&quot;: 0.30991948546166637}, {&quot;x&quot;: 1.094201703655082, &quot;y&quot;: 0.04647368179270889, &quot;z&quot;: 0.30991948546166637}, {&quot;x&quot;: 1.0162594173144825, &quot;y&quot;: 0.0914736817927089, &quot;z&quot;: 0.30991948546166637}, {&quot;x&quot;: 0.9902786552009493, &quot;y&quot;: 0.046473681792708894, &quot;z&quot;: 0.30991948546166637}, {&quot;x&quot;: 1.0162594173144823, &quot;y&quot;: 0.00147368179270891, &quot;z&quot;: 0.30991948546166637}, {&quot;x&quot;: 1.0682209415415487, &quot;y&quot;: 0.001473681792708896, &quot;z&quot;: 0.30991948546166637}, {&quot;x&quot;: 1.0722401794280156, &quot;y&quot;: 0.0984352060197752, &quot;z&quot;: 0.3399194854616664}, {&quot;x&quot;: 1.1022401794280157, &quot;y&quot;: 0.04647368179270889, &quot;z&quot;: 0.3399194854616664}, {&quot;x&quot;: 1.0122401794280156, &quot;y&quot;: 0.0984352060197752, &quot;z&quot;: 0.3399194854616664}, {&quot;x&quot;: 0.9822401794280156, &quot;y&quot;: 0.046473681792708894, &quot;z&quot;: 0.3399194854616664}, {&quot;x&quot;: 1.0122401794280156, &quot;y&quot;: -0.005487842434357411, &quot;z&quot;: 0.3399194854616664}, {&quot;x&quot;: 1.0722401794280156, &quot;y&quot;: -0.005487842434357425, &quot;z&quot;: 0.3399194854616664}, {&quot;x&quot;: 1.0682209415415487, &quot;y&quot;: 0.09147368179270889, &quot;z&quot;: 0.36991948546166636}, {&quot;x&quot;: 1.094201703655082, &quot;y&quot;: 0.04647368179270889, &quot;z&quot;: 0.36991948546166636}, {&quot;x&quot;: 1.0162594173144825, &quot;y&quot;: 0.0914736817927089, &quot;z&quot;: 0.36991948546166636}, {&quot;x&quot;: 0.9902786552009493, &quot;y&quot;: 0.046473681792708894, &quot;z&quot;: 0.36991948546166636}, {&quot;x&quot;: 1.0162594173144823, &quot;y&quot;: 0.001473681792708903, &quot;z&quot;: 0.36991948546166636}, {&quot;x&quot;: 1.0682209415415487, &quot;y&quot;: 0.001473681792708889, &quot;z&quot;: 0.36991948546166636}, {&quot;x&quot;: 1.0572401794280155, &quot;y&quot;: 0.07245444390624203, &quot;z&quot;: 0.39188100968873274}, {&quot;x&quot;: 1.0722401794280156, &quot;y&quot;: 0.04647368179270889, &quot;z&quot;: 0.39188100968873274}, {&quot;x&quot;: 1.0272401794280157, &quot;y&quot;: 0.07245444390624205, &quot;z&quot;: 0.39188100968873274}, {&quot;x&quot;: 1.0122401794280156, &quot;y&quot;: 0.046473681792708894, &quot;z&quot;: 0.39188100968873274}, {&quot;x&quot;: 1.0272401794280157, &quot;y&quot;: 0.020492919679175742, &quot;z&quot;: 0.39188100968873274}, {&quot;x&quot;: 1.0572401794280155, &quot;y&quot;: 0.020492919679175735, &quot;z&quot;: 0.39188100968873274}, {&quot;x&quot;: 1.0422401794280156, &quot;y&quot;: 0.04647368179270889, &quot;z&quot;: 0.3999194854616664}], &quot;faces&quot;: [[0, 1, 2], [0, 3, 1], [0, 4, 3], [0, 5, 4], [0, 6, 5], [0, 2, 6], [2, 1, 7, 8], [1, 3, 9, 7], [3, 4, 10, 9], [4, 5, 11, 10], [5, 6, 12, 11], [6, 2, 8, 12], [8, 7, 13, 14], [7, 9, 15, 13], [9, 10, 16, 15], [10, 11, 17, 16], [11, 12, 18, 17], [12, 8, 14, 18], [14, 13, 19, 20], [13, 15, 21, 19], [15, 16, 22, 21], [16, 17, 23, 22], [17, 18, 24, 23], [18, 14, 20, 24], [20, 19, 25, 26], [19, 21, 27, 25], [21, 22, 28, 27], [22, 23, 29, 28], [23, 24, 30, 29], [24, 20, 26, 30], [26, 25, 31], [25, 27, 31], [27, 28, 31], [28, 29, 31], [29, 30, 31], [30, 26, 31]], &quot;color&quot;: &quot;#ff0000&quot;, &quot;opacity&quot;: 1.0}, {&quot;vertices&quot;: [{&quot;x&quot;: 1.1842503595408571, &quot;y&quot;: 0.08185381861763225, &quot;z&quot;: -0.7584577151656245}, {&quot;x&quot;: 1.206455481390839, &quot;y&quot;: 0.07465678797908581, &quot;z&quot;: -0.7556431604734362}, {&quot;x&quot;: 1.008583142027478, &quot;y&quot;: -0.33691314769379527, &quot;z&quot;: -0.24696661091635008}, {&quot;x&quot;: 0.9863780201774961, &quot;y&quot;: -0.32971611705524884, &quot;z&quot;: -0.2497811656085385}, {&quot;x&quot;: 1.2167989926891138, &quot;y&quot;: 0.08892229313790995, &quot;z&quot;: -0.7400773793788021}, {&quot;x&quot;: 1.0189266533257528, &quot;y&quot;: -0.32264764253497114, &quot;z&quot;: -0.231400829821716}, {&quot;x&quot;: 1.200986512384484, &quot;y&quot;: 0.10493589083129662, &quot;z&quot;: -0.7332717522930661}, {&quot;x&quot;: 1.0031141730211233, &quot;y&quot;: -0.30663404484158446, &quot;z&quot;: -0.22459520273598005}, {&quot;x&quot;: 1.1808703508115101, &quot;y&quot;: 0.10056733332915241, &quot;z&quot;: -0.7446314245339585}, {&quot;x&quot;: 0.9829980114481491, &quot;y&quot;: -0.3110026023437287, &quot;z&quot;: -0.23595487497687237}], &quot;faces&quot;: [[0, 1, 2, 3], [1, 4, 5, 2], [4, 6, 7, 5], [6, 8, 9, 7], [8, 0, 3, 9]], &quot;color&quot;: &quot;#000000&quot;, &quot;opacity&quot;: 1.0}, {&quot;vertices&quot;: [{&quot;x&quot;: 1.0418818025873144, &quot;y&quot;: 0.06335269098187674, &quot;z&quot;: 0.3291970503449574}, {&quot;x&quot;: 1.061111427663146, &quot;y&quot;: 0.05134874585073451, &quot;z&quot;: 0.3354350969327543}, {&quot;x&quot;: 1.01887124823513, &quot;y&quot;: -0.31650764683584, &quot;z&quot;: -0.2422241253408035}, {&quot;x&quot;: 0.9996416231592987, &quot;y&quot;: -0.30450370170469776, &quot;z&quot;: -0.24846217192860037}, {&quot;x&quot;: 1.0542616290881637, &quot;y&quot;: 0.03260762788873378, &quot;z&quot;: 0.3478704160487476}, {&quot;x&quot;: 1.012021449660148, &quot;y&quot;: -0.3352487647978407, &quot;z&quot;: -0.22978880622481024}, {&quot;x&quot;: 1.0307985956769028, &quot;y&quot;: 0.03302892513218836, &quot;z&quot;: 0.3493178193355858}, {&quot;x&quot;: 0.9885584162488871, &quot;y&quot;: -0.33482746755438614, &quot;z&quot;: -0.22834140293797198}, {&quot;x&quot;: 1.0231474421245512, &quot;y&quot;: 0.05203041911001072, &quot;z&quot;: 0.3377770446462869}, {&quot;x&quot;: 0.9809072626965355, &quot;y&quot;: -0.3158259735765638, &quot;z&quot;: -0.23988217762727088}], &quot;faces&quot;: [[0, 1, 2, 3], [1, 4, 5, 2], [4, 6, 7, 5], [6, 8, 9, 7], [8, 0, 3, 9]], &quot;color&quot;: &quot;#000000&quot;, &quot;opacity&quot;: 1.0}, {&quot;vertices&quot;: [{&quot;x&quot;: 1.4284045263190073, &quot;y&quot;: -0.8343772988790832, &quot;z&quot;: -0.13108298930888324}, {&quot;x&quot;: 1.4351283471167258, &quot;y&quot;: -0.8328974020946973, &quot;z&quot;: -0.153563793206604}, {&quot;x&quot;: 1.0151731830371484, &quot;y&quot;: -0.3104149914299162, &quot;z&quot;: -0.24477419814743748}, {&quot;x&quot;: 1.00844936223943, &quot;y&quot;: -0.31189488821430195, &quot;z&quot;: -0.22229339424971672}, {&quot;x&quot;: 1.4208833446746283, &quot;y&quot;: -0.8465745208304161, &quot;z&quot;: -0.16632321063114702}, {&quot;x&quot;: 1.000928180595051, &quot;y&quot;: -0.32409211016563483, &quot;z&quot;: -0.2575336155719805}, {&quot;x&quot;: 1.4053556281978683, &quot;y&quot;: -0.8565073418616438, &quot;z&quot;: -0.1517281603784415}, {&quot;x&quot;: 0.985400464118291, &quot;y&quot;: -0.3340249311968627, &quot;z&quot;: -0.24293856531927502}, {&quot;x&quot;: 1.4100039740896564, &quot;y&quot;: -0.8489690441273938, &quot;z&quot;: -0.12994850583021372}, {&quot;x&quot;: 0.9900488100100792, &quot;y&quot;: -0.32648663346261264, &quot;z&quot;: -0.2211589107710472}], &quot;faces&quot;: [[0, 1, 2, 3], [1, 4, 5, 2], [4, 6, 7, 5], [6, 8, 9, 7], [8, 0, 3, 9]], &quot;color&quot;: &quot;#000000&quot;, &quot;opacity&quot;: 1.0}, {&quot;vertices&quot;: [{&quot;x&quot;: 1.3226259479388593, &quot;y&quot;: 0.7218957204355377, &quot;z&quot;: -0.4950956253685827}, {&quot;x&quot;: 1.3428346065779033, &quot;y&quot;: 0.7138989071831441, &quot;z&quot;: -0.4861263724277309}, {&quot;x&quot;: 1.2156917097016542, &quot;y&quot;: 0.09047493516621377, &quot;z&quot;: -0.7554930293685257}, {&quot;x&quot;: 1.1954830510626102, &quot;y&quot;: 0.0984717484186075, &quot;z&quot;: -0.7644622823093775}, {&quot;x&quot;: 1.3384175010675474, &quot;y&quot;: 0.7055044879545586, &quot;z&quot;: -0.46461336916865104}, {&quot;x&quot;: 1.2112746041912983, &quot;y&quot;: 0.08208051593762826, &quot;z&quot;: -0.7339800261094458}, {&quot;x&quot;: 1.3154789210912092, &quot;y&quot;: 0.7083132648078707, &quot;z&quot;: -0.46028685489530424}, {&quot;x&quot;: 1.18833602421496, &quot;y&quot;: 0.08488929279094046, &quot;z&quot;: -0.7296535118360991}, {&quot;x&quot;: 1.3057192045225303, &quot;y&quot;: 0.7184436035986171, &quot;z&quot;: -0.47912592528064424}, {&quot;x&quot;: 1.1785763076462812, &quot;y&quot;: 0.09501963158168689, &quot;z&quot;: -0.748492582221439}], &quot;faces&quot;: [[0, 1, 2, 3], [1, 4, 5, 2], [4, 6, 7, 5], [6, 8, 9, 7], [8, 0, 3, 9]], &quot;color&quot;: &quot;#000000&quot;, &quot;opacity&quot;: 1.0}, {&quot;vertices&quot;: [{&quot;x&quot;: 1.7841707163806846, &quot;y&quot;: -0.15485136257881066, &quot;z&quot;: -0.8980502384101239}, {&quot;x&quot;: 1.777082161873963, &quot;y&quot;: -0.15686803251487397, &quot;z&quot;: -0.9203767213815697}, {&quot;x&quot;: 1.2001258934262222, &quot;y&quot;: 0.10394741632631158, &quot;z&quot;: -0.7607542995740026}, {&quot;x&quot;: 1.2072144479329436, &quot;y&quot;: 0.10596408626237487, &quot;z&quot;: -0.7384278166025569}, {&quot;x&quot;: 1.7668792722478526, &quot;y&quot;: -0.17790081947759157, &quot;z&quot;: -0.9228885574348153}, {&quot;x&quot;: 1.1899230038001116, &quot;y&quot;: 0.08291462936359394, &quot;z&quot;: -0.7632661356272483}, {&quot;x&quot;: 1.7676620941821741, &quot;y&quot;: -0.18888312676262348, &quot;z&quot;: -0.9021144745184427}, {&quot;x&quot;: 1.1907058257344332, &quot;y&quot;: 0.07193232207856207, &quot;z&quot;: -0.7424920527108757}, {&quot;x&quot;: 1.7783487943708343, &quot;y&quot;: -0.1746377789769511, &quot;z&quot;: -0.8867635491377702}, {&quot;x&quot;: 1.2013925259230933, &quot;y&quot;: 0.08617766986423443, &quot;z&quot;: -0.7271411273302033}], &quot;faces&quot;: [[0, 1, 2, 3], [1, 4, 5, 2], [4, 6, 7, 5], [6, 8, 9, 7], [8, 0, 3, 9]], &quot;color&quot;: &quot;#000000&quot;, &quot;opacity&quot;: 1.0}, {&quot;vertices&quot;: [{&quot;x&quot;: 1.2112198666912781, &quot;y&quot;: 0.7035141012315637, &quot;z&quot;: 0.19773545780288598}, {&quot;x&quot;: 1.2300270863479, &quot;y&quot;: 0.6896378650924533, &quot;z&quot;: 0.20028985869140342}, {&quot;x&quot;: 1.3437488181818866, &quot;y&quot;: 0.7197154846330338, &quot;z&quot;: -0.4736158883759216}, {&quot;x&quot;: 1.3249415985252646, &quot;y&quot;: 0.7335917207721443, &quot;z&quot;: -0.4761702892644391}, {&quot;x&quot;: 1.222945132491327, &quot;y&quot;: 0.6673257106395993, &quot;z&quot;: 0.198098946154262}, {&quot;x&quot;: 1.3366668643253135, &quot;y&quot;: 0.69740333018018, &quot;z&quot;: -0.4758068009130631}, {&quot;x&quot;: 1.1997610246445845, &quot;y&quot;: 0.6674122769646088, &quot;z&quot;: 0.19419048685141277}, {&quot;x&quot;: 1.313482756478571, &quot;y&quot;: 0.6974898965051893, &quot;z&quot;: -0.47971526021591226}, {&quot;x&quot;: 1.1925144118530275, &quot;y&quot;: 0.6897779323485996, &quot;z&quot;: 0.19396583869574774}, {&quot;x&quot;: 1.306236143687014, &quot;y&quot;: 0.7198555518891803, &quot;z&quot;: -0.47993990837157735}], &quot;faces&quot;: [[0, 1, 2, 3], [1, 4, 5, 2], [4, 6, 7, 5], [6, 8, 9, 7], [8, 0, 3, 9]], &quot;color&quot;: &quot;#000000&quot;, &quot;opacity&quot;: 1.0}, {&quot;vertices&quot;: [{&quot;x&quot;: 1.9955876612668335, &quot;y&quot;: 0.8280086105600476, &quot;z&quot;: -0.5312615389222872}, {&quot;x&quot;: 1.9966023962125066, &quot;y&quot;: 0.81165416510346, &quot;z&quot;: -0.5481224057830857}, {&quot;x&quot;: 1.3230610940776852, &quot;y&quot;: 0.7168388183759956, &quot;z&quot;: -0.4966904997588728}, {&quot;x&quot;: 1.3220463591320122, &quot;y&quot;: 0.7331932638325832, &quot;z&quot;: -0.4798296328980743}, {&quot;x&quot;: 2.0003176892071104, &quot;y&quot;: 0.7908392563260659, &quot;z&quot;: -0.5378402574154998}, {&quot;x&quot;: 1.326776387072289, &quot;y&quot;: 0.6960239095986015, &quot;z&quot;: -0.48640835139128696}, {&quot;x&quot;: 2.001599131610267, &quot;y&quot;: 0.7943293806854953, &quot;z&quot;: -0.514624673386164}, {&quot;x&quot;: 1.3280578294754455, &quot;y&quot;: 0.6995140339580309, &quot;z&quot;: -0.46319276736195114}, {&quot;x&quot;: 1.998675813575439, &quot;y&quot;: 0.8173013049419808, &quot;z&quot;: -0.5105588017549412}, {&quot;x&quot;: 1.3251345114406177, &quot;y&quot;: 0.7224859582145164, &quot;z&quot;: -0.45912689573072824}], &quot;faces&quot;: [[0, 1, 2, 3], [1, 4, 5, 2], [4, 6, 7, 5], [6, 8, 9, 7], [8, 0, 3, 9]], &quot;color&quot;: &quot;#000000&quot;, &quot;opacity&quot;: 1.0}, {&quot;vertices&quot;: [{&quot;x&quot;: 1.0383337335597653, &quot;y&quot;: 0.05175264630412735, &quot;z&quot;: 0.3588105472202235}, {&quot;x&quot;: 1.059068254497484, &quot;y&quot;: 0.04438972074088576, &quot;z&quot;: 0.3505248141124351}, {&quot;x&quot;: 1.2281215794750922, &quot;y&quot;: 0.6814496162035417, &quot;z&quot;: 0.2074614462899111}, {&quot;x&quot;: 1.2073870585373734, &quot;y&quot;: 0.6888125417667833, &quot;z&quot;: 0.2157471793976995}, {&quot;x&quot;: 1.0565469476544322, &quot;y&quot;: 0.039906758520033, &quot;z&quot;: 0.32758287727114754}, {&quot;x&quot;: 1.2256002726320403, &quot;y&quot;: 0.676966653982689, &quot;z&quot;: 0.18451950944862353}, {&quot;x&quot;: 1.0342541733916395, &quot;y&quot;: 0.04449906106050583, &quot;z&quot;: 0.32168971364326676}, {&quot;x&quot;: 1.2033074983692478, &quot;y&quot;: 0.6815589565231618, &quot;z&quot;: 0.17862634582074277}, {&quot;x&quot;: 1.0229977880367567, &quot;y&quot;: 0.05182022233799333, &quot;z&quot;: 0.34098947506125943}, {&quot;x&quot;: 1.1920511130143647, &quot;y&quot;: 0.6888801178006493, &quot;z&quot;: 0.1979261072387354}], &quot;faces&quot;: [[0, 1, 2, 3], [1, 4, 5, 2], [4, 6, 7, 5], [6, 8, 9, 7], [8, 0, 3, 9]], &quot;color&quot;: &quot;#000000&quot;, &quot;opacity&quot;: 1.0}, {&quot;vertices&quot;: [{&quot;x&quot;: 1.7469693745113344, &quot;y&quot;: 0.8077819279780979, &quot;z&quot;: 0.5359374420106846}, {&quot;x&quot;: 1.7585968143526363, &quot;y&quot;: 0.792523375278141, &quot;z&quot;: 0.5223445903327038}, {&quot;x&quot;: 1.2211588559591364, &quot;y&quot;: 0.6879321030088512, &quot;z&quot;: 0.18002377347911763}, {&quot;x&quot;: 1.2095314161178345, &quot;y&quot;: 0.7031906557088081, &quot;z&quot;: 0.1936166251570985}, {&quot;x&quot;: 1.7565906736579502, &quot;y&quot;: 0.7711862094872579, &quot;z&quot;: 0.5320134661735414}, {&quot;x&quot;: 1.2191527152644503, &quot;y&quot;: 0.6665949372179681, &quot;z&quot;: 0.18969264931995528}, {&quot;x&quot;: 1.743723370681118, &quot;y&quot;: 0.7732576685048574, &quot;z&quot;: 0.5515820117541628}, {&quot;x&quot;: 1.206285412287618, &quot;y&quot;: 0.6686663962355677, &quot;z&quot;: 0.20926119490057654}, {&quot;x&quot;: 1.7377770807925792, &quot;y&quot;: 0.7958750663749196, &quot;z&quot;: 0.5540071621925505}, {&quot;x&quot;: 1.2003391223990791, &quot;y&quot;: 0.6912837941056298, &quot;z&quot;: 0.21168634533896435}], &quot;faces&quot;: [[0, 1, 2, 3], [1, 4, 5, 2], [4, 6, 7, 5], [6, 8, 9, 7], [8, 0, 3, 9]], &quot;color&quot;: &quot;#000000&quot;, &quot;opacity&quot;: 1.0}, {&quot;vertices&quot;: [{&quot;x&quot;: 1.891222009048442, &quot;y&quot;: 0.22135255538718268, &quot;z&quot;: 0.9408315508697956}, {&quot;x&quot;: 1.908313438560024, &quot;y&quot;: 0.21547935210022418, &quot;z&quot;: 0.9257924377011035}, {&quot;x&quot;: 1.7679159895830643, &quot;y&quot;: 0.7936323271271796, &quot;z&quot;: 0.5404503639308833}, {&quot;x&quot;: 1.7508245600714822, &quot;y&quot;: 0.7995055304141381, &quot;z&quot;: 0.5554894770995754}, {&quot;x&quot;: 1.8988925041142828, &quot;y&quot;: 0.2019950019588551, &quot;z&quot;: 0.9089934883311563}, {&quot;x&quot;: 1.758495055137323, &quot;y&quot;: 0.7801479769858105, &quot;z&quot;: 0.523651414560936}, {&quot;x&quot;: 1.8759786169094483, &quot;y&quot;: 0.19953441854224319, &quot;z&quot;: 0.9136502798139323}, {&quot;x&quot;: 1.7355811679324886, &quot;y&quot;: 0.7776873935691986, &quot;z&quot;: 0.528308206043712}, {&quot;x&quot;: 1.8712379902482204, &quot;y&quot;: 0.21149804449999177, &quot;z&quot;: 0.9333272845987561}, {&quot;x&quot;: 1.7308405412712606, &quot;y&quot;: 0.7896510195269472, &quot;z&quot;: 0.5479852108285359}], &quot;faces&quot;: [[0, 1, 2, 3], [1, 4, 5, 2], [4, 6, 7, 5], [6, 8, 9, 7], [8, 0, 3, 9]], &quot;color&quot;: &quot;#000000&quot;, &quot;opacity&quot;: 1.0}, {&quot;vertices&quot;: [{&quot;x&quot;: 2.2364596502349716, &quot;y&quot;: 0.8587391129632207, &quot;z&quot;: 0.0969880383933237}, {&quot;x&quot;: 2.226496160315816, &quot;y&quot;: 0.8419115577924847, &quot;z&quot;: 0.08393626992668418}, {&quot;x&quot;: 1.735347381296496, &quot;y&quot;: 0.7909423205632264, &quot;z&quot;: 0.5245848743476418}, {&quot;x&quot;: 1.7453108712156515, &quot;y&quot;: 0.8077698757339624, &quot;z&quot;: 0.5376366428142814}, {&quot;x&quot;: 2.235029016125093, &quot;y&quot;: 0.8211903534087611, &quot;z&quot;: 0.09105023261467182}, {&quot;x&quot;: 1.7438802371057733, &quot;y&quot;: 0.7702211161795028, &quot;z&quot;: 0.5316988370356294}, {&quot;x&quot;: 2.2502661009554843, &quot;y&quot;: 0.8252114999825226, &quot;z&quot;: 0.10849867181718625}, {&quot;x&quot;: 1.7591173219361642, &quot;y&quot;: 0.7742422627532644, &quot;z&quot;: 0.5491472762381439}, {&quot;x&quot;: 2.2511502814608537, &quot;y&quot;: 0.848417909622576, &quot;z&quot;: 0.11216843760698864}, {&quot;x&quot;: 1.7600015024415336, &quot;y&quot;: 0.7974486723933177, &quot;z&quot;: 0.5528170420279462}], &quot;faces&quot;: [[0, 1, 2, 3], [1, 4, 5, 2], [4, 6, 7, 5], [6, 8, 9, 7], [8, 0, 3, 9]], &quot;color&quot;: &quot;#000000&quot;, &quot;opacity&quot;: 1.0}, {&quot;vertices&quot;: [{&quot;x&quot;: 1.9937234563480086, &quot;y&quot;: 0.8278123529160779, &quot;z&quot;: -0.5275695528226183}, {&quot;x&quot;: 1.9799139161831625, &quot;y&quot;: 0.8098205539204396, &quot;z&quot;: -0.5213745408100313}, {&quot;x&quot;: 2.2212376196271753, &quot;y&quot;: 0.8404880971509427, &quot;z&quot;: 0.10563532471413525}, {&quot;x&quot;: 2.235047159792021, &quot;y&quot;: 0.858479896146581, &quot;z&quot;: 0.09944031270154832}, {&quot;x&quot;: 1.9918678462472268, &quot;y&quot;: 0.789902279936777, &quot;z&quot;: -0.5250011538353284}, {&quot;x&quot;: 2.2331915496912393, &quot;y&quot;: 0.8205698231672801, &quot;z&quot;: 0.1020087116888382}, {&quot;x&quot;: 2.0130653214908034, &quot;y&quot;: 0.795583908613279, &quot;z&quot;: -0.533437535961592}, {&quot;x&quot;: 2.254389024934816, &quot;y&quot;: 0.8262514518437821, &quot;z&quot;: 0.0935723295625746}, {&quot;x&quot;: 2.0142121516029543, &quot;y&quot;: 0.819013622230476, &quot;z&quot;: -0.535024893832408}, {&quot;x&quot;: 2.255535855046967, &quot;y&quot;: 0.8496811654609792, &quot;z&quot;: 0.09198497169175865}], &quot;faces&quot;: [[0, 1, 2, 3], [1, 4, 5, 2], [4, 6, 7, 5], [6, 8, 9, 7], [8, 0, 3, 9]], &quot;color&quot;: &quot;#000000&quot;, &quot;opacity&quot;: 1.0}, {&quot;vertices&quot;: [{&quot;x&quot;: 2.6781472825819144, &quot;y&quot;: 0.3266338041628718, &quot;z&quot;: 0.29363160636431207}, {&quot;x&quot;: 2.686419232413991, &quot;y&quot;: 0.3258735602305026, &quot;z&quot;: 0.27163653237855456}, {&quot;x&quot;: 2.25544572610679, &quot;y&quot;: 0.8494727671383081, &quot;z&quot;: 0.09145735472548261}, {&quot;x&quot;: 2.2471737762747135, &quot;y&quot;: 0.8502330110706773, &quot;z&quot;: 0.11345242871124013}, {&quot;x&quot;: 2.6731802120109256, &quot;y&quot;: 0.31077033276527133, &quot;z&quot;: 0.259413305987755}, {&quot;x&quot;: 2.2422067057037247, &quot;y&quot;: 0.8343695396730768, &quot;z&quot;: 0.0792341283346831}, {&quot;x&quot;: 2.656726097592001, &quot;y&quot;: 0.3021962687843066, &quot;z&quot;: 0.27385401061181375}, {&quot;x&quot;: 2.2257525912848, &quot;y&quot;: 0.8257954756921121, &quot;z&quot;: 0.0936748329587418}, {&quot;x&quot;: 2.659795916029392, &quot;y&quot;: 0.31200043328758553, &quot;z&quot;: 0.29500208328177935}, {&quot;x&quot;: 2.228822409722191, &quot;y&quot;: 0.835599640195391, &quot;z&quot;: 0.11482290562870737}], &quot;faces&quot;: [[0, 1, 2, 3], [1, 4, 5, 2], [4, 6, 7, 5], [6, 8, 9, 7], [8, 0, 3, 9]], &quot;color&quot;: &quot;#000000&quot;, &quot;opacity&quot;: 1.0}, {&quot;vertices&quot;: [{&quot;x&quot;: 2.2800057597489687, &quot;y&quot;: 0.24015749204072756, &quot;z&quot;: -0.7327347214356852}, {&quot;x&quot;: 2.2871387054644936, &quot;y&quot;: 0.2511858348839423, &quot;z&quot;: -0.7522355712646526}, {&quot;x&quot;: 2.0160630919669136, &quot;y&quot;: 0.8177725649999918, &quot;z&quot;: -0.5309659798314894}, {&quot;x&quot;: 2.008930146251389, &quot;y&quot;: 0.8067442221567771, &quot;z&quot;: -0.511465130002522}, {&quot;x&quot;: 2.2700781891410786, &quot;y&quot;: 0.24929829370610734, &quot;z&quot;: -0.768303003404871}, {&quot;x&quot;: 1.999002575643499, &quot;y&quot;: 0.8158850238221569, &quot;z&quot;: -0.5470334119717077}, {&quot;x&quot;: 2.252401264472062, &quot;y&quot;: 0.23710338625982552, &quot;z&quot;: -0.758732372750491}, {&quot;x&quot;: 1.9813256509744819, &quot;y&quot;: 0.8036901163758751, &quot;z&quot;: -0.5374627813173278}, {&quot;x&quot;: 2.258536840533452, &quot;y&quot;: 0.23145406014619918, &quot;z&quot;: -0.7367499655720942}, {&quot;x&quot;: 1.9874612270358725, &quot;y&quot;: 0.7980407902622487, &quot;z&quot;: -0.515480374138931}], &quot;faces&quot;: [[0, 1, 2, 3], [1, 4, 5, 2], [4, 6, 7, 5], [6, 8, 9, 7], [8, 0, 3, 9]], &quot;color&quot;: &quot;#000000&quot;, &quot;opacity&quot;: 1.0}, {&quot;vertices&quot;: [{&quot;x&quot;: 1.7626727255551837, &quot;y&quot;: -0.16076136267443508, &quot;z&quot;: -0.8935936459856396}, {&quot;x&quot;: 1.7762246780595603, &quot;y&quot;: -0.17914012724302542, &quot;z&quot;: -0.8879943602498078}, {&quot;x&quot;: 2.27102822212047, &quot;y&quot;: 0.2333279102265051, &quot;z&quot;: -0.7317067789588224}, {&quot;x&quot;: 2.257476269616093, &quot;y&quot;: 0.2517066747950954, &quot;z&quot;: -0.7373060646946542}, {&quot;x&quot;: 1.7878473089312497, &quot;y&quot;: -0.18575573092462205, &quot;z&quot;: -0.9073317500438971}, {&quot;x&quot;: 2.282650852992159, &quot;y&quot;: 0.22671230654490845, &quot;z&quot;: -0.7510441687529117}, {&quot;x&quot;: 1.7814785373442705, &quot;y&quot;: -0.1714656342873574, &quot;z&quot;: -0.9248821999261811}, {&quot;x&quot;: 2.27628208140518, &quot;y&quot;: 0.2410024031821731, &quot;z&quot;: -0.7685946186351958}, {&quot;x&quot;: 1.7659197891652436, &quot;y&quot;: -0.1560182651814106, &quot;z&quot;: -0.9163915846771953}, {&quot;x&quot;: 2.2607233332261534, &quot;y&quot;: 0.2564497722881199, &quot;z&quot;: -0.7601040033862099}], &quot;faces&quot;: [[0, 1, 2, 3], [1, 4, 5, 2], [4, 6, 7, 5], [6, 8, 9, 7], [8, 0, 3, 9]], &quot;color&quot;: &quot;#000000&quot;, &quot;opacity&quot;: 1.0}, {&quot;vertices&quot;: [{&quot;x&quot;: 2.67506510783718, &quot;y&quot;: -0.0398544990587712, &quot;z&quot;: -0.27896421480137823}, {&quot;x&quot;: 2.6880043662461732, &quot;y&quot;: -0.04914846351806318, &quot;z&quot;: -0.2962553749982755}, {&quot;x&quot;: 2.285660123022399, &quot;y&quot;: 0.2502474490444341, &quot;z&quot;: -0.7582608744609304}, {&quot;x&quot;: 2.272720864613406, &quot;y&quot;: 0.25954141350372606, &quot;z&quot;: -0.7409697142640331}, {&quot;x&quot;: 2.678793513296033, &quot;y&quot;: -0.07006149466276618, &quot;z&quot;: -0.30178635328169123}, {&quot;x&quot;: 2.2764492700722587, &quot;y&quot;: 0.2293344178997311, &quot;z&quot;: -0.7637918527443461}, {&quot;x&quot;: 2.660161634698476, &quot;y&quot;: -0.07369249425868574, &quot;z&quot;: -0.2879135256549825}, {&quot;x&quot;: 2.2578173914747017, &quot;y&quot;: 0.22570341830381155, &quot;z&quot;: -0.7499190251176373}, {&quot;x&quot;: 2.6578573534010643, &quot;y&quot;: -0.05502354427739814, &quot;z&quot;: -0.2738086683781922}, {&quot;x&quot;: 2.25551311017729, &quot;y&quot;: 0.2443723682850991, &quot;z&quot;: -0.7358141678408471}], &quot;faces&quot;: [[0, 1, 2, 3], [1, 4, 5, 2], [4, 6, 7, 5], [6, 8, 9, 7], [8, 0, 3, 9]], &quot;color&quot;: &quot;#000000&quot;, &quot;opacity&quot;: 1.0}, {&quot;vertices&quot;: [{&quot;x&quot;: 1.9147664830883646, &quot;y&quot;: -0.7489365578192182, &quot;z&quot;: -0.5648391477704797}, {&quot;x&quot;: 1.9316511673570902, &quot;y&quot;: -0.7536217825395926, &quot;z&quot;: -0.580515324312133}, {&quot;x&quot;: 1.794052232150616, &quot;y&quot;: -0.1653136530427467, &quot;z&quot;: -0.9045529080107324}, {&quot;x&quot;: 1.7771675478818905, &quot;y&quot;: -0.16062842832237226, &quot;z&quot;: -0.8888767314690791}, {&quot;x&quot;: 1.9219694561755665, &quot;y&quot;: -0.7656515637731851, &quot;z&quot;: -0.5982448261824482}, {&quot;x&quot;: 1.7843705209690923, &quot;y&quot;: -0.17734343427633908, &quot;z&quot;: -0.9222824098810476}, {&quot;x&quot;: 1.8991011453273992, &quot;y&quot;: -0.7684011527323964, &quot;z&quot;: -0.5935260844002545}, {&quot;x&quot;: 1.761502210120925, &quot;y&quot;: -0.1800930232355504, &quot;z&quot;: -0.9175636680988538}, {&quot;x&quot;: 1.8946494631394577, &quot;y&quot;: -0.7580707109306881, &quot;z&quot;: -0.5728802397244093}, {&quot;x&quot;: 1.7570505279329836, &quot;y&quot;: -0.16976258143384204, &quot;z&quot;: -0.8969178234230086}], &quot;faces&quot;: [[0, 1, 2, 3], [1, 4, 5, 2], [4, 6, 7, 5], [6, 8, 9, 7], [8, 0, 3, 9]], &quot;color&quot;: &quot;#000000&quot;, &quot;opacity&quot;: 1.0}, {&quot;vertices&quot;: [{&quot;x&quot;: 1.4188061750220373, &quot;y&quot;: -0.8240632691691024, &quot;z&quot;: -0.14396682019530965}, {&quot;x&quot;: 1.4322847397066059, &quot;y&quot;: -0.8388387661804987, &quot;z&quot;: -0.13160561529408088}, {&quot;x&quot;: 1.9247571186446044, &quot;y&quot;: -0.7539099981808679, &quot;z&quot;: -0.567077407900968}, {&quot;x&quot;: 1.9112785539600359, &quot;y&quot;: -0.7391345011694717, &quot;z&quot;: -0.5794386128021968}, {&quot;x&quot;: 1.4287242499414832, &quot;y&quot;: -0.8605605154849599, &quot;z&quot;: -0.13986847946376407}, {&quot;x&quot;: 1.9211966288794817, &quot;y&quot;: -0.7756317474853291, &quot;z&quot;: -0.5753402720706512}, {&quot;x&quot;: 1.4130451815654723, &quot;y&quot;: -0.8592097978388251, &quot;z&quot;: -0.15733641526628073}, {&quot;x&quot;: 1.9055175605034709, &quot;y&quot;: -0.7742810298391943, &quot;z&quot;: -0.5928082078731678}, {&quot;x&quot;: 1.406915474162287, &quot;y&quot;: -0.8366532591198483, &quot;z&quot;: -0.159869329135854}, {&quot;x&quot;: 1.8993878531002855, &quot;y&quot;: -0.7517244911202176, &quot;z&quot;: -0.5953411217427411}], &quot;faces&quot;: [[0, 1, 2, 3], [1, 4, 5, 2], [4, 6, 7, 5], [6, 8, 9, 7], [8, 0, 3, 9]], &quot;color&quot;: &quot;#000000&quot;, &quot;opacity&quot;: 1.0}, {&quot;vertices&quot;: [{&quot;x&quot;: 2.449447895132629, &quot;y&quot;: -0.666400780227473, &quot;z&quot;: -0.20573204669028888}, {&quot;x&quot;: 2.461254623852801, &quot;y&quot;: -0.6811948927134357, &quot;z&quot;: -0.21967915381617703}, {&quot;x&quot;: 1.9230981824151472, &quot;y&quot;: -0.753883918125605, &quot;z&quot;: -0.5981445550624956}, {&quot;x&quot;: 1.9112914536949757, &quot;y&quot;: -0.7390898056396422, &quot;z&quot;: -0.5841974479366076}, {&quot;x&quot;: 2.4583148916072224, &quot;y&quot;: -0.7029712992424083, &quot;z&quot;: -0.21131658856924068}, {&quot;x&quot;: 1.9201584501695685, &quot;y&quot;: -0.7756603246545776, &quot;z&quot;: -0.5897819898155593}, {&quot;x&quot;: 2.4446913084414588, &quot;y&quot;: -0.7016357461441858, &quot;z&quot;: -0.19220113188760723}, {&quot;x&quot;: 1.9065348670038054, &quot;y&quot;: -0.774324771556355, &quot;z&quot;: -0.5706665331339258}, {&quot;x&quot;: 2.439211203242035, &quot;y&quot;: -0.6790339224067314, &quot;z&quot;: -0.18874969519481782}, {&quot;x&quot;: 1.9010547618043814, &quot;y&quot;: -0.7517229478189007, &quot;z&quot;: -0.5672150964411364}], &quot;faces&quot;: [[0, 1, 2, 3], [1, 4, 5, 2], [4, 6, 7, 5], [6, 8, 9, 7], [8, 0, 3, 9]], &quot;color&quot;: &quot;#000000&quot;, &quot;opacity&quot;: 1.0}, {&quot;vertices&quot;: [{&quot;x&quot;: 1.6861430714289716, &quot;y&quot;: -0.795892509737533, &quot;z&quot;: 0.4602425878390177}, {&quot;x&quot;: 1.7036879927076187, &quot;y&quot;: -0.8098672986951303, &quot;z&quot;: 0.45319507654660107}, {&quot;x&quot;: 1.4373234903082257, &quot;y&quot;: -0.837858468176629, &quot;z&quot;: -0.15441991861499088}, {&quot;x&quot;: 1.4197785690295788, &quot;y&quot;: -0.8238836792190317, &quot;z&quot;: -0.1473724073225742}, {&quot;x&quot;: 1.6972304774659694, &quot;y&quot;: -0.8321430784680368, &quot;z&quot;: 0.45705208794312047}, {&quot;x&quot;: 1.4308659750665766, &quot;y&quot;: -0.8601342479495355, &quot;z&quot;: -0.15056290721847146}, {&quot;x&quot;: 1.675694592285113, &quot;y&quot;: -0.8319354785360031, &quot;z&quot;: 0.46648336337358187}, {&quot;x&quot;: 1.40933008988572, &quot;y&quot;: -0.8599266480175018, &quot;z&quot;: -0.1411316317880101}, {&quot;x&quot;: 1.6688421985071775, &quot;y&quot;: -0.8095313949490376, &quot;z&quot;: 0.4684552007503494}, {&quot;x&quot;: 1.4024776961077845, &quot;y&quot;: -0.8375225644305363, &quot;z&quot;: -0.1391597944112426}], &quot;faces&quot;: [[0, 1, 2, 3], [1, 4, 5, 2], [4, 6, 7, 5], [6, 8, 9, 7], [8, 0, 3, 9]], &quot;color&quot;: &quot;#000000&quot;, &quot;opacity&quot;: 1.0}, {&quot;vertices&quot;: [{&quot;x&quot;: 1.4488922096774397, &quot;y&quot;: -0.2599266382755153, &quot;z&quot;: 0.7649314423201727}, {&quot;x&quot;: 1.463572580487668, &quot;y&quot;: -0.2639478595990711, &quot;z&quot;: 0.7828507865169123}, {&quot;x&quot;: 1.704902524100244, &quot;y&quot;: -0.8087042949391392, &quot;z&quot;: 0.4628949225729071}, {&quot;x&quot;: 1.6902221532900157, &quot;y&quot;: -0.8046830736155834, &quot;z&quot;: 0.44497557837616764}, {&quot;x&quot;: 1.4525720736733956, &quot;y&quot;: -0.27787730339967187, &quot;z&quot;: 0.7982697958798737}, {&quot;x&quot;: 1.6939020172859716, &quot;y&quot;: -0.82263373873974, &quot;z&quot;: 0.47831393193586846}, {&quot;x&quot;: 1.431093015758472, &quot;y&quot;: -0.2824649517892691, &quot;z&quot;: 0.7898799235422971}, {&quot;x&quot;: 1.672422959371048, &quot;y&quot;: -0.8272213871293372, &quot;z&quot;: 0.469924059598292}, {&quot;x&quot;: 1.4288187347349943, &quot;y&quot;: -0.27137083062187295, &quot;z&quot;: 0.769275687913441}, {&quot;x&quot;: 1.6701486783475703, &quot;y&quot;: -0.8161272659619411, &quot;z&quot;: 0.4493198239694358}], &quot;faces&quot;: [[0, 1, 2, 3], [1, 4, 5, 2], [4, 6, 7, 5], [6, 8, 9, 7], [8, 0, 3, 9]], &quot;color&quot;: &quot;#000000&quot;, &quot;opacity&quot;: 1.0}, {&quot;vertices&quot;: [{&quot;x&quot;: 2.3442495268502483, &quot;y&quot;: -0.6936060507219558, &quot;z&quot;: 0.4764910992176267}, {&quot;x&quot;: 2.3472506443867864, &quot;y&quot;: -0.7099158441850351, &quot;z&quot;: 0.45982465582908016}, {&quot;x&quot;: 1.6863691680816306, &quot;y&quot;: -0.8126425415082259, &quot;z&quot;: 0.44134850201221476}, {&quot;x&quot;: 1.6833680505450928, &quot;y&quot;: -0.7963327480451466, &quot;z&quot;: 0.4580149454007613}, {&quot;x&quot;: 2.3501833523909443, &quot;y&quot;: -0.7306913372227593, &quot;z&quot;: 0.4704342984857327}, {&quot;x&quot;: 1.689301876085789, &quot;y&quot;: -0.8334180345459501, &quot;z&quot;: 0.4519581446688673}, {&quot;x&quot;: 2.3489947480800555, &quot;y&quot;: -0.7272215045900304, &quot;z&quot;: 0.49365786164458125}, {&quot;x&quot;: 1.6881132717749, &quot;y&quot;: -0.8299482019132213, &quot;z&quot;: 0.4751817078277159}, {&quot;x&quot;: 2.345327442212593, &quot;y&quot;: -0.7043015370500063, &quot;z&quot;: 0.497401170359977}, {&quot;x&quot;: 1.6844459659074373, &quot;y&quot;: -0.8070282343731972, &quot;z&quot;: 0.47892501654311165}], &quot;faces&quot;: [[0, 1, 2, 3], [1, 4, 5, 2], [4, 6, 7, 5], [6, 8, 9, 7], [8, 0, 3, 9]], &quot;color&quot;: &quot;#000000&quot;, &quot;opacity&quot;: 1.0}, {&quot;vertices&quot;: [{&quot;x&quot;: 2.4570303888044305, &quot;y&quot;: -0.08930196448761984, &quot;z&quot;: 0.7480020559881704}, {&quot;x&quot;: 2.477116044204505, &quot;y&quot;: -0.0972688260450798, &quot;z&quot;: 0.7572693084706359}, {&quot;x&quot;: 2.3652317380496086, &quot;y&quot;: -0.7124129135667278, &quot;z&quot;: 0.4709386867365267}, {&quot;x&quot;: 2.345146082649534, &quot;y&quot;: -0.7044460520092678, &quot;z&quot;: 0.4616714342540612}, {&quot;x&quot;: 2.472284029785075, &quot;y&quot;: -0.10625052216395214, &quot;z&quot;: 0.7784534340362261}, {&quot;x&quot;: 2.3603997236301786, &quot;y&quot;: -0.7213946096856001, &quot;z&quot;: 0.4921228123021169}, {&quot;x&quot;: 2.4492120252396625, &quot;y&quot;: -0.10383465408457826, &quot;z&quot;: 0.782278691175241}, {&quot;x&quot;: 2.337327719084766, &quot;y&quot;: -0.7189787416062262, &quot;z&quot;: 0.49594806944113173}, {&quot;x&quot;: 2.439784756661436, &quot;y&quot;: -0.09335986938031693, &quot;z&quot;: 0.76345870453727}, {&quot;x&quot;: 2.3279004505065397, &quot;y&quot;: -0.7085039569019649, &quot;z&quot;: 0.4771280828031609}], &quot;faces&quot;: [[0, 1, 2, 3], [1, 4, 5, 2], [4, 6, 7, 5], [6, 8, 9, 7], [8, 0, 3, 9]], &quot;color&quot;: &quot;#000000&quot;, &quot;opacity&quot;: 1.0}, {&quot;vertices&quot;: [{&quot;x&quot;: 2.4408945831526068, &quot;y&quot;: -0.6687684832988456, &quot;z&quot;: -0.20431385251153072}, {&quot;x&quot;: 2.4311948329486124, &quot;y&quot;: -0.6900612362946291, &quot;z&quot;: -0.2066203477620579}, {&quot;x&quot;: 2.3278119912775086, &quot;y&quot;: -0.7169611629017396, &quot;z&quot;: 0.4764771925769679}, {&quot;x&quot;: 2.3375117414815034, &quot;y&quot;: -0.6956684099059561, &quot;z&quot;: 0.4787836878274951}, {&quot;x&quot;: 2.448290231113741, &quot;y&quot;: -0.7060832978601477, &quot;z&quot;: -0.20466399675406027}, {&quot;x&quot;: 2.3449073894426373, &quot;y&quot;: -0.7329832244672582, &quot;z&quot;: 0.4784335435849655}, {&quot;x&quot;: 2.4685555184349974, &quot;y&quot;: -0.6946927234816981, &quot;z&quot;: -0.20114841008666556}, {&quot;x&quot;: 2.365172676763894, &quot;y&quot;: -0.7215926500888086, &quot;z&quot;: 0.48194913025236025}, {&quot;x&quot;: 2.463984756626188, &quot;y&quot;: -0.6716308997989139, &quot;z&quot;: -0.2009320090438172}, {&quot;x&quot;: 2.360601914955084, &quot;y&quot;: -0.6985308264060244, &quot;z&quot;: 0.4821655312952086}], &quot;faces&quot;: [[0, 1, 2, 3], [1, 4, 5, 2], [4, 6, 7, 5], [6, 8, 9, 7], [8, 0, 3, 9]], &quot;color&quot;: &quot;#000000&quot;, &quot;opacity&quot;: 1.0}, {&quot;vertices&quot;: [{&quot;x&quot;: 2.6649250660765103, &quot;y&quot;: -0.057579860106683145, &quot;z&quot;: -0.3064613479401351}, {&quot;x&quot;: 2.686456965081389, &quot;y&quot;: -0.06426965410529006, &quot;z&quot;: -0.2997972361463606}, {&quot;x&quot;: 2.465064554440833, &quot;y&quot;: -0.6929608830970001, &quot;z&quot;: -0.2155873319550831}, {&quot;x&quot;: 2.443532655435954, &quot;y&quot;: -0.6862710890983932, &quot;z&quot;: -0.22225144374885755}, {&quot;x&quot;: 2.6879772085426357, &quot;y&quot;: -0.061681543348125256, &quot;z&quot;: -0.2764782107158837}, {&quot;x&quot;: 2.4665847979020796, &quot;y&quot;: -0.6903727723398353, &quot;z&quot;: -0.1922683065246062}, {&quot;x&quot;: 2.667384871667981, &quot;y&quot;: -0.05339220893494134, &quot;z&quot;: -0.2687303722091003}, {&quot;x&quot;: 2.445992461027425, &quot;y&quot;: -0.6820834379266514, &quot;z&quot;: -0.1845204680178228}, {&quot;x&quot;: 2.653137864110411, &quot;y&quot;: -0.05085722928064429, &quot;z&quot;: -0.28726097010303986}, {&quot;x&quot;: 2.431745453469855, &quot;y&quot;: -0.6795484582723543, &quot;z&quot;: -0.2030510659117623}], &quot;faces&quot;: [[0, 1, 2, 3], [1, 4, 5, 2], [4, 6, 7, 5], [6, 8, 9, 7], [8, 0, 3, 9]], &quot;color&quot;: &quot;#000000&quot;, &quot;opacity&quot;: 1.0}, {&quot;vertices&quot;: [{&quot;x&quot;: 2.6708636695793952, &quot;y&quot;: 0.3321980214986769, &quot;z&quot;: 0.26770728224992835}, {&quot;x&quot;: 2.6898779159533985, &quot;y&quot;: 0.32066587033944405, &quot;z&quot;: 0.2753397346061074}, {&quot;x&quot;: 2.691000562923539, &quot;y&quot;: -0.05238510866180047, &quot;z&quot;: -0.2911134005416395}, {&quot;x&quot;: 2.671986316549536, &quot;y&quot;: -0.04085295750256761, &quot;z&quot;: -0.2987458528978185}, {&quot;x&quot;: 2.682601408997128, &quot;y&quot;: 0.3019875860739228, &quot;z&quot;: 0.28762633494598067}, {&quot;x&quot;: 2.683724055967269, &quot;y&quot;: -0.07106339292732175, &quot;z&quot;: -0.2788268002017662}, {&quot;x&quot;: 2.659090034004775, &quot;y&quot;: 0.30197592270553114, &quot;z&quot;: 0.28758741920602926}, {&quot;x&quot;: 2.6602126809749156, &quot;y&quot;: -0.0710750562957134, &quot;z&quot;: -0.2788657159417176}, {&quot;x&quot;: 2.6518357120935265, &quot;y&quot;: 0.32064699861296303, &quot;z&quot;: 0.2752767676161687}, {&quot;x&quot;: 2.652958359063667, &quot;y&quot;: -0.05240398038828147, &quot;z&quot;: -0.29117636753157816}], &quot;faces&quot;: [[0, 1, 2, 3], [1, 4, 5, 2], [4, 6, 7, 5], [6, 8, 9, 7], [8, 0, 3, 9]], &quot;color&quot;: &quot;#000000&quot;, &quot;opacity&quot;: 1.0}, {&quot;vertices&quot;: [{&quot;x&quot;: 2.456843450233674, &quot;y&quot;: -0.08238088613440381, &quot;z&quot;: 0.7781772984297678}, {&quot;x&quot;: 2.4763217471430456, &quot;y&quot;: -0.09530788436040039, &quot;z&quot;: 0.775672289273001}, {&quot;x&quot;: 2.6880900463296684, &quot;y&quot;: 0.3181901627180166, &quot;z&quot;: 0.28848735815633514}, {&quot;x&quot;: 2.6686117494202968, &quot;y&quot;: 0.33111716094401317, &quot;z&quot;: 0.29099236731310196}, {&quot;x&quot;: 2.471980065774685, &quot;y&quot;: -0.1119596719060798, &quot;z&quot;: 0.7596518592248022}, {&quot;x&quot;: 2.683748364961308, &quot;y&quot;: 0.30153837517233717, &quot;z&quot;: 0.27246692810813633}, {&quot;x&quot;: 2.449818462211345, &quot;y&quot;: -0.10932404435675525, &quot;z&quot;: 0.752255698097392}, {&quot;x&quot;: 2.6615867613979676, &quot;y&quot;: 0.30417400272166173, &quot;z&quot;: 0.2650707669807262}, {&quot;x&quot;: 2.4404635193323596, &quot;y&quot;: -0.09104334940390774, &quot;z&quot;: 0.7637050491825805}, {&quot;x&quot;: 2.652231818518983, &quot;y&quot;: 0.32245469767450924, &quot;z&quot;: 0.27652011806591476}], &quot;faces&quot;: [[0, 1, 2, 3], [1, 4, 5, 2], [4, 6, 7, 5], [6, 8, 9, 7], [8, 0, 3, 9]], &quot;color&quot;: &quot;#000000&quot;, &quot;opacity&quot;: 1.0}, {&quot;vertices&quot;: [{&quot;x&quot;: 1.895504232788717, &quot;y&quot;: 0.22652698067354682, &quot;z&quot;: 0.9152840885831524}, {&quot;x&quot;: 1.8988990461698694, &quot;y&quot;: 0.22115097424225633, &quot;z&quot;: 0.9379194635846387}, {&quot;x&quot;: 2.468855583332808, &quot;y&quot;: -0.08682406748775237, &quot;z&quot;: 0.7792928941631986}, {&quot;x&quot;: 2.4654607699516555, &quot;y&quot;: -0.0814480610564619, &quot;z&quot;: 0.7566575191617122}, {&quot;x&quot;: 1.8887918658934642, &quot;y&quot;: 0.20032583192761344, &quot;z&quot;: 0.9420358647962741}, {&quot;x&quot;: 2.4587484030564024, &quot;y&quot;: -0.10764920980239531, &quot;z&quot;: 0.783409295374834}, {&quot;x&quot;: 1.8791504715710705, &quot;y&quot;: 0.19283119258790088, &quot;z&quot;: 0.9219445656549097}, {&quot;x&quot;: 2.4491070087340088, &quot;y&quot;: -0.11514384914210782, &quot;z&quot;: 0.7633179962334695}, {&quot;x&quot;: 1.8832989424572963, &quot;y&quot;: 0.2090243930571794, &quot;z&quot;: 0.9054110586957695}, {&quot;x&quot;: 2.4532554796202346, &quot;y&quot;: -0.0989506486728293, &quot;z&quot;: 0.7467844892743293}], &quot;faces&quot;: [[0, 1, 2, 3], [1, 4, 5, 2], [4, 6, 7, 5], [6, 8, 9, 7], [8, 0, 3, 9]], &quot;color&quot;: &quot;#000000&quot;, &quot;opacity&quot;: 1.0}, {&quot;vertices&quot;: [{&quot;x&quot;: 1.432887867647204, &quot;y&quot;: -0.2642261869593677, &quot;z&quot;: 0.7953961318668022}, {&quot;x&quot;: 1.4496456200042984, &quot;y&quot;: -0.28049752698739583, &quot;z&quot;: 0.7980808355991773}, {&quot;x&quot;: 1.893784808913988, &quot;y&quot;: 0.20059186424738346, &quot;z&quot;: 0.9415583166275868}, {&quot;x&quot;: 1.8770270565568936, &quot;y&quot;: 0.21686320427541153, &quot;z&quot;: 0.9388736128952118}, {&quot;x&quot;: 1.4599690807649321, &quot;y&quot;: -0.2838060116643098, &quot;z&quot;: 0.7772177943164131}, {&quot;x&quot;: 1.9041082696746217, &quot;y&quot;: 0.1972833795704695, &quot;z&quot;: 0.9206952753448227}, {&quot;x&quot;: 1.4495915780394353, &quot;y&quot;: -0.26957942761787274, &quot;z&quot;: 0.7616390219625976}, {&quot;x&quot;: 1.8937307669491248, &quot;y&quot;: 0.21150996361690655, &quot;z&quot;: 0.9051165029910071}, {&quot;x&quot;: 1.4328544678760997, &quot;y&quot;: -0.2574784304564537, &quot;z&quot;: 0.7728738524277066}, {&quot;x&quot;: 1.8769936567857892, &quot;y&quot;: 0.2236109607783256, &quot;z&quot;: 0.9163513334561161}], &quot;faces&quot;: [[0, 1, 2, 3], [1, 4, 5, 2], [4, 6, 7, 5], [6, 8, 9, 7], [8, 0, 3, 9]], &quot;color&quot;: &quot;#000000&quot;, &quot;opacity&quot;: 1.0}, {&quot;vertices&quot;: [{&quot;x&quot;: 1.058305360919063, &quot;y&quot;: 0.05380536142471587, &quot;z&quot;: 0.33053032056624965}, {&quot;x&quot;: 1.046849972154965, &quot;y&quot;: 0.06401819093883643, &quot;z&quot;: 0.3483420747212712}, {&quot;x&quot;: 1.4495995155933432, &quot;y&quot;: -0.25357300759095236, &quot;z&quot;: 0.7894641164941442}, {&quot;x&quot;: 1.4610549043574412, &quot;y&quot;: -0.2637858371050729, &quot;z&quot;: 0.7716523623391226}, {&quot;x&quot;: 1.029024006523315, &quot;y&quot;: 0.04998510512894205, &quot;z&quot;: 0.3545140967927987}, {&quot;x&quot;: 1.4317735499616935, &quot;y&quot;: -0.26760609340084673, &quot;z&quot;: 0.7956361385656716}, {&quot;x&quot;: 1.029462342644766, &quot;y&quot;: 0.031099351617262905, &quot;z&quot;: 0.3405168620572957}, {&quot;x&quot;: 1.4322118860831443, &quot;y&quot;: -0.2864918469125259, &quot;z&quot;: 0.7816389038301687}, {&quot;x&quot;: 1.0475592148979693, &quot;y&quot;: 0.033460399853786904, &quot;z&quot;: 0.3256940731707167}, {&quot;x&quot;: 1.4503087583363476, &quot;y&quot;: -0.2841307986760019, &quot;z&quot;: 0.7668161149435897}], &quot;faces&quot;: [[0, 1, 2, 3], [1, 4, 5, 2], [4, 6, 7, 5], [6, 8, 9, 7], [8, 0, 3, 9]], &quot;color&quot;: &quot;#000000&quot;, &quot;opacity&quot;: 1.0}];\n",
       "    for ( var i=0 ; i < surfaces.length ; i++ ) addSurface( surfaces[i] );\n",
       "\n",
       "    function addSurface( json ) {\n",
       "\n",
       "        var useFaceColors = 'faceColors' in json ? true : false;\n",
       "\n",
       "        var geometry = new THREE.Geometry();\n",
       "        for ( var i=0 ; i < json.vertices.length ; i++ ) {\n",
       "            var v = json.vertices[i];\n",
       "            geometry.vertices.push( new THREE.Vector3( a[0]*v.x, a[1]*v.y, a[2]*v.z ) );\n",
       "        }\n",
       "        for ( var i=0 ; i < json.faces.length ; i++ ) {\n",
       "            var f = json.faces[i];\n",
       "            for ( var j=0 ; j < f.length - 2 ; j++ ) {\n",
       "                var face = new THREE.Face3( f[0], f[j+1], f[j+2] );\n",
       "                if ( useFaceColors ) face.color.set( json.faceColors[i] );\n",
       "                geometry.faces.push( face );\n",
       "            }\n",
       "        }\n",
       "        geometry.computeVertexNormals();\n",
       "\n",
       "        var side = json.singleSide ? THREE.FrontSide : THREE.DoubleSide;\n",
       "        var transparent = json.opacity < 1 ? true : false;\n",
       "        var depthWrite = 'depthWrite' in json ? json.depthWrite : !transparent;\n",
       "        var flatShading = json.useFlatShading ? json.useFlatShading : false;\n",
       "\n",
       "        var material = new THREE.MeshPhongMaterial( { side: side,\n",
       "                                     color: useFaceColors ? 'white' : json.color,\n",
       "                                     vertexColors: useFaceColors ? THREE.FaceColors : THREE.NoColors,\n",
       "                                     transparent: transparent, opacity: json.opacity,\n",
       "                                     shininess: 20, flatShading: flatShading,\n",
       "                                     depthWrite: depthWrite } );\n",
       "\n",
       "        var c = new THREE.Vector3();\n",
       "        geometry.computeBoundingBox();\n",
       "        geometry.boundingBox.getCenter( c );\n",
       "        geometry.translate( -c.x, -c.y, -c.z );\n",
       "\n",
       "        var mesh = new THREE.Mesh( geometry, material );\n",
       "        mesh.position.set( c.x, c.y, c.z );\n",
       "        if ( transparent && json.renderOrder ) mesh.renderOrder = json.renderOrder;\n",
       "        mesh.userData = json;\n",
       "        scene.add( mesh );\n",
       "\n",
       "        if ( json.showMeshGrid ) addSurfaceMeshGrid( json );\n",
       "\n",
       "    }\n",
       "\n",
       "    function addSurfaceMeshGrid( json ) {\n",
       "\n",
       "        var geometry = new THREE.Geometry();\n",
       "\n",
       "        for ( var i=0 ; i < json.faces.length ; i++ ) {\n",
       "            var f = json.faces[i];\n",
       "            for ( var j=0 ; j < f.length ; j++ ) {\n",
       "                var k = j === f.length-1 ? 0 : j+1;\n",
       "                var v1 = json.vertices[f[j]];\n",
       "                var v2 = json.vertices[f[k]];\n",
       "                // vertices in opposite directions on neighboring faces\n",
       "                var nudge = f[j] < f[k] ? .0005*zRange : -.0005*zRange;\n",
       "                geometry.vertices.push( new THREE.Vector3( a[0]*v1.x, a[1]*v1.y, a[2]*(v1.z+nudge) ) );\n",
       "                geometry.vertices.push( new THREE.Vector3( a[0]*v2.x, a[1]*v2.y, a[2]*(v2.z+nudge) ) );\n",
       "            }\n",
       "        }\n",
       "\n",
       "        var c = new THREE.Vector3();\n",
       "        geometry.computeBoundingBox();\n",
       "        geometry.boundingBox.getCenter( c );\n",
       "        geometry.translate( -c.x, -c.y, -c.z );\n",
       "\n",
       "        var gridColor = options.theme === 'dark' ? 'white' : 'black';\n",
       "        var linewidth = json.linewidth || 1;\n",
       "        var materialOptions = { color: gridColor, linewidth: linewidth };\n",
       "\n",
       "        var mesh;\n",
       "        if ( linewidth > 1 && window.createFatLineSegments ) {\n",
       "            mesh = createFatLineSegments( geometry, materialOptions );\n",
       "        } else {\n",
       "            var material = new THREE.LineBasicMaterial( materialOptions );\n",
       "            mesh = new THREE.LineSegments( geometry, material );\n",
       "        }\n",
       "\n",
       "        mesh.position.set( c.x, c.y, c.z );\n",
       "        mesh.userData = json;\n",
       "        scene.add( mesh );\n",
       "\n",
       "    }\n",
       "\n",
       "    function render() {\n",
       "\n",
       "        if ( window.updateAnimation ) animate = updateAnimation();\n",
       "        if ( animate ) requestAnimationFrame( render );\n",
       "\n",
       "        renderer.render( scene, camera );\n",
       "\n",
       "    }\n",
       "\n",
       "    render();\n",
       "    controls.update();\n",
       "    if ( !animate ) render();\n",
       "\n",
       "\n",
       "    // menu functions\n",
       "\n",
       "    function toggleMenu() {\n",
       "\n",
       "        var m = document.getElementById( 'menu-content' );\n",
       "        if ( m.style.display === 'block' ) m.style.display = 'none'\n",
       "        else m.style.display = 'block';\n",
       "\n",
       "    }\n",
       "\n",
       "\n",
       "    function saveAsPNG() {\n",
       "\n",
       "        var a = document.body.appendChild( document.createElement( 'a' ) );\n",
       "        a.href = renderer.domElement.toDataURL( 'image/png' );\n",
       "        a.download = 'screenshot';\n",
       "        a.click();\n",
       "\n",
       "    }\n",
       "\n",
       "    function saveAsHTML() {\n",
       "\n",
       "        toggleMenu(); // otherwise visible in output\n",
       "        event.stopPropagation();\n",
       "\n",
       "        var blob = new Blob( [ '<!DOCTYPE html>\\n' + document.documentElement.outerHTML ] );\n",
       "        var a = document.body.appendChild( document.createElement( 'a' ) );\n",
       "        a.href = window.URL.createObjectURL( blob );\n",
       "        a.download = suggestFilename();\n",
       "        a.click();\n",
       "\n",
       "        function suggestFilename() {\n",
       "            if ( !document.title ) {\n",
       "                return 'graphic.html';\n",
       "            } else if ( /\\.html?$/i.test( document.title ) ) {\n",
       "                return document.title; // already ends in .htm or .html\n",
       "            } else {\n",
       "                return document.title + '.html';\n",
       "            }\n",
       "        }\n",
       "\n",
       "    }\n",
       "\n",
       "    function getViewpoint() {\n",
       "\n",
       "        function roundTo( x, n ) { return +x.toFixed(n); }\n",
       "\n",
       "        var v = camera.quaternion.inverse();\n",
       "        var r = Math.sqrt( v.x*v.x + v.y*v.y + v.z*v.z );\n",
       "        var axis = [ roundTo( v.x / r, 4 ), roundTo( v.y / r, 4 ), roundTo( v.z / r, 4 ) ];\n",
       "        var angle = roundTo( 2 * Math.atan2( r, v.w ) * 180 / Math.PI, 2 );\n",
       "\n",
       "        var textArea = document.createElement( 'textarea' );\n",
       "        textArea.textContent = JSON.stringify( axis ) + ',' + angle;\n",
       "        textArea.style.csstext = 'position: absolute; top: -100%';\n",
       "        document.body.append( textArea );\n",
       "        textArea.select();\n",
       "        document.execCommand( 'copy' );\n",
       "\n",
       "        var m = document.getElementById( 'menu-message' );\n",
       "        m.innerHTML = 'Viewpoint copied to clipboard';\n",
       "        m.style.display = 'block';\n",
       "        setTimeout( function() { m.style.display = 'none'; }, 2000 );\n",
       "\n",
       "    }\n",
       "\n",
       "    function getCamera() {\n",
       "\n",
       "        function roundTo( x, n ) { return +x.toFixed(n); }\n",
       "\n",
       "        var pos = camera.position;\n",
       "        var pos_r = [ roundTo( pos.x, 4 ), roundTo( pos.y, 4 ), roundTo( pos.z, 4 ) ];\n",
       "   //     var up = camera.up; // up is always (0,0,1)\n",
       "        var textArea = document.createElement('textarea');\n",
       "        var cam_position = JSON.stringify(pos_r);\n",
       "        textArea.textContent = ',camera_position=' + cam_position;\n",
       "        textArea.style.csstext = 'position: absolute; top: -100%';\n",
       "        document.body.append( textArea );\n",
       "        textArea.select();\n",
       "        document.execCommand( 'copy' );\n",
       "\n",
       "        var m = document.getElementById( 'menu-message' );\n",
       "        m.innerHTML = 'Camera position '+ cam_position+' copied to clipboard';\n",
       "        m.style.display = 'block';\n",
       "        setTimeout( function() { m.style.display = 'none'; }, 2000 );\n",
       "\n",
       "    }\n",
       "                                       \n",
       "</script>\n",
       "\n",
       "<div id=&quot;menu-container&quot; onclick=&quot;toggleMenu()&quot;>&#x24d8;\n",
       "<div id=&quot;menu-message&quot;></div>\n",
       "<div id=&quot;menu-content&quot;>\n",
       "<div onclick=&quot;saveAsPNG()&quot;>Save as PNG</div>\n",
       "<div onclick=&quot;saveAsHTML()&quot;>Save as HTML</div>\n",
       "<div onclick=&quot;getCamera()&quot;>Get camera</div>\n",
       "<div onclick=&quot;getViewpoint()&quot;>Get viewpoint</div>\n",
       "<div>Close Menu</div>\n",
       "</div></div>\n",
       "\n",
       "\n",
       "</body>\n",
       "</html>\n",
       "\"\n",
       "        width=\"100%\"\n",
       "        height=\"400\"\n",
       "        style=\"border: 0;\">\n",
       "</iframe>\n"
      ],
      "text/plain": [
       "Graphics3d Object"
      ]
     },
     "metadata": {},
     "output_type": "display_data"
    }
   ],
   "source": [
    "G=graphs.DodecahedralGraph()\n",
    "G.show3d()"
   ]
  },
  {
   "cell_type": "markdown",
   "id": "9c09e38d",
   "metadata": {},
   "source": [
    "# 有限体"
   ]
  },
  {
   "cell_type": "code",
   "execution_count": 36,
   "id": "7909ff08",
   "metadata": {},
   "outputs": [
    {
     "data": {
      "text/plain": [
       "Finite Field in c of size 5^2"
      ]
     },
     "execution_count": 36,
     "metadata": {},
     "output_type": "execute_result"
    }
   ],
   "source": [
    "k = GF(5^2, 'c'); k"
   ]
  },
  {
   "cell_type": "code",
   "execution_count": 37,
   "id": "4cacfa7f",
   "metadata": {},
   "outputs": [
    {
     "data": {
      "text/plain": [
       "<class 'sage.rings.finite_rings.finite_field_givaro.FiniteField_givaro_with_category'>"
      ]
     },
     "execution_count": 37,
     "metadata": {},
     "output_type": "execute_result"
    }
   ],
   "source": [
    "type(k)"
   ]
  },
  {
   "cell_type": "code",
   "execution_count": 38,
   "id": "f4f696ba",
   "metadata": {},
   "outputs": [
    {
     "data": {
      "text/plain": [
       "Finite Field in c of size 2^16"
      ]
     },
     "execution_count": 38,
     "metadata": {},
     "output_type": "execute_result"
    }
   ],
   "source": [
    "k1 = GF(2^16, 'c'); k1"
   ]
  },
  {
   "cell_type": "code",
   "execution_count": 40,
   "id": "736decf8",
   "metadata": {},
   "outputs": [
    {
     "data": {
      "text/plain": [
       "Finite Field in c of size 3^16"
      ]
     },
     "execution_count": 40,
     "metadata": {},
     "output_type": "execute_result"
    }
   ],
   "source": [
    "k2 = GF(3^16,'c'); k2"
   ]
  },
  {
   "cell_type": "code",
   "execution_count": 41,
   "id": "be575a30",
   "metadata": {},
   "outputs": [
    {
     "data": {
      "text/plain": [
       "<class 'sage.rings.finite_rings.finite_field_pari_ffelt.FiniteField_pari_ffelt_with_category'>"
      ]
     },
     "execution_count": 41,
     "metadata": {},
     "output_type": "execute_result"
    }
   ],
   "source": [
    "type(k2)"
   ]
  },
  {
   "cell_type": "code",
   "execution_count": 42,
   "id": "7e3411d3",
   "metadata": {},
   "outputs": [
    {
     "data": {
      "text/plain": [
       "Finite Field in a of size 3^2"
      ]
     },
     "execution_count": 42,
     "metadata": {},
     "output_type": "execute_result"
    }
   ],
   "source": [
    "k3 = GF(9, 'a'); k3"
   ]
  },
  {
   "cell_type": "code",
   "execution_count": 43,
   "id": "38b59b63",
   "metadata": {},
   "outputs": [
    {
     "name": "stdout",
     "output_type": "stream",
     "text": [
      "0 0\n",
      "1 a\n",
      "2 a + 1\n",
      "3 2*a + 1\n",
      "4 2\n",
      "5 2*a\n",
      "6 2*a + 2\n",
      "7 a + 2\n",
      "8 1\n"
     ]
    }
   ],
   "source": [
    "for i,x in enumerate(k3):  print(\"{} {}\".format(i, x))"
   ]
  },
  {
   "cell_type": "code",
   "execution_count": 45,
   "id": "505fabb4",
   "metadata": {},
   "outputs": [
    {
     "name": "stdout",
     "output_type": "stream",
     "text": [
      "0\n",
      "1\n",
      "2\n",
      "3\n",
      "4\n"
     ]
    }
   ],
   "source": [
    "for a in GF(5):\n",
    "    print(a)"
   ]
  },
  {
   "cell_type": "code",
   "execution_count": null,
   "id": "cae16640",
   "metadata": {},
   "outputs": [],
   "source": []
  }
 ],
 "metadata": {
  "kernelspec": {
   "display_name": "SageMath 9.7",
   "language": "sage",
   "name": "sagemath-9.7"
  },
  "language_info": {
   "codemirror_mode": {
    "name": "ipython",
    "version": 3
   },
   "file_extension": ".py",
   "mimetype": "text/x-python",
   "name": "python",
   "nbconvert_exporter": "python",
   "pygments_lexer": "ipython3",
   "version": "3.10.5"
  }
 },
 "nbformat": 4,
 "nbformat_minor": 5
}
